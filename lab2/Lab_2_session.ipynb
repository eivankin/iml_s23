{
 "cells": [
  {
   "cell_type": "markdown",
   "source": [
    "# Lab-2: Linear/Polynomial Regression.\n",
    "_____\n",
    "In this lab, you will Practice applying different Regression algorithms, and play with models to experiece underfitting vs. overfitting.\n",
    "\n",
    "### Objectives:\n",
    "\n",
    "1. Machine Learning Workflow\n",
    "2. Simple Linear Regression\n",
    "3. Multiple Linear Regression\n",
    "4. Polynomial Regression\n",
    "\n"
   ],
   "metadata": {
    "collapsed": false,
    "pycharm": {
     "name": "#%% md\n"
    }
   }
  },
  {
   "cell_type": "markdown",
   "source": [
    "## Machine Learning Workflow\n",
    "\n",
    "#### The High-level overview of the stages in the ML workflow can be:\n",
    "\n",
    "1. Source and prepare your data.\n",
    "2. Develop your model.\n",
    "3. Train an ML model on your data:\n",
    " - Train model\n",
    " - Evaluate model accuracy\n",
    " - Tune hyper-parameters\n",
    "4. Deploy your trained model.\n",
    "5. Send prediction requests to your model\n",
    "6. Monitor the predictions on an ongoing basis"
   ],
   "metadata": {
    "collapsed": false,
    "pycharm": {
     "name": "#%% md\n"
    }
   }
  },
  {
   "cell_type": "markdown",
   "source": [
    "## Regression\n",
    "1. What is linear regression?\n",
    "<span style=\"color:green\">Regression searches for relationships among variables. Generally, in regression analysis, we usually consider some phenomenon of interest and have a number of observations. Each observation has two or more features. Following the assumption that (at least) one of the features depends on the others, we try to establish a relation among them. The dependent features are called the dependent variables, outputs, or responses. The independent features are called the independent variables, inputs, or predictors.</span>\n",
    "2. When Do We Need Regression?\n",
    "<span style=\"color:green\"> Typically, we need regression to answer whether and how some phenomenon influences the other or how several variables are related. For example, we can use it to determine if and to what extent the experience or gender impact salaries. </span>\n"
   ],
   "metadata": {
    "collapsed": false,
    "pycharm": {
     "name": "#%% md\n"
    }
   }
  },
  {
   "cell_type": "markdown",
   "source": [
    "## Linear Regression\n",
    "1. What is linear regression?\n",
    "<span style=\"color:green\">When implementing linear regression of some dependent variable $ y $ on the set of independent variables $ \\bold{x} $ = $( x_1 , …, x_r)$, where $r$ is the number of predictors, we assume a linear relationship between $ y $  and $ \\bold{x} $ :  $ y $  =$\\beta_0 + \\beta_1 x_1 + .... + \\beta_r x_r + \\epsilon$. This equation is the regression equation. $\\beta_0, \\beta_1, ...., \\beta_r $ are the regression coefficients, and $ \\epsilon$ is the random irreducible error.\n",
    "\n",
    "</span>\n",
    "\n",
    "In this regression task we will predict the percentage of marks that a student is expected to score based upon the number of hours they studied. This is a simple linear regression task as it involves just two variables.\n"
   ],
   "metadata": {
    "collapsed": false,
    "pycharm": {
     "name": "#%% md\n"
    }
   },
   "outputs": [
    {
     "ename": "SyntaxError",
     "evalue": "invalid syntax (1134280793.py, line 3)",
     "output_type": "error",
     "traceback": [
      "\u001B[0;36m  Cell \u001B[0;32mIn[1], line 3\u001B[0;36m\u001B[0m\n\u001B[0;31m    <span style=\"color:green\">When implementing linear regression of some dependent variable $ y $ on the set of independent variables $ \\bold{x} $ = $( x_1 , …, x_r)$, where 𝑟 is the number of predictors, we assume a linear relationship between $ y $  and $ \\bold{x} $ :  $ y $  =$\\beta_0 + \\beta_1 x_1 + .... + \\beta_r x_r + \\epsilon$. This equation is the regression equation. $\\beta_0, \\beta_1, ...., \\beta_r $ are the regression coefficients, and $ \\epsilon$ is the random irreducible error.\u001B[0m\n\u001B[0m    ^\u001B[0m\n\u001B[0;31mSyntaxError\u001B[0m\u001B[0;31m:\u001B[0m invalid syntax\n"
     ]
    }
   ],
   "execution_count": 1
  },
  {
   "cell_type": "markdown",
   "source": [
    "##### Step 1. Reading & Preparing Data"
   ],
   "metadata": {
    "collapsed": false,
    "pycharm": {
     "name": "#%% md\n"
    }
   }
  },
  {
   "cell_type": "code",
   "execution_count": 1,
   "outputs": [],
   "source": [
    "import pandas as pd\n",
    "import numpy as np\n",
    "import matplotlib.pyplot as plt\n",
    "%matplotlib inline"
   ],
   "metadata": {
    "collapsed": false,
    "pycharm": {
     "name": "#%%\n"
    }
   }
  },
  {
   "cell_type": "markdown",
   "source": [],
   "metadata": {
    "collapsed": false,
    "pycharm": {
     "name": "#%% md\n"
    }
   }
  },
  {
   "cell_type": "code",
   "execution_count": 2,
   "outputs": [
    {
     "data": {
      "text/plain": "(25, 2)"
     },
     "execution_count": 2,
     "metadata": {},
     "output_type": "execute_result"
    }
   ],
   "source": [
    "dataset = pd.read_csv('student_scores.csv')\n",
    "dataset.shape"
   ],
   "metadata": {
    "collapsed": false,
    "pycharm": {
     "name": "#%%\n"
    }
   }
  },
  {
   "cell_type": "code",
   "execution_count": 3,
   "outputs": [
    {
     "data": {
      "text/plain": "   Hours  Scores\n0    2.5      21\n1    5.1      47\n2    3.2      27\n3    8.5      75\n4    3.5      30",
      "text/html": "<div>\n<style scoped>\n    .dataframe tbody tr th:only-of-type {\n        vertical-align: middle;\n    }\n\n    .dataframe tbody tr th {\n        vertical-align: top;\n    }\n\n    .dataframe thead th {\n        text-align: right;\n    }\n</style>\n<table border=\"1\" class=\"dataframe\">\n  <thead>\n    <tr style=\"text-align: right;\">\n      <th></th>\n      <th>Hours</th>\n      <th>Scores</th>\n    </tr>\n  </thead>\n  <tbody>\n    <tr>\n      <th>0</th>\n      <td>2.5</td>\n      <td>21</td>\n    </tr>\n    <tr>\n      <th>1</th>\n      <td>5.1</td>\n      <td>47</td>\n    </tr>\n    <tr>\n      <th>2</th>\n      <td>3.2</td>\n      <td>27</td>\n    </tr>\n    <tr>\n      <th>3</th>\n      <td>8.5</td>\n      <td>75</td>\n    </tr>\n    <tr>\n      <th>4</th>\n      <td>3.5</td>\n      <td>30</td>\n    </tr>\n  </tbody>\n</table>\n</div>"
     },
     "execution_count": 3,
     "metadata": {},
     "output_type": "execute_result"
    }
   ],
   "source": [
    "dataset.head(5)"
   ],
   "metadata": {
    "collapsed": false,
    "pycharm": {
     "name": "#%%\n"
    }
   }
  },
  {
   "cell_type": "code",
   "execution_count": 4,
   "outputs": [
    {
     "data": {
      "text/plain": "           Hours     Scores\ncount  25.000000  25.000000\nmean    5.012000  51.480000\nstd     2.525094  25.286887\nmin     1.100000  17.000000\n25%     2.700000  30.000000\n50%     4.800000  47.000000\n75%     7.400000  75.000000\nmax     9.200000  95.000000",
      "text/html": "<div>\n<style scoped>\n    .dataframe tbody tr th:only-of-type {\n        vertical-align: middle;\n    }\n\n    .dataframe tbody tr th {\n        vertical-align: top;\n    }\n\n    .dataframe thead th {\n        text-align: right;\n    }\n</style>\n<table border=\"1\" class=\"dataframe\">\n  <thead>\n    <tr style=\"text-align: right;\">\n      <th></th>\n      <th>Hours</th>\n      <th>Scores</th>\n    </tr>\n  </thead>\n  <tbody>\n    <tr>\n      <th>count</th>\n      <td>25.000000</td>\n      <td>25.000000</td>\n    </tr>\n    <tr>\n      <th>mean</th>\n      <td>5.012000</td>\n      <td>51.480000</td>\n    </tr>\n    <tr>\n      <th>std</th>\n      <td>2.525094</td>\n      <td>25.286887</td>\n    </tr>\n    <tr>\n      <th>min</th>\n      <td>1.100000</td>\n      <td>17.000000</td>\n    </tr>\n    <tr>\n      <th>25%</th>\n      <td>2.700000</td>\n      <td>30.000000</td>\n    </tr>\n    <tr>\n      <th>50%</th>\n      <td>4.800000</td>\n      <td>47.000000</td>\n    </tr>\n    <tr>\n      <th>75%</th>\n      <td>7.400000</td>\n      <td>75.000000</td>\n    </tr>\n    <tr>\n      <th>max</th>\n      <td>9.200000</td>\n      <td>95.000000</td>\n    </tr>\n  </tbody>\n</table>\n</div>"
     },
     "execution_count": 4,
     "metadata": {},
     "output_type": "execute_result"
    }
   ],
   "source": [
    "dataset.describe()"
   ],
   "metadata": {
    "collapsed": false,
    "pycharm": {
     "name": "#%%\n"
    }
   }
  },
  {
   "cell_type": "markdown",
   "source": [
    "### Data Plotting:\n",
    "plot the data points on 2-D graph to eyeball our dataset and see if we can manually find any relationship between the data:"
   ],
   "metadata": {
    "collapsed": false,
    "pycharm": {
     "name": "#%% md\n"
    }
   }
  },
  {
   "cell_type": "code",
   "execution_count": 5,
   "outputs": [
    {
     "data": {
      "text/plain": "<Figure size 640x480 with 1 Axes>",
      "image/png": "[encoded data removed]"
     },
     "metadata": {},
     "output_type": "display_data"
    }
   ],
   "source": [
    "dataset.plot(x='Hours', y='Scores', style='o')\n",
    "plt.title('Hours vs Percentage')\n",
    "plt.xlabel('Hours Studied')\n",
    "plt.ylabel('Percentage Score')\n",
    "plt.show()"
   ],
   "metadata": {
    "collapsed": false,
    "pycharm": {
     "name": "#%%\n"
    }
   }
  },
  {
   "cell_type": "markdown",
   "source": [
    "### Train/Test splitting"
   ],
   "metadata": {
    "collapsed": false,
    "pycharm": {
     "name": "#%% md\n"
    }
   }
  },
  {
   "cell_type": "code",
   "execution_count": 6,
   "outputs": [],
   "source": [
    "X = dataset.drop('Scores', axis=1)\n",
    "y = dataset['Scores']"
   ],
   "metadata": {
    "collapsed": false,
    "pycharm": {
     "name": "#%%\n"
    }
   }
  },
  {
   "cell_type": "markdown",
   "source": [
    "##### Task 1 Split the training data to train/test data with a ratio\n",
    "\n",
    "https://scikit-learn.org/stable/modules/generated/sklearn.model_selection.train_test_split.html"
   ],
   "metadata": {
    "collapsed": false,
    "pycharm": {
     "name": "#%% md\n"
    }
   }
  },
  {
   "cell_type": "code",
   "execution_count": 7,
   "outputs": [],
   "source": [
    "from sklearn.model_selection import train_test_split\n",
    "\n",
    "X_train, X_test, y_train, y_test = train_test_split(X, y, random_state=42)"
   ],
   "metadata": {
    "collapsed": false,
    "pycharm": {
     "name": "#%%\n"
    }
   }
  },
  {
   "cell_type": "markdown",
   "source": [
    "##### Step 2 & 3. Build and fit Linear Regression Model"
   ],
   "metadata": {
    "collapsed": false,
    "pycharm": {
     "name": "#%% md\n"
    }
   }
  },
  {
   "cell_type": "code",
   "execution_count": 8,
   "outputs": [
    {
     "name": "stdout",
     "output_type": "stream",
     "text": [
      "2.4803670915057623\n",
      "[9.71409219]\n"
     ]
    }
   ],
   "source": [
    "from sklearn.linear_model import LinearRegression\n",
    "regressor = LinearRegression()\n",
    "regressor.fit(X_train, y_train)\n",
    "print(regressor.intercept_)\n",
    "print(regressor.coef_)"
   ],
   "metadata": {
    "collapsed": false,
    "pycharm": {
     "name": "#%%\n"
    }
   }
  },
  {
   "cell_type": "markdown",
   "source": [
    "##### Step 3.2 Evaluate the performance of the linear regression model on test dataset"
   ],
   "metadata": {
    "collapsed": false,
    "pycharm": {
     "name": "#%% md\n"
    }
   }
  },
  {
   "cell_type": "code",
   "execution_count": 9,
   "outputs": [
    {
     "data": {
      "text/plain": "    Actual  Predicted\n8       81  83.107332\n16      30  26.765598\n0       21  26.765598\n23      76  69.507603\n11      62  59.793511\n9       25  28.708416\n13      42  34.536871",
      "text/html": "<div>\n<style scoped>\n    .dataframe tbody tr th:only-of-type {\n        vertical-align: middle;\n    }\n\n    .dataframe tbody tr th {\n        vertical-align: top;\n    }\n\n    .dataframe thead th {\n        text-align: right;\n    }\n</style>\n<table border=\"1\" class=\"dataframe\">\n  <thead>\n    <tr style=\"text-align: right;\">\n      <th></th>\n      <th>Actual</th>\n      <th>Predicted</th>\n    </tr>\n  </thead>\n  <tbody>\n    <tr>\n      <th>8</th>\n      <td>81</td>\n      <td>83.107332</td>\n    </tr>\n    <tr>\n      <th>16</th>\n      <td>30</td>\n      <td>26.765598</td>\n    </tr>\n    <tr>\n      <th>0</th>\n      <td>21</td>\n      <td>26.765598</td>\n    </tr>\n    <tr>\n      <th>23</th>\n      <td>76</td>\n      <td>69.507603</td>\n    </tr>\n    <tr>\n      <th>11</th>\n      <td>62</td>\n      <td>59.793511</td>\n    </tr>\n    <tr>\n      <th>9</th>\n      <td>25</td>\n      <td>28.708416</td>\n    </tr>\n    <tr>\n      <th>13</th>\n      <td>42</td>\n      <td>34.536871</td>\n    </tr>\n  </tbody>\n</table>\n</div>"
     },
     "execution_count": 9,
     "metadata": {},
     "output_type": "execute_result"
    }
   ],
   "source": [
    "y_pred = regressor.predict(X_test)\n",
    "df = pd.DataFrame({'Actual': y_test, 'Predicted': y_pred})\n",
    "df"
   ],
   "metadata": {
    "collapsed": false,
    "pycharm": {
     "name": "#%%\n"
    }
   }
  },
  {
   "cell_type": "markdown",
   "source": [
    "Q: What RMSE, MSE and R-squared tell us?\n",
    "<span style=\"color:green\"> Both RMSE and MSE tell us how much our predictions will be away from the truth on average.\n",
    "$R^2$ tells us the proportion of the variance/variability in the Y was explained by the model via the explanatory variables.\n"
   ],
   "metadata": {
    "collapsed": false,
    "pycharm": {
     "name": "#%% md\n"
    }
   }
  },
  {
   "cell_type": "markdown",
   "source": [
    "### Coefficient of determination (R²)\n",
    "\n",
    "It measures how well a statistical model predicts an outcome. The outcome is\n",
    "represented by the model’s dependent variable.\n",
    "\n",
    "The lowest possible value of R² is 0 and the highest possible value is 1. Put\n",
    "simply, the better a model is at making predictions, the closer its R² will be to 1.\n",
    "\n",
    "$R^2 = 1 - (RSS/TSS)$\n",
    "\n",
    "where $RSS$ =  sum of squared residuals and $TSS$ = total sum of squares"
   ],
   "metadata": {
    "collapsed": false,
    "pycharm": {
     "name": "#%% md\n"
    }
   }
  },
  {
   "cell_type": "markdown",
   "source": [
    "##### Task 2: Write a function that takes the predicted output and the actual output and prints the MSE, RMSE, MAE and R\n",
    "coefficient value"
   ],
   "metadata": {
    "collapsed": false,
    "pycharm": {
     "name": "#%% md\n"
    }
   }
  },
  {
   "cell_type": "code",
   "execution_count": 10,
   "outputs": [],
   "source": [
    "from sklearn import metrics\n",
    "\n",
    "def print_metrics(y_actual, y_predicted):\n",
    "    print(f'MAE: {metrics.mean_absolute_error(y_actual, y_predicted)}')\n",
    "    print(f'MSE: {metrics.mean_squared_error(y_actual, y_predicted)}')\n",
    "    print(f'RMSE: {metrics.mean_squared_error(y_actual, y_predicted, squared=False)}')\n",
    "    print(f'R^2: {metrics.r2_score(y_actual, y_predicted)}')\n"
   ],
   "metadata": {
    "collapsed": false,
    "pycharm": {
     "name": "#%%\n"
    }
   }
  },
  {
   "cell_type": "code",
   "execution_count": 11,
   "outputs": [
    {
     "name": "stdout",
     "output_type": "stream",
     "text": [
      "MAE: 4.425394675156182\n",
      "MSE: 23.51639603459522\n",
      "RMSE: 4.849370684387328\n",
      "R^2: 0.9553509219739938\n"
     ]
    }
   ],
   "source": [
    "print_metrics(y_test, y_pred)"
   ],
   "metadata": {
    "collapsed": false,
    "pycharm": {
     "name": "#%%\n"
    }
   }
  },
  {
   "cell_type": "markdown",
   "source": [
    "### Multiple Linear Regression\n",
    "Linear regression involving multiple variables is called \"multiple linear regression\"\n",
    "We will use multiple linear regression to predict the car price based on the model of the car, the horse-power, peak rpm, fuel type, etc.\n",
    "We seek a model of the form:\n",
    "\n",
    "$Y = A_0 * X_0 + A_1 * X_1 + A_2 * X_2 + A_3 * X_3 + A_4 * X_4.$"
   ],
   "metadata": {
    "collapsed": false,
    "pycharm": {
     "name": "#%% md\n"
    }
   }
  },
  {
   "cell_type": "markdown",
   "source": [
    "##### Step 1. Reading & Preparing Data"
   ],
   "metadata": {
    "collapsed": false,
    "pycharm": {
     "name": "#%% md\n"
    }
   }
  },
  {
   "cell_type": "code",
   "execution_count": 12,
   "outputs": [],
   "source": [
    "import pandas as pd\n",
    "%matplotlib inline"
   ],
   "metadata": {
    "collapsed": false,
    "pycharm": {
     "name": "#%%\n"
    }
   }
  },
  {
   "cell_type": "code",
   "execution_count": 74,
   "outputs": [
    {
     "data": {
      "text/plain": "   car_ID  symboling                   CarName doornumber      carbody  \\\n0       1          3        alfa-romero giulia        two  convertible   \n1       2          3       alfa-romero stelvio        two  convertible   \n2       3          1  alfa-romero Quadrifoglio        two    hatchback   \n3       4          2               audi 100 ls       four        sedan   \n4       5          2                audi 100ls       four        sedan   \n\n   wheelbase  carlength  carwidth  carheight  curbweight cylindernumber  \\\n0       88.6      168.8      64.1       48.8        2548           four   \n1       88.6      168.8      64.1       48.8        2548           four   \n2       94.5      171.2      65.5       52.4        2823            six   \n3       99.8      176.6      66.2       54.3        2337           four   \n4       99.4      176.6      66.4       54.3        2824           five   \n\n   enginesize  boreratio  stroke  compressionratio  horsepower  peakrpm  \\\n0         130       3.47    2.68               9.0         111     5000   \n1         130       3.47    2.68               9.0         111     5000   \n2         152       2.68    3.47               9.0         154     5000   \n3         109       3.19    3.40              10.0         102     5500   \n4         136       3.19    3.40               8.0         115     5500   \n\n   citympg  highwaympg    price  \n0       21          27  13495.0  \n1       21          27  16500.0  \n2       19          26  16500.0  \n3       24          30  13950.0  \n4       18          22  17450.0  ",
      "text/html": "<div>\n<style scoped>\n    .dataframe tbody tr th:only-of-type {\n        vertical-align: middle;\n    }\n\n    .dataframe tbody tr th {\n        vertical-align: top;\n    }\n\n    .dataframe thead th {\n        text-align: right;\n    }\n</style>\n<table border=\"1\" class=\"dataframe\">\n  <thead>\n    <tr style=\"text-align: right;\">\n      <th></th>\n      <th>car_ID</th>\n      <th>symboling</th>\n      <th>CarName</th>\n      <th>doornumber</th>\n      <th>carbody</th>\n      <th>wheelbase</th>\n      <th>carlength</th>\n      <th>carwidth</th>\n      <th>carheight</th>\n      <th>curbweight</th>\n      <th>cylindernumber</th>\n      <th>enginesize</th>\n      <th>boreratio</th>\n      <th>stroke</th>\n      <th>compressionratio</th>\n      <th>horsepower</th>\n      <th>peakrpm</th>\n      <th>citympg</th>\n      <th>highwaympg</th>\n      <th>price</th>\n    </tr>\n  </thead>\n  <tbody>\n    <tr>\n      <th>0</th>\n      <td>1</td>\n      <td>3</td>\n      <td>alfa-romero giulia</td>\n      <td>two</td>\n      <td>convertible</td>\n      <td>88.6</td>\n      <td>168.8</td>\n      <td>64.1</td>\n      <td>48.8</td>\n      <td>2548</td>\n      <td>four</td>\n      <td>130</td>\n      <td>3.47</td>\n      <td>2.68</td>\n      <td>9.0</td>\n      <td>111</td>\n      <td>5000</td>\n      <td>21</td>\n      <td>27</td>\n      <td>13495.0</td>\n    </tr>\n    <tr>\n      <th>1</th>\n      <td>2</td>\n      <td>3</td>\n      <td>alfa-romero stelvio</td>\n      <td>two</td>\n      <td>convertible</td>\n      <td>88.6</td>\n      <td>168.8</td>\n      <td>64.1</td>\n      <td>48.8</td>\n      <td>2548</td>\n      <td>four</td>\n      <td>130</td>\n      <td>3.47</td>\n      <td>2.68</td>\n      <td>9.0</td>\n      <td>111</td>\n      <td>5000</td>\n      <td>21</td>\n      <td>27</td>\n      <td>16500.0</td>\n    </tr>\n    <tr>\n      <th>2</th>\n      <td>3</td>\n      <td>1</td>\n      <td>alfa-romero Quadrifoglio</td>\n      <td>two</td>\n      <td>hatchback</td>\n      <td>94.5</td>\n      <td>171.2</td>\n      <td>65.5</td>\n      <td>52.4</td>\n      <td>2823</td>\n      <td>six</td>\n      <td>152</td>\n      <td>2.68</td>\n      <td>3.47</td>\n      <td>9.0</td>\n      <td>154</td>\n      <td>5000</td>\n      <td>19</td>\n      <td>26</td>\n      <td>16500.0</td>\n    </tr>\n    <tr>\n      <th>3</th>\n      <td>4</td>\n      <td>2</td>\n      <td>audi 100 ls</td>\n      <td>four</td>\n      <td>sedan</td>\n      <td>99.8</td>\n      <td>176.6</td>\n      <td>66.2</td>\n      <td>54.3</td>\n      <td>2337</td>\n      <td>four</td>\n      <td>109</td>\n      <td>3.19</td>\n      <td>3.40</td>\n      <td>10.0</td>\n      <td>102</td>\n      <td>5500</td>\n      <td>24</td>\n      <td>30</td>\n      <td>13950.0</td>\n    </tr>\n    <tr>\n      <th>4</th>\n      <td>5</td>\n      <td>2</td>\n      <td>audi 100ls</td>\n      <td>four</td>\n      <td>sedan</td>\n      <td>99.4</td>\n      <td>176.6</td>\n      <td>66.4</td>\n      <td>54.3</td>\n      <td>2824</td>\n      <td>five</td>\n      <td>136</td>\n      <td>3.19</td>\n      <td>3.40</td>\n      <td>8.0</td>\n      <td>115</td>\n      <td>5500</td>\n      <td>18</td>\n      <td>22</td>\n      <td>17450.0</td>\n    </tr>\n  </tbody>\n</table>\n</div>"
     },
     "execution_count": 74,
     "metadata": {},
     "output_type": "execute_result"
    }
   ],
   "source": [
    "dataset = pd.read_csv('CarPrice_modified.csv')\n",
    "\n",
    "X = dataset.drop(columns=['price', 'car_ID'])\n",
    "y = dataset['price']\n",
    "\n",
    "dataset.head()"
   ],
   "metadata": {
    "collapsed": false,
    "pycharm": {
     "name": "#%%\n"
    }
   }
  },
  {
   "cell_type": "markdown",
   "source": [
    "First we need to Standardise our Training Data, specially the car name to encode them properly\n"
   ],
   "metadata": {
    "collapsed": false,
    "pycharm": {
     "name": "#%% md\n"
    }
   }
  },
  {
   "cell_type": "markdown",
   "source": [
    "##### Task 3. Get the brand name only without the model in CarName column and put it as the new CarName column"
   ],
   "metadata": {
    "collapsed": false,
    "pycharm": {
     "name": "#%% md\n"
    }
   }
  },
  {
   "cell_type": "code",
   "execution_count": 75,
   "outputs": [],
   "source": [
    "X['CarName'] = X['CarName'].str.split().str.get(0)"
   ],
   "metadata": {
    "collapsed": false,
    "pycharm": {
     "name": "#%%\n"
    }
   }
  },
  {
   "cell_type": "code",
   "execution_count": 76,
   "outputs": [
    {
     "data": {
      "text/plain": "   symboling      CarName doornumber      carbody  wheelbase  carlength  \\\n0          3  alfa-romero        two  convertible       88.6      168.8   \n1          3  alfa-romero        two  convertible       88.6      168.8   \n2          1  alfa-romero        two    hatchback       94.5      171.2   \n3          2         audi       four        sedan       99.8      176.6   \n4          2         audi       four        sedan       99.4      176.6   \n\n   carwidth  carheight  curbweight cylindernumber  enginesize  boreratio  \\\n0      64.1       48.8        2548           four         130       3.47   \n1      64.1       48.8        2548           four         130       3.47   \n2      65.5       52.4        2823            six         152       2.68   \n3      66.2       54.3        2337           four         109       3.19   \n4      66.4       54.3        2824           five         136       3.19   \n\n   stroke  compressionratio  horsepower  peakrpm  citympg  highwaympg  \n0    2.68               9.0         111     5000       21          27  \n1    2.68               9.0         111     5000       21          27  \n2    3.47               9.0         154     5000       19          26  \n3    3.40              10.0         102     5500       24          30  \n4    3.40               8.0         115     5500       18          22  ",
      "text/html": "<div>\n<style scoped>\n    .dataframe tbody tr th:only-of-type {\n        vertical-align: middle;\n    }\n\n    .dataframe tbody tr th {\n        vertical-align: top;\n    }\n\n    .dataframe thead th {\n        text-align: right;\n    }\n</style>\n<table border=\"1\" class=\"dataframe\">\n  <thead>\n    <tr style=\"text-align: right;\">\n      <th></th>\n      <th>symboling</th>\n      <th>CarName</th>\n      <th>doornumber</th>\n      <th>carbody</th>\n      <th>wheelbase</th>\n      <th>carlength</th>\n      <th>carwidth</th>\n      <th>carheight</th>\n      <th>curbweight</th>\n      <th>cylindernumber</th>\n      <th>enginesize</th>\n      <th>boreratio</th>\n      <th>stroke</th>\n      <th>compressionratio</th>\n      <th>horsepower</th>\n      <th>peakrpm</th>\n      <th>citympg</th>\n      <th>highwaympg</th>\n    </tr>\n  </thead>\n  <tbody>\n    <tr>\n      <th>0</th>\n      <td>3</td>\n      <td>alfa-romero</td>\n      <td>two</td>\n      <td>convertible</td>\n      <td>88.6</td>\n      <td>168.8</td>\n      <td>64.1</td>\n      <td>48.8</td>\n      <td>2548</td>\n      <td>four</td>\n      <td>130</td>\n      <td>3.47</td>\n      <td>2.68</td>\n      <td>9.0</td>\n      <td>111</td>\n      <td>5000</td>\n      <td>21</td>\n      <td>27</td>\n    </tr>\n    <tr>\n      <th>1</th>\n      <td>3</td>\n      <td>alfa-romero</td>\n      <td>two</td>\n      <td>convertible</td>\n      <td>88.6</td>\n      <td>168.8</td>\n      <td>64.1</td>\n      <td>48.8</td>\n      <td>2548</td>\n      <td>four</td>\n      <td>130</td>\n      <td>3.47</td>\n      <td>2.68</td>\n      <td>9.0</td>\n      <td>111</td>\n      <td>5000</td>\n      <td>21</td>\n      <td>27</td>\n    </tr>\n    <tr>\n      <th>2</th>\n      <td>1</td>\n      <td>alfa-romero</td>\n      <td>two</td>\n      <td>hatchback</td>\n      <td>94.5</td>\n      <td>171.2</td>\n      <td>65.5</td>\n      <td>52.4</td>\n      <td>2823</td>\n      <td>six</td>\n      <td>152</td>\n      <td>2.68</td>\n      <td>3.47</td>\n      <td>9.0</td>\n      <td>154</td>\n      <td>5000</td>\n      <td>19</td>\n      <td>26</td>\n    </tr>\n    <tr>\n      <th>3</th>\n      <td>2</td>\n      <td>audi</td>\n      <td>four</td>\n      <td>sedan</td>\n      <td>99.8</td>\n      <td>176.6</td>\n      <td>66.2</td>\n      <td>54.3</td>\n      <td>2337</td>\n      <td>four</td>\n      <td>109</td>\n      <td>3.19</td>\n      <td>3.40</td>\n      <td>10.0</td>\n      <td>102</td>\n      <td>5500</td>\n      <td>24</td>\n      <td>30</td>\n    </tr>\n    <tr>\n      <th>4</th>\n      <td>2</td>\n      <td>audi</td>\n      <td>four</td>\n      <td>sedan</td>\n      <td>99.4</td>\n      <td>176.6</td>\n      <td>66.4</td>\n      <td>54.3</td>\n      <td>2824</td>\n      <td>five</td>\n      <td>136</td>\n      <td>3.19</td>\n      <td>3.40</td>\n      <td>8.0</td>\n      <td>115</td>\n      <td>5500</td>\n      <td>18</td>\n      <td>22</td>\n    </tr>\n  </tbody>\n</table>\n</div>"
     },
     "execution_count": 76,
     "metadata": {},
     "output_type": "execute_result"
    }
   ],
   "source": [
    "X.head()"
   ],
   "metadata": {
    "collapsed": false,
    "pycharm": {
     "name": "#%%\n"
    }
   }
  },
  {
   "cell_type": "code",
   "execution_count": 77,
   "outputs": [
    {
     "data": {
      "text/plain": "toyota         31\nnissan         17\nmazda          15\nhonda          13\nmitsubishi     13\nsubaru         12\npeugeot        11\nvolvo          11\nvolkswagen      9\ndodge           9\nbuick           8\nbmw             8\naudi            7\nplymouth        7\nsaab            6\nisuzu           4\nporsche         4\nalfa-romero     3\nchevrolet       3\njaguar          3\nvw              2\nmaxda           2\nrenault         2\ntoyouta         1\nvokswagen       1\nNissan          1\nmercury         1\nporcshce        1\nName: CarName, dtype: int64"
     },
     "execution_count": 77,
     "metadata": {},
     "output_type": "execute_result"
    }
   ],
   "source": [
    "X.CarName.value_counts()"
   ],
   "metadata": {
    "collapsed": false,
    "pycharm": {
     "name": "#%%\n"
    }
   }
  },
  {
   "cell_type": "markdown",
   "source": [
    "As you can see there are a lot of spelling mistakes, let's clean them"
   ],
   "metadata": {
    "collapsed": false,
    "pycharm": {
     "name": "#%% md\n"
    }
   }
  },
  {
   "cell_type": "code",
   "execution_count": 78,
   "outputs": [],
   "source": [
    "cleanup_nums = {\"CarName\": { \"maxda\": \"mazda\" , \"porcshce\": \"porsche\" , \"Nissan\": \"nissan\" , \"vokswagen\": \"volkswagen\", \"toyouta\" : \"toyota\", \"vw\" : \"volkswagen\"} }\n",
    "X.replace(cleanup_nums, inplace=True)"
   ],
   "metadata": {
    "collapsed": false,
    "pycharm": {
     "name": "#%%\n"
    }
   }
  },
  {
   "cell_type": "code",
   "execution_count": 79,
   "outputs": [
    {
     "data": {
      "text/plain": "toyota         32\nnissan         18\nmazda          17\nmitsubishi     13\nhonda          13\nvolkswagen     12\nsubaru         12\npeugeot        11\nvolvo          11\ndodge           9\nbuick           8\nbmw             8\naudi            7\nplymouth        7\nsaab            6\nporsche         5\nisuzu           4\njaguar          3\nchevrolet       3\nalfa-romero     3\nrenault         2\nmercury         1\nName: CarName, dtype: int64"
     },
     "execution_count": 79,
     "metadata": {},
     "output_type": "execute_result"
    }
   ],
   "source": [
    "X.CarName.value_counts()"
   ],
   "metadata": {
    "collapsed": false,
    "pycharm": {
     "name": "#%%\n"
    }
   }
  },
  {
   "cell_type": "markdown",
   "source": [
    "You can see a lot of ordinal and nominal variables in this dataset"
   ],
   "metadata": {
    "collapsed": false,
    "pycharm": {
     "name": "#%% md\n"
    }
   }
  },
  {
   "cell_type": "markdown",
   "source": [
    "Nominal Variable (Categorical): Variable comprises a finite set of discrete values with no relationship between values.\n",
    "Ordinal Variable: Variable comprises a finite set of discrete values with a ranked ordering between values."
   ],
   "metadata": {
    "collapsed": false,
    "pycharm": {
     "name": "#%% md\n"
    }
   }
  },
  {
   "cell_type": "markdown",
   "source": [
    "We need to encode these variables using one of many encoding techniques including:\n",
    "1- One-Hot encoding\n",
    "2- Ordinal encoding\n",
    "3- Cyclic encoding"
   ],
   "metadata": {
    "collapsed": false,
    "pycharm": {
     "name": "#%% md\n"
    }
   }
  },
  {
   "cell_type": "markdown",
   "source": [
    "#### Ordinal encoding\n",
    "In ordinal encoding, each unique category value is assigned an integer value.\n",
    "For example, \"small\" is 1, \"medium\" is 2, and \"large\" is 3.\n",
    "This is called an ordinal encoding or an integer encoding and is easily reversible. Often, integer values starting at zero are used."
   ],
   "metadata": {
    "collapsed": false,
    "pycharm": {
     "name": "#%% md\n"
    }
   }
  },
  {
   "cell_type": "markdown",
   "source": [
    "#### One-Hot Encoding\n",
    "\n",
    "We can demonstrate the usage of the OneHotEncoder on the color categories, blue, green and red. First the categories are sorted, in this case alphabetically because they are strings, then binary variables are created for each category in turn. This means blue will be represented as [1, 0, 0] with a \"1\" in for the first binary variable, then green as [0, 1, 0], then finally red as [0, 0, 1]."
   ],
   "metadata": {
    "collapsed": false,
    "pycharm": {
     "name": "#%% md\n"
    }
   }
  },
  {
   "cell_type": "code",
   "execution_count": 80,
   "outputs": [
    {
     "data": {
      "text/plain": "     symboling     CarName  doornumber    carbody  wheelbase  carlength  \\\n190          3  volkswagen         1.0  hatchback       94.5      165.7   \n191          0  volkswagen         0.0      sedan      100.4      180.2   \n192          0  volkswagen         0.0      sedan      100.4      180.2   \n193          0  volkswagen         0.0      wagon      100.4      183.1   \n194         -2       volvo         0.0      sedan      104.3      188.8   \n195         -1       volvo         0.0      wagon      104.3      188.8   \n196         -2       volvo         0.0      sedan      104.3      188.8   \n197         -1       volvo         0.0      wagon      104.3      188.8   \n198         -2       volvo         0.0      sedan      104.3      188.8   \n199         -1       volvo         0.0      wagon      104.3      188.8   \n200         -1       volvo         0.0      sedan      109.1      188.8   \n201         -1       volvo         0.0      sedan      109.1      188.8   \n202         -1       volvo         0.0      sedan      109.1      188.8   \n203         -1       volvo         0.0      sedan      109.1      188.8   \n204         -1       volvo         0.0      sedan      109.1      188.8   \n\n     carwidth  carheight  curbweight  cylindernumber  enginesize  boreratio  \\\n190      64.0       51.4        2221             2.0         109       3.19   \n191      66.9       55.1        2661             1.0         136       3.19   \n192      66.9       55.1        2579             2.0          97       3.01   \n193      66.9       55.1        2563             2.0         109       3.19   \n194      67.2       56.2        2912             2.0         141       3.78   \n195      67.2       57.5        3034             2.0         141       3.78   \n196      67.2       56.2        2935             2.0         141       3.78   \n197      67.2       57.5        3042             2.0         141       3.78   \n198      67.2       56.2        3045             2.0         130       3.62   \n199      67.2       57.5        3157             2.0         130       3.62   \n200      68.9       55.5        2952             2.0         141       3.78   \n201      68.8       55.5        3049             2.0         141       3.78   \n202      68.9       55.5        3012             3.0         173       3.58   \n203      68.9       55.5        3217             3.0         145       3.01   \n204      68.9       55.5        3062             2.0         141       3.78   \n\n     stroke  compressionratio  horsepower  peakrpm  citympg  highwaympg  \n190    3.40               8.5          90     5500       24          29  \n191    3.40               8.5         110     5500       19          24  \n192    3.40              23.0          68     4500       33          38  \n193    3.40               9.0          88     5500       25          31  \n194    3.15               9.5         114     5400       23          28  \n195    3.15               9.5         114     5400       23          28  \n196    3.15               9.5         114     5400       24          28  \n197    3.15               9.5         114     5400       24          28  \n198    3.15               7.5         162     5100       17          22  \n199    3.15               7.5         162     5100       17          22  \n200    3.15               9.5         114     5400       23          28  \n201    3.15               8.7         160     5300       19          25  \n202    2.87               8.8         134     5500       18          23  \n203    3.40              23.0         106     4800       26          27  \n204    3.15               9.5         114     5400       19          25  ",
      "text/html": "<div>\n<style scoped>\n    .dataframe tbody tr th:only-of-type {\n        vertical-align: middle;\n    }\n\n    .dataframe tbody tr th {\n        vertical-align: top;\n    }\n\n    .dataframe thead th {\n        text-align: right;\n    }\n</style>\n<table border=\"1\" class=\"dataframe\">\n  <thead>\n    <tr style=\"text-align: right;\">\n      <th></th>\n      <th>symboling</th>\n      <th>CarName</th>\n      <th>doornumber</th>\n      <th>carbody</th>\n      <th>wheelbase</th>\n      <th>carlength</th>\n      <th>carwidth</th>\n      <th>carheight</th>\n      <th>curbweight</th>\n      <th>cylindernumber</th>\n      <th>enginesize</th>\n      <th>boreratio</th>\n      <th>stroke</th>\n      <th>compressionratio</th>\n      <th>horsepower</th>\n      <th>peakrpm</th>\n      <th>citympg</th>\n      <th>highwaympg</th>\n    </tr>\n  </thead>\n  <tbody>\n    <tr>\n      <th>190</th>\n      <td>3</td>\n      <td>volkswagen</td>\n      <td>1.0</td>\n      <td>hatchback</td>\n      <td>94.5</td>\n      <td>165.7</td>\n      <td>64.0</td>\n      <td>51.4</td>\n      <td>2221</td>\n      <td>2.0</td>\n      <td>109</td>\n      <td>3.19</td>\n      <td>3.40</td>\n      <td>8.5</td>\n      <td>90</td>\n      <td>5500</td>\n      <td>24</td>\n      <td>29</td>\n    </tr>\n    <tr>\n      <th>191</th>\n      <td>0</td>\n      <td>volkswagen</td>\n      <td>0.0</td>\n      <td>sedan</td>\n      <td>100.4</td>\n      <td>180.2</td>\n      <td>66.9</td>\n      <td>55.1</td>\n      <td>2661</td>\n      <td>1.0</td>\n      <td>136</td>\n      <td>3.19</td>\n      <td>3.40</td>\n      <td>8.5</td>\n      <td>110</td>\n      <td>5500</td>\n      <td>19</td>\n      <td>24</td>\n    </tr>\n    <tr>\n      <th>192</th>\n      <td>0</td>\n      <td>volkswagen</td>\n      <td>0.0</td>\n      <td>sedan</td>\n      <td>100.4</td>\n      <td>180.2</td>\n      <td>66.9</td>\n      <td>55.1</td>\n      <td>2579</td>\n      <td>2.0</td>\n      <td>97</td>\n      <td>3.01</td>\n      <td>3.40</td>\n      <td>23.0</td>\n      <td>68</td>\n      <td>4500</td>\n      <td>33</td>\n      <td>38</td>\n    </tr>\n    <tr>\n      <th>193</th>\n      <td>0</td>\n      <td>volkswagen</td>\n      <td>0.0</td>\n      <td>wagon</td>\n      <td>100.4</td>\n      <td>183.1</td>\n      <td>66.9</td>\n      <td>55.1</td>\n      <td>2563</td>\n      <td>2.0</td>\n      <td>109</td>\n      <td>3.19</td>\n      <td>3.40</td>\n      <td>9.0</td>\n      <td>88</td>\n      <td>5500</td>\n      <td>25</td>\n      <td>31</td>\n    </tr>\n    <tr>\n      <th>194</th>\n      <td>-2</td>\n      <td>volvo</td>\n      <td>0.0</td>\n      <td>sedan</td>\n      <td>104.3</td>\n      <td>188.8</td>\n      <td>67.2</td>\n      <td>56.2</td>\n      <td>2912</td>\n      <td>2.0</td>\n      <td>141</td>\n      <td>3.78</td>\n      <td>3.15</td>\n      <td>9.5</td>\n      <td>114</td>\n      <td>5400</td>\n      <td>23</td>\n      <td>28</td>\n    </tr>\n    <tr>\n      <th>195</th>\n      <td>-1</td>\n      <td>volvo</td>\n      <td>0.0</td>\n      <td>wagon</td>\n      <td>104.3</td>\n      <td>188.8</td>\n      <td>67.2</td>\n      <td>57.5</td>\n      <td>3034</td>\n      <td>2.0</td>\n      <td>141</td>\n      <td>3.78</td>\n      <td>3.15</td>\n      <td>9.5</td>\n      <td>114</td>\n      <td>5400</td>\n      <td>23</td>\n      <td>28</td>\n    </tr>\n    <tr>\n      <th>196</th>\n      <td>-2</td>\n      <td>volvo</td>\n      <td>0.0</td>\n      <td>sedan</td>\n      <td>104.3</td>\n      <td>188.8</td>\n      <td>67.2</td>\n      <td>56.2</td>\n      <td>2935</td>\n      <td>2.0</td>\n      <td>141</td>\n      <td>3.78</td>\n      <td>3.15</td>\n      <td>9.5</td>\n      <td>114</td>\n      <td>5400</td>\n      <td>24</td>\n      <td>28</td>\n    </tr>\n    <tr>\n      <th>197</th>\n      <td>-1</td>\n      <td>volvo</td>\n      <td>0.0</td>\n      <td>wagon</td>\n      <td>104.3</td>\n      <td>188.8</td>\n      <td>67.2</td>\n      <td>57.5</td>\n      <td>3042</td>\n      <td>2.0</td>\n      <td>141</td>\n      <td>3.78</td>\n      <td>3.15</td>\n      <td>9.5</td>\n      <td>114</td>\n      <td>5400</td>\n      <td>24</td>\n      <td>28</td>\n    </tr>\n    <tr>\n      <th>198</th>\n      <td>-2</td>\n      <td>volvo</td>\n      <td>0.0</td>\n      <td>sedan</td>\n      <td>104.3</td>\n      <td>188.8</td>\n      <td>67.2</td>\n      <td>56.2</td>\n      <td>3045</td>\n      <td>2.0</td>\n      <td>130</td>\n      <td>3.62</td>\n      <td>3.15</td>\n      <td>7.5</td>\n      <td>162</td>\n      <td>5100</td>\n      <td>17</td>\n      <td>22</td>\n    </tr>\n    <tr>\n      <th>199</th>\n      <td>-1</td>\n      <td>volvo</td>\n      <td>0.0</td>\n      <td>wagon</td>\n      <td>104.3</td>\n      <td>188.8</td>\n      <td>67.2</td>\n      <td>57.5</td>\n      <td>3157</td>\n      <td>2.0</td>\n      <td>130</td>\n      <td>3.62</td>\n      <td>3.15</td>\n      <td>7.5</td>\n      <td>162</td>\n      <td>5100</td>\n      <td>17</td>\n      <td>22</td>\n    </tr>\n    <tr>\n      <th>200</th>\n      <td>-1</td>\n      <td>volvo</td>\n      <td>0.0</td>\n      <td>sedan</td>\n      <td>109.1</td>\n      <td>188.8</td>\n      <td>68.9</td>\n      <td>55.5</td>\n      <td>2952</td>\n      <td>2.0</td>\n      <td>141</td>\n      <td>3.78</td>\n      <td>3.15</td>\n      <td>9.5</td>\n      <td>114</td>\n      <td>5400</td>\n      <td>23</td>\n      <td>28</td>\n    </tr>\n    <tr>\n      <th>201</th>\n      <td>-1</td>\n      <td>volvo</td>\n      <td>0.0</td>\n      <td>sedan</td>\n      <td>109.1</td>\n      <td>188.8</td>\n      <td>68.8</td>\n      <td>55.5</td>\n      <td>3049</td>\n      <td>2.0</td>\n      <td>141</td>\n      <td>3.78</td>\n      <td>3.15</td>\n      <td>8.7</td>\n      <td>160</td>\n      <td>5300</td>\n      <td>19</td>\n      <td>25</td>\n    </tr>\n    <tr>\n      <th>202</th>\n      <td>-1</td>\n      <td>volvo</td>\n      <td>0.0</td>\n      <td>sedan</td>\n      <td>109.1</td>\n      <td>188.8</td>\n      <td>68.9</td>\n      <td>55.5</td>\n      <td>3012</td>\n      <td>3.0</td>\n      <td>173</td>\n      <td>3.58</td>\n      <td>2.87</td>\n      <td>8.8</td>\n      <td>134</td>\n      <td>5500</td>\n      <td>18</td>\n      <td>23</td>\n    </tr>\n    <tr>\n      <th>203</th>\n      <td>-1</td>\n      <td>volvo</td>\n      <td>0.0</td>\n      <td>sedan</td>\n      <td>109.1</td>\n      <td>188.8</td>\n      <td>68.9</td>\n      <td>55.5</td>\n      <td>3217</td>\n      <td>3.0</td>\n      <td>145</td>\n      <td>3.01</td>\n      <td>3.40</td>\n      <td>23.0</td>\n      <td>106</td>\n      <td>4800</td>\n      <td>26</td>\n      <td>27</td>\n    </tr>\n    <tr>\n      <th>204</th>\n      <td>-1</td>\n      <td>volvo</td>\n      <td>0.0</td>\n      <td>sedan</td>\n      <td>109.1</td>\n      <td>188.8</td>\n      <td>68.9</td>\n      <td>55.5</td>\n      <td>3062</td>\n      <td>2.0</td>\n      <td>141</td>\n      <td>3.78</td>\n      <td>3.15</td>\n      <td>9.5</td>\n      <td>114</td>\n      <td>5400</td>\n      <td>19</td>\n      <td>25</td>\n    </tr>\n  </tbody>\n</table>\n</div>"
     },
     "execution_count": 80,
     "metadata": {},
     "output_type": "execute_result"
    }
   ],
   "source": [
    "from sklearn.preprocessing import OrdinalEncoder\n",
    "# define ordinal encoding\n",
    "encoder = OrdinalEncoder()\n",
    "\n",
    "# todo: write one line code below to transform categorical data into numerical via OrdinalEncoder\n",
    "X.cylindernumber = encoder.fit_transform(np.array(X['cylindernumber']).reshape(-1, 1))\n",
    "\n",
    "X.doornumber = encoder.fit_transform(np.array(X['doornumber']).reshape(-1, 1))\n",
    "\n",
    "X.tail(15)"
   ],
   "metadata": {
    "collapsed": false,
    "pycharm": {
     "name": "#%%\n"
    }
   }
  },
  {
   "cell_type": "markdown",
   "source": [
    "##### Task 4. encode the \"CarName\" and \"carbody\" columns categorically"
   ],
   "metadata": {
    "collapsed": false,
    "pycharm": {
     "name": "#%% md\n"
    }
   }
  },
  {
   "cell_type": "code",
   "execution_count": 81,
   "outputs": [
    {
     "data": {
      "text/plain": "[array(['alfa-romero', 'audi', 'bmw', 'buick', 'chevrolet', 'dodge',\n        'honda', 'isuzu', 'jaguar', 'mazda', 'mercury', 'mitsubishi',\n        'nissan', 'peugeot', 'plymouth', 'porsche', 'renault', 'saab',\n        'subaru', 'toyota', 'volkswagen', 'volvo'], dtype=object),\n array(['convertible', 'hardtop', 'hatchback', 'sedan', 'wagon'],\n       dtype=object)]"
     },
     "execution_count": 81,
     "metadata": {},
     "output_type": "execute_result"
    }
   ],
   "source": [
    "from sklearn.preprocessing import OneHotEncoder\n",
    "\n",
    "cols = ['CarName', 'carbody']\n",
    "oh_encoder = OneHotEncoder()\n",
    "oh_encoder.fit(X[cols])\n",
    "oh_encoder.categories_"
   ],
   "metadata": {
    "collapsed": false,
    "pycharm": {
     "name": "#%%\n"
    }
   }
  },
  {
   "cell_type": "code",
   "execution_count": 82,
   "outputs": [
    {
     "data": {
      "text/plain": "   CarName_alfa-romero  CarName_audi  CarName_bmw  CarName_buick  \\\n0                    1             0            0              0   \n1                    1             0            0              0   \n2                    1             0            0              0   \n3                    0             1            0              0   \n4                    0             1            0              0   \n\n   CarName_chevrolet  CarName_dodge  CarName_honda  CarName_isuzu  \\\n0                  0              0              0              0   \n1                  0              0              0              0   \n2                  0              0              0              0   \n3                  0              0              0              0   \n4                  0              0              0              0   \n\n   CarName_jaguar  CarName_mazda  ...  CarName_saab  CarName_subaru  \\\n0               0              0  ...             0               0   \n1               0              0  ...             0               0   \n2               0              0  ...             0               0   \n3               0              0  ...             0               0   \n4               0              0  ...             0               0   \n\n   CarName_toyota  CarName_volkswagen  CarName_volvo  carbody_convertible  \\\n0               0                   0              0                    1   \n1               0                   0              0                    1   \n2               0                   0              0                    0   \n3               0                   0              0                    0   \n4               0                   0              0                    0   \n\n   carbody_hardtop  carbody_hatchback  carbody_sedan  carbody_wagon  \n0                0                  0              0              0  \n1                0                  0              0              0  \n2                0                  1              0              0  \n3                0                  0              1              0  \n4                0                  0              1              0  \n\n[5 rows x 27 columns]",
      "text/html": "<div>\n<style scoped>\n    .dataframe tbody tr th:only-of-type {\n        vertical-align: middle;\n    }\n\n    .dataframe tbody tr th {\n        vertical-align: top;\n    }\n\n    .dataframe thead th {\n        text-align: right;\n    }\n</style>\n<table border=\"1\" class=\"dataframe\">\n  <thead>\n    <tr style=\"text-align: right;\">\n      <th></th>\n      <th>CarName_alfa-romero</th>\n      <th>CarName_audi</th>\n      <th>CarName_bmw</th>\n      <th>CarName_buick</th>\n      <th>CarName_chevrolet</th>\n      <th>CarName_dodge</th>\n      <th>CarName_honda</th>\n      <th>CarName_isuzu</th>\n      <th>CarName_jaguar</th>\n      <th>CarName_mazda</th>\n      <th>...</th>\n      <th>CarName_saab</th>\n      <th>CarName_subaru</th>\n      <th>CarName_toyota</th>\n      <th>CarName_volkswagen</th>\n      <th>CarName_volvo</th>\n      <th>carbody_convertible</th>\n      <th>carbody_hardtop</th>\n      <th>carbody_hatchback</th>\n      <th>carbody_sedan</th>\n      <th>carbody_wagon</th>\n    </tr>\n  </thead>\n  <tbody>\n    <tr>\n      <th>0</th>\n      <td>1</td>\n      <td>0</td>\n      <td>0</td>\n      <td>0</td>\n      <td>0</td>\n      <td>0</td>\n      <td>0</td>\n      <td>0</td>\n      <td>0</td>\n      <td>0</td>\n      <td>...</td>\n      <td>0</td>\n      <td>0</td>\n      <td>0</td>\n      <td>0</td>\n      <td>0</td>\n      <td>1</td>\n      <td>0</td>\n      <td>0</td>\n      <td>0</td>\n      <td>0</td>\n    </tr>\n    <tr>\n      <th>1</th>\n      <td>1</td>\n      <td>0</td>\n      <td>0</td>\n      <td>0</td>\n      <td>0</td>\n      <td>0</td>\n      <td>0</td>\n      <td>0</td>\n      <td>0</td>\n      <td>0</td>\n      <td>...</td>\n      <td>0</td>\n      <td>0</td>\n      <td>0</td>\n      <td>0</td>\n      <td>0</td>\n      <td>1</td>\n      <td>0</td>\n      <td>0</td>\n      <td>0</td>\n      <td>0</td>\n    </tr>\n    <tr>\n      <th>2</th>\n      <td>1</td>\n      <td>0</td>\n      <td>0</td>\n      <td>0</td>\n      <td>0</td>\n      <td>0</td>\n      <td>0</td>\n      <td>0</td>\n      <td>0</td>\n      <td>0</td>\n      <td>...</td>\n      <td>0</td>\n      <td>0</td>\n      <td>0</td>\n      <td>0</td>\n      <td>0</td>\n      <td>0</td>\n      <td>0</td>\n      <td>1</td>\n      <td>0</td>\n      <td>0</td>\n    </tr>\n    <tr>\n      <th>3</th>\n      <td>0</td>\n      <td>1</td>\n      <td>0</td>\n      <td>0</td>\n      <td>0</td>\n      <td>0</td>\n      <td>0</td>\n      <td>0</td>\n      <td>0</td>\n      <td>0</td>\n      <td>...</td>\n      <td>0</td>\n      <td>0</td>\n      <td>0</td>\n      <td>0</td>\n      <td>0</td>\n      <td>0</td>\n      <td>0</td>\n      <td>0</td>\n      <td>1</td>\n      <td>0</td>\n    </tr>\n    <tr>\n      <th>4</th>\n      <td>0</td>\n      <td>1</td>\n      <td>0</td>\n      <td>0</td>\n      <td>0</td>\n      <td>0</td>\n      <td>0</td>\n      <td>0</td>\n      <td>0</td>\n      <td>0</td>\n      <td>...</td>\n      <td>0</td>\n      <td>0</td>\n      <td>0</td>\n      <td>0</td>\n      <td>0</td>\n      <td>0</td>\n      <td>0</td>\n      <td>0</td>\n      <td>1</td>\n      <td>0</td>\n    </tr>\n  </tbody>\n</table>\n<p>5 rows × 27 columns</p>\n</div>"
     },
     "execution_count": 82,
     "metadata": {},
     "output_type": "execute_result"
    }
   ],
   "source": [
    "transformed = oh_encoder.transform(X[cols]).toarray()\n",
    "transformed_df = pd.DataFrame(transformed, columns=oh_encoder.get_feature_names_out(cols), dtype=np.int8)\n",
    "transformed_df.head()"
   ],
   "metadata": {
    "collapsed": false,
    "pycharm": {
     "name": "#%%\n"
    }
   }
  },
  {
   "cell_type": "code",
   "execution_count": 83,
   "outputs": [
    {
     "name": "stdout",
     "output_type": "stream",
     "text": [
      "<class 'pandas.core.frame.DataFrame'>\n",
      "RangeIndex: 205 entries, 0 to 204\n",
      "Data columns (total 43 columns):\n",
      " #   Column               Non-Null Count  Dtype  \n",
      "---  ------               --------------  -----  \n",
      " 0   symboling            205 non-null    int64  \n",
      " 1   doornumber           205 non-null    float64\n",
      " 2   wheelbase            205 non-null    float64\n",
      " 3   carlength            205 non-null    float64\n",
      " 4   carwidth             205 non-null    float64\n",
      " 5   carheight            205 non-null    float64\n",
      " 6   curbweight           205 non-null    int64  \n",
      " 7   cylindernumber       205 non-null    float64\n",
      " 8   enginesize           205 non-null    int64  \n",
      " 9   boreratio            205 non-null    float64\n",
      " 10  stroke               205 non-null    float64\n",
      " 11  compressionratio     205 non-null    float64\n",
      " 12  horsepower           205 non-null    int64  \n",
      " 13  peakrpm              205 non-null    int64  \n",
      " 14  citympg              205 non-null    int64  \n",
      " 15  highwaympg           205 non-null    int64  \n",
      " 16  CarName_alfa-romero  205 non-null    int8   \n",
      " 17  CarName_audi         205 non-null    int8   \n",
      " 18  CarName_bmw          205 non-null    int8   \n",
      " 19  CarName_buick        205 non-null    int8   \n",
      " 20  CarName_chevrolet    205 non-null    int8   \n",
      " 21  CarName_dodge        205 non-null    int8   \n",
      " 22  CarName_honda        205 non-null    int8   \n",
      " 23  CarName_isuzu        205 non-null    int8   \n",
      " 24  CarName_jaguar       205 non-null    int8   \n",
      " 25  CarName_mazda        205 non-null    int8   \n",
      " 26  CarName_mercury      205 non-null    int8   \n",
      " 27  CarName_mitsubishi   205 non-null    int8   \n",
      " 28  CarName_nissan       205 non-null    int8   \n",
      " 29  CarName_peugeot      205 non-null    int8   \n",
      " 30  CarName_plymouth     205 non-null    int8   \n",
      " 31  CarName_porsche      205 non-null    int8   \n",
      " 32  CarName_renault      205 non-null    int8   \n",
      " 33  CarName_saab         205 non-null    int8   \n",
      " 34  CarName_subaru       205 non-null    int8   \n",
      " 35  CarName_toyota       205 non-null    int8   \n",
      " 36  CarName_volkswagen   205 non-null    int8   \n",
      " 37  CarName_volvo        205 non-null    int8   \n",
      " 38  carbody_convertible  205 non-null    int8   \n",
      " 39  carbody_hardtop      205 non-null    int8   \n",
      " 40  carbody_hatchback    205 non-null    int8   \n",
      " 41  carbody_sedan        205 non-null    int8   \n",
      " 42  carbody_wagon        205 non-null    int8   \n",
      "dtypes: float64(9), int64(7), int8(27)\n",
      "memory usage: 31.2 KB\n"
     ]
    }
   ],
   "source": [
    "X_encoded = pd.concat([X, transformed_df], axis=1).drop(cols, axis=1)\n",
    "X_encoded.info()"
   ],
   "metadata": {
    "collapsed": false,
    "pycharm": {
     "name": "#%%\n"
    }
   }
  },
  {
   "cell_type": "markdown",
   "source": [
    "#### Data Scaling\n",
    "\n",
    "Machine learning algorithm just sees number — if there is a vast difference in the range say few ranging in thousands and few ranging in the tens, and it makes the underlying assumption that higher ranging numbers have superiority of some sort. So these more significant number starts playing a more decisive role while training the model.\n",
    "\n",
    "The machine learning algorithm works on numbers and does not know what that number represents. A weight of 10 grams and a price of 10 dollars represents completely two different things — which is a no brainer for humans, but for a model as a feature, it treats both as same."
   ],
   "metadata": {
    "collapsed": false,
    "pycharm": {
     "name": "#%% md\n"
    }
   }
  },
  {
   "cell_type": "markdown",
   "source": [
    "There are many techniques to scale the data including:\n",
    "1- MinMax scaling \"normalization\"\n",
    "2- Standardisation"
   ],
   "metadata": {
    "collapsed": false,
    "pycharm": {
     "name": "#%% md\n"
    }
   }
  },
  {
   "cell_type": "markdown",
   "source": [
    "#### Data normalization\n",
    "Normalization is a rescaling of the data from the original range so that all values are within the range of 0 and 1 (or other ranges).\n",
    "\n",
    "Normalization requires that you know or are able to accurately estimate the minimum and maximum observable values. You may be able to estimate these values from your available data.\n",
    "\n",
    "The formula for normalization:\n",
    "\n",
    "$x^{(i)}_{normalized} = (x^{(i)} - min(X)) / (max(X) - min(X))$, where $X = [x_0, x_1, ... x_i, ... x_n]$"
   ],
   "metadata": {
    "collapsed": false,
    "pycharm": {
     "name": "#%% md\n"
    }
   }
  },
  {
   "cell_type": "markdown",
   "source": [
    "#### Data Standardization\n",
    "\n",
    "Standardizing a dataset involves rescaling the distribution of values so that the mean of observed values is 0 and the standard deviation is 1. It is sometimes referred to as “whitening.”\n",
    "\n",
    "This can be thought of as subtracting the mean value or centering the data.\n",
    "\n",
    "Like normalization, standardization can be useful, and even required in some machine learning algorithms when your data has input values with differing scales.\n",
    "\n",
    "Standardization assumes that your observations fit a Gaussian distribution (bell curve) with a well behaved mean and standard deviation. You can still standardize your data if this expectation is not met, but you may not get reliable results.\n",
    "\n",
    "Standardization requires that you know or are able to accurately estimate the mean and standard deviation of observable values. You may be able to estimate these values from your training data.\n",
    "\n",
    "The formula is:\n",
    "\n",
    "$y = \\frac{(x - mean)} {standard\\_deviation}$\n",
    "\n",
    "where:\n",
    "- $mean = \\frac{sum(x)}{count(x)}$\n",
    "- $standard\\_deviation = \\sqrt{\\frac{\\sum (x - mean)^2}{count(x)}}$"
   ],
   "metadata": {
    "collapsed": false,
    "pycharm": {
     "name": "#%% md\n"
    }
   }
  },
  {
   "cell_type": "markdown",
   "source": [
    "If you have outliers in your feature (column), normalizing your data will scale\n",
    "most of the data to a small interval, which means all features will have the same\n",
    "scale but does not handle outliers  well. Standardisation is more robust to\n",
    "outliers, and in many cases, it is preferable over Max-Min Normalisation."
   ],
   "metadata": {
    "collapsed": false,
    "pycharm": {
     "name": "#%% md\n"
    }
   }
  },
  {
   "cell_type": "markdown",
   "source": [
    "##### Task 5. apply min-max scaler to the df dataset, write one line code below"
   ],
   "metadata": {
    "collapsed": false,
    "pycharm": {
     "name": "#%% md\n"
    }
   }
  },
  {
   "cell_type": "code",
   "execution_count": 84,
   "outputs": [
    {
     "data": {
      "text/plain": "    symboling  doornumber  wheelbase  carlength  carwidth  carheight  \\\n0         1.0         1.0   0.058309   0.413433  0.316667   0.083333   \n1         1.0         1.0   0.058309   0.413433  0.316667   0.083333   \n2         0.6         1.0   0.230321   0.449254  0.433333   0.383333   \n3         0.8         0.0   0.384840   0.529851  0.491667   0.541667   \n4         0.8         0.0   0.373178   0.529851  0.508333   0.541667   \n5         0.8         1.0   0.384840   0.540299  0.500000   0.441667   \n6         0.6         0.0   0.559767   0.770149  0.925000   0.658333   \n7         0.6         0.0   0.559767   0.770149  0.925000   0.658333   \n8         0.6         0.0   0.559767   0.770149  0.925000   0.675000   \n9         0.4         1.0   0.376093   0.553731  0.633333   0.350000   \n10        0.8         1.0   0.425656   0.532836  0.375000   0.541667   \n11        0.4         0.0   0.425656   0.532836  0.375000   0.541667   \n12        0.4         1.0   0.425656   0.532836  0.375000   0.541667   \n13        0.4         0.0   0.425656   0.532836  0.375000   0.541667   \n14        0.6         0.0   0.492711   0.714925  0.550000   0.658333   \n\n    curbweight  cylindernumber  enginesize  boreratio  ...  CarName_saab  \\\n0     0.411171        0.333333    0.260377   0.664286  ...           0.0   \n1     0.411171        0.333333    0.260377   0.664286  ...           0.0   \n2     0.517843        0.500000    0.343396   0.100000  ...           0.0   \n3     0.329325        0.333333    0.181132   0.464286  ...           0.0   \n4     0.518231        0.166667    0.283019   0.464286  ...           0.0   \n5     0.395268        0.166667    0.283019   0.464286  ...           0.0   \n6     0.525989        0.166667    0.283019   0.464286  ...           0.0   \n7     0.568658        0.166667    0.283019   0.464286  ...           0.0   \n8     0.619860        0.166667    0.264151   0.421429  ...           0.0   \n9     0.607060        0.166667    0.264151   0.421429  ...           0.0   \n10    0.351823        0.333333    0.177358   0.685714  ...           0.0   \n11    0.351823        0.333333    0.177358   0.685714  ...           0.0   \n12    0.474011        0.500000    0.388679   0.550000  ...           0.0   \n13    0.495345        0.500000    0.388679   0.550000  ...           0.0   \n14    0.607836        0.500000    0.388679   0.550000  ...           0.0   \n\n    CarName_subaru  CarName_toyota  CarName_volkswagen  CarName_volvo  \\\n0              0.0             0.0                 0.0            0.0   \n1              0.0             0.0                 0.0            0.0   \n2              0.0             0.0                 0.0            0.0   \n3              0.0             0.0                 0.0            0.0   \n4              0.0             0.0                 0.0            0.0   \n5              0.0             0.0                 0.0            0.0   \n6              0.0             0.0                 0.0            0.0   \n7              0.0             0.0                 0.0            0.0   \n8              0.0             0.0                 0.0            0.0   \n9              0.0             0.0                 0.0            0.0   \n10             0.0             0.0                 0.0            0.0   \n11             0.0             0.0                 0.0            0.0   \n12             0.0             0.0                 0.0            0.0   \n13             0.0             0.0                 0.0            0.0   \n14             0.0             0.0                 0.0            0.0   \n\n    carbody_convertible  carbody_hardtop  carbody_hatchback  carbody_sedan  \\\n0                   1.0              0.0                0.0            0.0   \n1                   1.0              0.0                0.0            0.0   \n2                   0.0              0.0                1.0            0.0   \n3                   0.0              0.0                0.0            1.0   \n4                   0.0              0.0                0.0            1.0   \n5                   0.0              0.0                0.0            1.0   \n6                   0.0              0.0                0.0            1.0   \n7                   0.0              0.0                0.0            0.0   \n8                   0.0              0.0                0.0            1.0   \n9                   0.0              0.0                1.0            0.0   \n10                  0.0              0.0                0.0            1.0   \n11                  0.0              0.0                0.0            1.0   \n12                  0.0              0.0                0.0            1.0   \n13                  0.0              0.0                0.0            1.0   \n14                  0.0              0.0                0.0            1.0   \n\n    carbody_wagon  \n0             0.0  \n1             0.0  \n2             0.0  \n3             0.0  \n4             0.0  \n5             0.0  \n6             0.0  \n7             1.0  \n8             0.0  \n9             0.0  \n10            0.0  \n11            0.0  \n12            0.0  \n13            0.0  \n14            0.0  \n\n[15 rows x 43 columns]",
      "text/html": "<div>\n<style scoped>\n    .dataframe tbody tr th:only-of-type {\n        vertical-align: middle;\n    }\n\n    .dataframe tbody tr th {\n        vertical-align: top;\n    }\n\n    .dataframe thead th {\n        text-align: right;\n    }\n</style>\n<table border=\"1\" class=\"dataframe\">\n  <thead>\n    <tr style=\"text-align: right;\">\n      <th></th>\n      <th>symboling</th>\n      <th>doornumber</th>\n      <th>wheelbase</th>\n      <th>carlength</th>\n      <th>carwidth</th>\n      <th>carheight</th>\n      <th>curbweight</th>\n      <th>cylindernumber</th>\n      <th>enginesize</th>\n      <th>boreratio</th>\n      <th>...</th>\n      <th>CarName_saab</th>\n      <th>CarName_subaru</th>\n      <th>CarName_toyota</th>\n      <th>CarName_volkswagen</th>\n      <th>CarName_volvo</th>\n      <th>carbody_convertible</th>\n      <th>carbody_hardtop</th>\n      <th>carbody_hatchback</th>\n      <th>carbody_sedan</th>\n      <th>carbody_wagon</th>\n    </tr>\n  </thead>\n  <tbody>\n    <tr>\n      <th>0</th>\n      <td>1.0</td>\n      <td>1.0</td>\n      <td>0.058309</td>\n      <td>0.413433</td>\n      <td>0.316667</td>\n      <td>0.083333</td>\n      <td>0.411171</td>\n      <td>0.333333</td>\n      <td>0.260377</td>\n      <td>0.664286</td>\n      <td>...</td>\n      <td>0.0</td>\n      <td>0.0</td>\n      <td>0.0</td>\n      <td>0.0</td>\n      <td>0.0</td>\n      <td>1.0</td>\n      <td>0.0</td>\n      <td>0.0</td>\n      <td>0.0</td>\n      <td>0.0</td>\n    </tr>\n    <tr>\n      <th>1</th>\n      <td>1.0</td>\n      <td>1.0</td>\n      <td>0.058309</td>\n      <td>0.413433</td>\n      <td>0.316667</td>\n      <td>0.083333</td>\n      <td>0.411171</td>\n      <td>0.333333</td>\n      <td>0.260377</td>\n      <td>0.664286</td>\n      <td>...</td>\n      <td>0.0</td>\n      <td>0.0</td>\n      <td>0.0</td>\n      <td>0.0</td>\n      <td>0.0</td>\n      <td>1.0</td>\n      <td>0.0</td>\n      <td>0.0</td>\n      <td>0.0</td>\n      <td>0.0</td>\n    </tr>\n    <tr>\n      <th>2</th>\n      <td>0.6</td>\n      <td>1.0</td>\n      <td>0.230321</td>\n      <td>0.449254</td>\n      <td>0.433333</td>\n      <td>0.383333</td>\n      <td>0.517843</td>\n      <td>0.500000</td>\n      <td>0.343396</td>\n      <td>0.100000</td>\n      <td>...</td>\n      <td>0.0</td>\n      <td>0.0</td>\n      <td>0.0</td>\n      <td>0.0</td>\n      <td>0.0</td>\n      <td>0.0</td>\n      <td>0.0</td>\n      <td>1.0</td>\n      <td>0.0</td>\n      <td>0.0</td>\n    </tr>\n    <tr>\n      <th>3</th>\n      <td>0.8</td>\n      <td>0.0</td>\n      <td>0.384840</td>\n      <td>0.529851</td>\n      <td>0.491667</td>\n      <td>0.541667</td>\n      <td>0.329325</td>\n      <td>0.333333</td>\n      <td>0.181132</td>\n      <td>0.464286</td>\n      <td>...</td>\n      <td>0.0</td>\n      <td>0.0</td>\n      <td>0.0</td>\n      <td>0.0</td>\n      <td>0.0</td>\n      <td>0.0</td>\n      <td>0.0</td>\n      <td>0.0</td>\n      <td>1.0</td>\n      <td>0.0</td>\n    </tr>\n    <tr>\n      <th>4</th>\n      <td>0.8</td>\n      <td>0.0</td>\n      <td>0.373178</td>\n      <td>0.529851</td>\n      <td>0.508333</td>\n      <td>0.541667</td>\n      <td>0.518231</td>\n      <td>0.166667</td>\n      <td>0.283019</td>\n      <td>0.464286</td>\n      <td>...</td>\n      <td>0.0</td>\n      <td>0.0</td>\n      <td>0.0</td>\n      <td>0.0</td>\n      <td>0.0</td>\n      <td>0.0</td>\n      <td>0.0</td>\n      <td>0.0</td>\n      <td>1.0</td>\n      <td>0.0</td>\n    </tr>\n    <tr>\n      <th>5</th>\n      <td>0.8</td>\n      <td>1.0</td>\n      <td>0.384840</td>\n      <td>0.540299</td>\n      <td>0.500000</td>\n      <td>0.441667</td>\n      <td>0.395268</td>\n      <td>0.166667</td>\n      <td>0.283019</td>\n      <td>0.464286</td>\n      <td>...</td>\n      <td>0.0</td>\n      <td>0.0</td>\n      <td>0.0</td>\n      <td>0.0</td>\n      <td>0.0</td>\n      <td>0.0</td>\n      <td>0.0</td>\n      <td>0.0</td>\n      <td>1.0</td>\n      <td>0.0</td>\n    </tr>\n    <tr>\n      <th>6</th>\n      <td>0.6</td>\n      <td>0.0</td>\n      <td>0.559767</td>\n      <td>0.770149</td>\n      <td>0.925000</td>\n      <td>0.658333</td>\n      <td>0.525989</td>\n      <td>0.166667</td>\n      <td>0.283019</td>\n      <td>0.464286</td>\n      <td>...</td>\n      <td>0.0</td>\n      <td>0.0</td>\n      <td>0.0</td>\n      <td>0.0</td>\n      <td>0.0</td>\n      <td>0.0</td>\n      <td>0.0</td>\n      <td>0.0</td>\n      <td>1.0</td>\n      <td>0.0</td>\n    </tr>\n    <tr>\n      <th>7</th>\n      <td>0.6</td>\n      <td>0.0</td>\n      <td>0.559767</td>\n      <td>0.770149</td>\n      <td>0.925000</td>\n      <td>0.658333</td>\n      <td>0.568658</td>\n      <td>0.166667</td>\n      <td>0.283019</td>\n      <td>0.464286</td>\n      <td>...</td>\n      <td>0.0</td>\n      <td>0.0</td>\n      <td>0.0</td>\n      <td>0.0</td>\n      <td>0.0</td>\n      <td>0.0</td>\n      <td>0.0</td>\n      <td>0.0</td>\n      <td>0.0</td>\n      <td>1.0</td>\n    </tr>\n    <tr>\n      <th>8</th>\n      <td>0.6</td>\n      <td>0.0</td>\n      <td>0.559767</td>\n      <td>0.770149</td>\n      <td>0.925000</td>\n      <td>0.675000</td>\n      <td>0.619860</td>\n      <td>0.166667</td>\n      <td>0.264151</td>\n      <td>0.421429</td>\n      <td>...</td>\n      <td>0.0</td>\n      <td>0.0</td>\n      <td>0.0</td>\n      <td>0.0</td>\n      <td>0.0</td>\n      <td>0.0</td>\n      <td>0.0</td>\n      <td>0.0</td>\n      <td>1.0</td>\n      <td>0.0</td>\n    </tr>\n    <tr>\n      <th>9</th>\n      <td>0.4</td>\n      <td>1.0</td>\n      <td>0.376093</td>\n      <td>0.553731</td>\n      <td>0.633333</td>\n      <td>0.350000</td>\n      <td>0.607060</td>\n      <td>0.166667</td>\n      <td>0.264151</td>\n      <td>0.421429</td>\n      <td>...</td>\n      <td>0.0</td>\n      <td>0.0</td>\n      <td>0.0</td>\n      <td>0.0</td>\n      <td>0.0</td>\n      <td>0.0</td>\n      <td>0.0</td>\n      <td>1.0</td>\n      <td>0.0</td>\n      <td>0.0</td>\n    </tr>\n    <tr>\n      <th>10</th>\n      <td>0.8</td>\n      <td>1.0</td>\n      <td>0.425656</td>\n      <td>0.532836</td>\n      <td>0.375000</td>\n      <td>0.541667</td>\n      <td>0.351823</td>\n      <td>0.333333</td>\n      <td>0.177358</td>\n      <td>0.685714</td>\n      <td>...</td>\n      <td>0.0</td>\n      <td>0.0</td>\n      <td>0.0</td>\n      <td>0.0</td>\n      <td>0.0</td>\n      <td>0.0</td>\n      <td>0.0</td>\n      <td>0.0</td>\n      <td>1.0</td>\n      <td>0.0</td>\n    </tr>\n    <tr>\n      <th>11</th>\n      <td>0.4</td>\n      <td>0.0</td>\n      <td>0.425656</td>\n      <td>0.532836</td>\n      <td>0.375000</td>\n      <td>0.541667</td>\n      <td>0.351823</td>\n      <td>0.333333</td>\n      <td>0.177358</td>\n      <td>0.685714</td>\n      <td>...</td>\n      <td>0.0</td>\n      <td>0.0</td>\n      <td>0.0</td>\n      <td>0.0</td>\n      <td>0.0</td>\n      <td>0.0</td>\n      <td>0.0</td>\n      <td>0.0</td>\n      <td>1.0</td>\n      <td>0.0</td>\n    </tr>\n    <tr>\n      <th>12</th>\n      <td>0.4</td>\n      <td>1.0</td>\n      <td>0.425656</td>\n      <td>0.532836</td>\n      <td>0.375000</td>\n      <td>0.541667</td>\n      <td>0.474011</td>\n      <td>0.500000</td>\n      <td>0.388679</td>\n      <td>0.550000</td>\n      <td>...</td>\n      <td>0.0</td>\n      <td>0.0</td>\n      <td>0.0</td>\n      <td>0.0</td>\n      <td>0.0</td>\n      <td>0.0</td>\n      <td>0.0</td>\n      <td>0.0</td>\n      <td>1.0</td>\n      <td>0.0</td>\n    </tr>\n    <tr>\n      <th>13</th>\n      <td>0.4</td>\n      <td>0.0</td>\n      <td>0.425656</td>\n      <td>0.532836</td>\n      <td>0.375000</td>\n      <td>0.541667</td>\n      <td>0.495345</td>\n      <td>0.500000</td>\n      <td>0.388679</td>\n      <td>0.550000</td>\n      <td>...</td>\n      <td>0.0</td>\n      <td>0.0</td>\n      <td>0.0</td>\n      <td>0.0</td>\n      <td>0.0</td>\n      <td>0.0</td>\n      <td>0.0</td>\n      <td>0.0</td>\n      <td>1.0</td>\n      <td>0.0</td>\n    </tr>\n    <tr>\n      <th>14</th>\n      <td>0.6</td>\n      <td>0.0</td>\n      <td>0.492711</td>\n      <td>0.714925</td>\n      <td>0.550000</td>\n      <td>0.658333</td>\n      <td>0.607836</td>\n      <td>0.500000</td>\n      <td>0.388679</td>\n      <td>0.550000</td>\n      <td>...</td>\n      <td>0.0</td>\n      <td>0.0</td>\n      <td>0.0</td>\n      <td>0.0</td>\n      <td>0.0</td>\n      <td>0.0</td>\n      <td>0.0</td>\n      <td>0.0</td>\n      <td>1.0</td>\n      <td>0.0</td>\n    </tr>\n  </tbody>\n</table>\n<p>15 rows × 43 columns</p>\n</div>"
     },
     "execution_count": 84,
     "metadata": {},
     "output_type": "execute_result"
    }
   ],
   "source": [
    "from sklearn.preprocessing import MinMaxScaler\n",
    "scaler = MinMaxScaler()\n",
    "\n",
    "min_max_scaled_data = scaler.fit_transform(X_encoded)\n",
    "\n",
    "X_processed = pd.DataFrame(min_max_scaled_data, columns=X_encoded.columns)\n",
    "\n",
    "X_processed.head(15)"
   ],
   "metadata": {
    "collapsed": false,
    "pycharm": {
     "name": "#%%\n"
    }
   }
  },
  {
   "cell_type": "code",
   "execution_count": 85,
   "outputs": [],
   "source": [
    "from sklearn.model_selection import train_test_split\n",
    "X_train, X_test, y_train, y_test = train_test_split(X_processed, y, test_size=0.2, random_state=0)"
   ],
   "metadata": {
    "collapsed": false,
    "pycharm": {
     "name": "#%%\n"
    }
   }
  },
  {
   "cell_type": "markdown",
   "source": [
    "##### Step 2 & 3. Build and fit Linear Regression Model"
   ],
   "metadata": {
    "collapsed": false,
    "pycharm": {
     "name": "#%% md\n"
    }
   }
  },
  {
   "cell_type": "code",
   "execution_count": 86,
   "outputs": [
    {
     "data": {
      "text/plain": "LinearRegression()",
      "text/html": "<style>#sk-container-id-2 {color: black;background-color: white;}#sk-container-id-2 pre{padding: 0;}#sk-container-id-2 div.sk-toggleable {background-color: white;}#sk-container-id-2 label.sk-toggleable__label {cursor: pointer;display: block;width: 100%;margin-bottom: 0;padding: 0.3em;box-sizing: border-box;text-align: center;}#sk-container-id-2 label.sk-toggleable__label-arrow:before {content: \"▸\";float: left;margin-right: 0.25em;color: #696969;}#sk-container-id-2 label.sk-toggleable__label-arrow:hover:before {color: black;}#sk-container-id-2 div.sk-estimator:hover label.sk-toggleable__label-arrow:before {color: black;}#sk-container-id-2 div.sk-toggleable__content {max-height: 0;max-width: 0;overflow: hidden;text-align: left;background-color: #f0f8ff;}#sk-container-id-2 div.sk-toggleable__content pre {margin: 0.2em;color: black;border-radius: 0.25em;background-color: #f0f8ff;}#sk-container-id-2 input.sk-toggleable__control:checked~div.sk-toggleable__content {max-height: 200px;max-width: 100%;overflow: auto;}#sk-container-id-2 input.sk-toggleable__control:checked~label.sk-toggleable__label-arrow:before {content: \"▾\";}#sk-container-id-2 div.sk-estimator input.sk-toggleable__control:checked~label.sk-toggleable__label {background-color: #d4ebff;}#sk-container-id-2 div.sk-label input.sk-toggleable__control:checked~label.sk-toggleable__label {background-color: #d4ebff;}#sk-container-id-2 input.sk-hidden--visually {border: 0;clip: rect(1px 1px 1px 1px);clip: rect(1px, 1px, 1px, 1px);height: 1px;margin: -1px;overflow: hidden;padding: 0;position: absolute;width: 1px;}#sk-container-id-2 div.sk-estimator {font-family: monospace;background-color: #f0f8ff;border: 1px dotted black;border-radius: 0.25em;box-sizing: border-box;margin-bottom: 0.5em;}#sk-container-id-2 div.sk-estimator:hover {background-color: #d4ebff;}#sk-container-id-2 div.sk-parallel-item::after {content: \"\";width: 100%;border-bottom: 1px solid gray;flex-grow: 1;}#sk-container-id-2 div.sk-label:hover label.sk-toggleable__label {background-color: #d4ebff;}#sk-container-id-2 div.sk-serial::before {content: \"\";position: absolute;border-left: 1px solid gray;box-sizing: border-box;top: 0;bottom: 0;left: 50%;z-index: 0;}#sk-container-id-2 div.sk-serial {display: flex;flex-direction: column;align-items: center;background-color: white;padding-right: 0.2em;padding-left: 0.2em;position: relative;}#sk-container-id-2 div.sk-item {position: relative;z-index: 1;}#sk-container-id-2 div.sk-parallel {display: flex;align-items: stretch;justify-content: center;background-color: white;position: relative;}#sk-container-id-2 div.sk-item::before, #sk-container-id-2 div.sk-parallel-item::before {content: \"\";position: absolute;border-left: 1px solid gray;box-sizing: border-box;top: 0;bottom: 0;left: 50%;z-index: -1;}#sk-container-id-2 div.sk-parallel-item {display: flex;flex-direction: column;z-index: 1;position: relative;background-color: white;}#sk-container-id-2 div.sk-parallel-item:first-child::after {align-self: flex-end;width: 50%;}#sk-container-id-2 div.sk-parallel-item:last-child::after {align-self: flex-start;width: 50%;}#sk-container-id-2 div.sk-parallel-item:only-child::after {width: 0;}#sk-container-id-2 div.sk-dashed-wrapped {border: 1px dashed gray;margin: 0 0.4em 0.5em 0.4em;box-sizing: border-box;padding-bottom: 0.4em;background-color: white;}#sk-container-id-2 div.sk-label label {font-family: monospace;font-weight: bold;display: inline-block;line-height: 1.2em;}#sk-container-id-2 div.sk-label-container {text-align: center;}#sk-container-id-2 div.sk-container {/* jupyter's `normalize.less` sets `[hidden] { display: none; }` but bootstrap.min.css set `[hidden] { display: none !important; }` so we also need the `!important` here to be able to override the default hidden behavior on the sphinx rendered scikit-learn.org. See: https://github.com/scikit-learn/scikit-learn/issues/21755 */display: inline-block !important;position: relative;}#sk-container-id-2 div.sk-text-repr-fallback {display: none;}</style><div id=\"sk-container-id-2\" class=\"sk-top-container\"><div class=\"sk-text-repr-fallback\"><pre>LinearRegression()</pre><b>In a Jupyter environment, please rerun this cell to show the HTML representation or trust the notebook. <br />On GitHub, the HTML representation is unable to render, please try loading this page with nbviewer.org.</b></div><div class=\"sk-container\" hidden><div class=\"sk-item\"><div class=\"sk-estimator sk-toggleable\"><input class=\"sk-toggleable__control sk-hidden--visually\" id=\"sk-estimator-id-2\" type=\"checkbox\" checked><label for=\"sk-estimator-id-2\" class=\"sk-toggleable__label sk-toggleable__label-arrow\">LinearRegression</label><div class=\"sk-toggleable__content\"><pre>LinearRegression()</pre></div></div></div></div></div>"
     },
     "execution_count": 86,
     "metadata": {},
     "output_type": "execute_result"
    }
   ],
   "source": [
    "from sklearn.linear_model import LinearRegression\n",
    "regressor = LinearRegression()\n",
    "regressor.fit(X_train, y_train)"
   ],
   "metadata": {
    "collapsed": false,
    "pycharm": {
     "name": "#%%\n"
    }
   }
  },
  {
   "cell_type": "markdown",
   "source": [
    "##### Task 6. Get the most important features from the dataset by using the regressor and sort them in descending order based on the value"
   ],
   "metadata": {
    "collapsed": false,
    "pycharm": {
     "name": "#%% md\n"
    }
   }
  },
  {
   "cell_type": "code",
   "execution_count": 87,
   "outputs": [
    {
     "data": {
      "text/plain": "             Coefficient\nsymboling    2522.443589\ndoornumber   -853.892388\nwheelbase   12444.532565\ncarlength   -8711.622339\ncarwidth     5766.676950",
      "text/html": "<div>\n<style scoped>\n    .dataframe tbody tr th:only-of-type {\n        vertical-align: middle;\n    }\n\n    .dataframe tbody tr th {\n        vertical-align: top;\n    }\n\n    .dataframe thead th {\n        text-align: right;\n    }\n</style>\n<table border=\"1\" class=\"dataframe\">\n  <thead>\n    <tr style=\"text-align: right;\">\n      <th></th>\n      <th>Coefficient</th>\n    </tr>\n  </thead>\n  <tbody>\n    <tr>\n      <th>symboling</th>\n      <td>2522.443589</td>\n    </tr>\n    <tr>\n      <th>doornumber</th>\n      <td>-853.892388</td>\n    </tr>\n    <tr>\n      <th>wheelbase</th>\n      <td>12444.532565</td>\n    </tr>\n    <tr>\n      <th>carlength</th>\n      <td>-8711.622339</td>\n    </tr>\n    <tr>\n      <th>carwidth</th>\n      <td>5766.676950</td>\n    </tr>\n  </tbody>\n</table>\n</div>"
     },
     "execution_count": 87,
     "metadata": {},
     "output_type": "execute_result"
    }
   ],
   "source": [
    "importance = pd.DataFrame(regressor.coef_, columns=['Coefficient'], index=X_train.columns)\n",
    "importance.head()"
   ],
   "metadata": {
    "collapsed": false,
    "pycharm": {
     "name": "#%%\n"
    }
   }
  },
  {
   "cell_type": "code",
   "execution_count": 88,
   "outputs": [
    {
     "data": {
      "text/plain": "                      Coefficient\nCarName_porsche      1.644005e+04\ncurbweight           1.353328e+04\nwheelbase            1.244453e+04\nhorsepower           9.737936e+03\ncarlength           -8.711622e+03\nCarName_bmw          6.800477e+03\nCarName_buick        6.425488e+03\ncarwidth             5.766677e+03\nenginesize           4.372324e+03\nCarName_mitsubishi  -4.215739e+03\nCarName_dodge       -3.836688e+03\nCarName_jaguar       3.763320e+03\nCarName_plymouth    -3.664717e+03\nCarName_peugeot     -3.539343e+03\nboreratio           -3.459430e+03\ncarbody_convertible  3.340453e+03\nCarName_chevrolet   -3.247243e+03\ncarheight           -3.027239e+03\nsymboling            2.522444e+03\nCarName_volkswagen  -2.433446e+03\nCarName_honda       -2.429369e+03\nCarName_toyota      -2.384132e+03\ncitympg              2.324314e+03\nCarName_nissan      -1.983922e+03\nCarName_isuzu       -1.929276e+03\nCarName_mercury     -1.885312e+03\ncarbody_hardtop     -1.345262e+03\npeakrpm              1.280654e+03\nCarName_subaru      -1.133646e+03\nstroke               1.032719e+03\nCarName_mazda       -9.282348e+02\ncarbody_wagon       -9.157071e+02\ndoornumber          -8.538924e+02\ncarbody_hatchback   -8.376879e+02\nhighwaympg          -7.549375e+02\nCarName_volvo        5.524401e+02\nCarName_alfa-romero -5.516565e+02\nCarName_saab         4.216652e+02\ncylindernumber       3.687704e+02\ncarbody_sedan       -2.417958e+02\nCarName_audi        -2.407185e+02\ncompressionratio    -7.286108e+01\nCarName_renault     -2.273737e-13",
      "text/html": "<div>\n<style scoped>\n    .dataframe tbody tr th:only-of-type {\n        vertical-align: middle;\n    }\n\n    .dataframe tbody tr th {\n        vertical-align: top;\n    }\n\n    .dataframe thead th {\n        text-align: right;\n    }\n</style>\n<table border=\"1\" class=\"dataframe\">\n  <thead>\n    <tr style=\"text-align: right;\">\n      <th></th>\n      <th>Coefficient</th>\n    </tr>\n  </thead>\n  <tbody>\n    <tr>\n      <th>CarName_porsche</th>\n      <td>1.644005e+04</td>\n    </tr>\n    <tr>\n      <th>curbweight</th>\n      <td>1.353328e+04</td>\n    </tr>\n    <tr>\n      <th>wheelbase</th>\n      <td>1.244453e+04</td>\n    </tr>\n    <tr>\n      <th>horsepower</th>\n      <td>9.737936e+03</td>\n    </tr>\n    <tr>\n      <th>carlength</th>\n      <td>-8.711622e+03</td>\n    </tr>\n    <tr>\n      <th>CarName_bmw</th>\n      <td>6.800477e+03</td>\n    </tr>\n    <tr>\n      <th>CarName_buick</th>\n      <td>6.425488e+03</td>\n    </tr>\n    <tr>\n      <th>carwidth</th>\n      <td>5.766677e+03</td>\n    </tr>\n    <tr>\n      <th>enginesize</th>\n      <td>4.372324e+03</td>\n    </tr>\n    <tr>\n      <th>CarName_mitsubishi</th>\n      <td>-4.215739e+03</td>\n    </tr>\n    <tr>\n      <th>CarName_dodge</th>\n      <td>-3.836688e+03</td>\n    </tr>\n    <tr>\n      <th>CarName_jaguar</th>\n      <td>3.763320e+03</td>\n    </tr>\n    <tr>\n      <th>CarName_plymouth</th>\n      <td>-3.664717e+03</td>\n    </tr>\n    <tr>\n      <th>CarName_peugeot</th>\n      <td>-3.539343e+03</td>\n    </tr>\n    <tr>\n      <th>boreratio</th>\n      <td>-3.459430e+03</td>\n    </tr>\n    <tr>\n      <th>carbody_convertible</th>\n      <td>3.340453e+03</td>\n    </tr>\n    <tr>\n      <th>CarName_chevrolet</th>\n      <td>-3.247243e+03</td>\n    </tr>\n    <tr>\n      <th>carheight</th>\n      <td>-3.027239e+03</td>\n    </tr>\n    <tr>\n      <th>symboling</th>\n      <td>2.522444e+03</td>\n    </tr>\n    <tr>\n      <th>CarName_volkswagen</th>\n      <td>-2.433446e+03</td>\n    </tr>\n    <tr>\n      <th>CarName_honda</th>\n      <td>-2.429369e+03</td>\n    </tr>\n    <tr>\n      <th>CarName_toyota</th>\n      <td>-2.384132e+03</td>\n    </tr>\n    <tr>\n      <th>citympg</th>\n      <td>2.324314e+03</td>\n    </tr>\n    <tr>\n      <th>CarName_nissan</th>\n      <td>-1.983922e+03</td>\n    </tr>\n    <tr>\n      <th>CarName_isuzu</th>\n      <td>-1.929276e+03</td>\n    </tr>\n    <tr>\n      <th>CarName_mercury</th>\n      <td>-1.885312e+03</td>\n    </tr>\n    <tr>\n      <th>carbody_hardtop</th>\n      <td>-1.345262e+03</td>\n    </tr>\n    <tr>\n      <th>peakrpm</th>\n      <td>1.280654e+03</td>\n    </tr>\n    <tr>\n      <th>CarName_subaru</th>\n      <td>-1.133646e+03</td>\n    </tr>\n    <tr>\n      <th>stroke</th>\n      <td>1.032719e+03</td>\n    </tr>\n    <tr>\n      <th>CarName_mazda</th>\n      <td>-9.282348e+02</td>\n    </tr>\n    <tr>\n      <th>carbody_wagon</th>\n      <td>-9.157071e+02</td>\n    </tr>\n    <tr>\n      <th>doornumber</th>\n      <td>-8.538924e+02</td>\n    </tr>\n    <tr>\n      <th>carbody_hatchback</th>\n      <td>-8.376879e+02</td>\n    </tr>\n    <tr>\n      <th>highwaympg</th>\n      <td>-7.549375e+02</td>\n    </tr>\n    <tr>\n      <th>CarName_volvo</th>\n      <td>5.524401e+02</td>\n    </tr>\n    <tr>\n      <th>CarName_alfa-romero</th>\n      <td>-5.516565e+02</td>\n    </tr>\n    <tr>\n      <th>CarName_saab</th>\n      <td>4.216652e+02</td>\n    </tr>\n    <tr>\n      <th>cylindernumber</th>\n      <td>3.687704e+02</td>\n    </tr>\n    <tr>\n      <th>carbody_sedan</th>\n      <td>-2.417958e+02</td>\n    </tr>\n    <tr>\n      <th>CarName_audi</th>\n      <td>-2.407185e+02</td>\n    </tr>\n    <tr>\n      <th>compressionratio</th>\n      <td>-7.286108e+01</td>\n    </tr>\n    <tr>\n      <th>CarName_renault</th>\n      <td>-2.273737e-13</td>\n    </tr>\n  </tbody>\n</table>\n</div>"
     },
     "execution_count": 88,
     "metadata": {},
     "output_type": "execute_result"
    }
   ],
   "source": [
    "importance.sort_values(by='Coefficient', key=lambda c: abs(c), ascending=False)"
   ],
   "metadata": {
    "collapsed": false,
    "pycharm": {
     "name": "#%%\n"
    }
   }
  },
  {
   "cell_type": "code",
   "execution_count": 91,
   "outputs": [
    {
     "data": {
      "text/plain": "      Actual     Predicted\n52    6795.0   6771.363709\n181  15750.0  17032.238718\n5    15250.0  14905.188306\n18    5151.0   1594.853181\n188   9995.0  10776.737462\n170  11199.0  11447.905729\n76    5389.0   6228.350251\n154   7898.0   5044.314455\n104  17199.0  17510.224262\n33    6529.0   8439.353806\n12   20970.0  21597.743370\n129  31400.5  44439.797760\n55   10945.0  12104.520506\n66   18344.0  14568.324966\n45    8916.5   8506.016341\n169   9989.0  11283.540635\n130   9295.0  11064.444763\n7    18920.0  18896.668631\n37    7895.0   8545.093258\n152   6488.0   6912.966898\n80    9959.0  10028.062069\n111  15580.0  13936.372624\n131   9895.0  12517.693455\n171  11549.0  12139.213624\n179  15998.0  19018.081576\n138   5118.0   6332.458804\n156   6938.0   7158.458447\n113  16695.0  15064.297209\n161   8358.0   6758.722790\n89    5499.0   5670.720201\n183   7975.0   8735.222670\n193  12290.0  10414.023443\n125  22018.0  33386.911885\n173   8948.0  10617.272057\n92    6849.0   6781.839439\n16   41315.0  28331.997628\n189  11595.0  13296.583278\n136  18150.0  15725.805526\n22    6377.0   5233.315100\n74   45400.0  33559.210271\n44    8916.5   7972.879206",
      "text/html": "<div>\n<style scoped>\n    .dataframe tbody tr th:only-of-type {\n        vertical-align: middle;\n    }\n\n    .dataframe tbody tr th {\n        vertical-align: top;\n    }\n\n    .dataframe thead th {\n        text-align: right;\n    }\n</style>\n<table border=\"1\" class=\"dataframe\">\n  <thead>\n    <tr style=\"text-align: right;\">\n      <th></th>\n      <th>Actual</th>\n      <th>Predicted</th>\n    </tr>\n  </thead>\n  <tbody>\n    <tr>\n      <th>52</th>\n      <td>6795.0</td>\n      <td>6771.363709</td>\n    </tr>\n    <tr>\n      <th>181</th>\n      <td>15750.0</td>\n      <td>17032.238718</td>\n    </tr>\n    <tr>\n      <th>5</th>\n      <td>15250.0</td>\n      <td>14905.188306</td>\n    </tr>\n    <tr>\n      <th>18</th>\n      <td>5151.0</td>\n      <td>1594.853181</td>\n    </tr>\n    <tr>\n      <th>188</th>\n      <td>9995.0</td>\n      <td>10776.737462</td>\n    </tr>\n    <tr>\n      <th>170</th>\n      <td>11199.0</td>\n      <td>11447.905729</td>\n    </tr>\n    <tr>\n      <th>76</th>\n      <td>5389.0</td>\n      <td>6228.350251</td>\n    </tr>\n    <tr>\n      <th>154</th>\n      <td>7898.0</td>\n      <td>5044.314455</td>\n    </tr>\n    <tr>\n      <th>104</th>\n      <td>17199.0</td>\n      <td>17510.224262</td>\n    </tr>\n    <tr>\n      <th>33</th>\n      <td>6529.0</td>\n      <td>8439.353806</td>\n    </tr>\n    <tr>\n      <th>12</th>\n      <td>20970.0</td>\n      <td>21597.743370</td>\n    </tr>\n    <tr>\n      <th>129</th>\n      <td>31400.5</td>\n      <td>44439.797760</td>\n    </tr>\n    <tr>\n      <th>55</th>\n      <td>10945.0</td>\n      <td>12104.520506</td>\n    </tr>\n    <tr>\n      <th>66</th>\n      <td>18344.0</td>\n      <td>14568.324966</td>\n    </tr>\n    <tr>\n      <th>45</th>\n      <td>8916.5</td>\n      <td>8506.016341</td>\n    </tr>\n    <tr>\n      <th>169</th>\n      <td>9989.0</td>\n      <td>11283.540635</td>\n    </tr>\n    <tr>\n      <th>130</th>\n      <td>9295.0</td>\n      <td>11064.444763</td>\n    </tr>\n    <tr>\n      <th>7</th>\n      <td>18920.0</td>\n      <td>18896.668631</td>\n    </tr>\n    <tr>\n      <th>37</th>\n      <td>7895.0</td>\n      <td>8545.093258</td>\n    </tr>\n    <tr>\n      <th>152</th>\n      <td>6488.0</td>\n      <td>6912.966898</td>\n    </tr>\n    <tr>\n      <th>80</th>\n      <td>9959.0</td>\n      <td>10028.062069</td>\n    </tr>\n    <tr>\n      <th>111</th>\n      <td>15580.0</td>\n      <td>13936.372624</td>\n    </tr>\n    <tr>\n      <th>131</th>\n      <td>9895.0</td>\n      <td>12517.693455</td>\n    </tr>\n    <tr>\n      <th>171</th>\n      <td>11549.0</td>\n      <td>12139.213624</td>\n    </tr>\n    <tr>\n      <th>179</th>\n      <td>15998.0</td>\n      <td>19018.081576</td>\n    </tr>\n    <tr>\n      <th>138</th>\n      <td>5118.0</td>\n      <td>6332.458804</td>\n    </tr>\n    <tr>\n      <th>156</th>\n      <td>6938.0</td>\n      <td>7158.458447</td>\n    </tr>\n    <tr>\n      <th>113</th>\n      <td>16695.0</td>\n      <td>15064.297209</td>\n    </tr>\n    <tr>\n      <th>161</th>\n      <td>8358.0</td>\n      <td>6758.722790</td>\n    </tr>\n    <tr>\n      <th>89</th>\n      <td>5499.0</td>\n      <td>5670.720201</td>\n    </tr>\n    <tr>\n      <th>183</th>\n      <td>7975.0</td>\n      <td>8735.222670</td>\n    </tr>\n    <tr>\n      <th>193</th>\n      <td>12290.0</td>\n      <td>10414.023443</td>\n    </tr>\n    <tr>\n      <th>125</th>\n      <td>22018.0</td>\n      <td>33386.911885</td>\n    </tr>\n    <tr>\n      <th>173</th>\n      <td>8948.0</td>\n      <td>10617.272057</td>\n    </tr>\n    <tr>\n      <th>92</th>\n      <td>6849.0</td>\n      <td>6781.839439</td>\n    </tr>\n    <tr>\n      <th>16</th>\n      <td>41315.0</td>\n      <td>28331.997628</td>\n    </tr>\n    <tr>\n      <th>189</th>\n      <td>11595.0</td>\n      <td>13296.583278</td>\n    </tr>\n    <tr>\n      <th>136</th>\n      <td>18150.0</td>\n      <td>15725.805526</td>\n    </tr>\n    <tr>\n      <th>22</th>\n      <td>6377.0</td>\n      <td>5233.315100</td>\n    </tr>\n    <tr>\n      <th>74</th>\n      <td>45400.0</td>\n      <td>33559.210271</td>\n    </tr>\n    <tr>\n      <th>44</th>\n      <td>8916.5</td>\n      <td>7972.879206</td>\n    </tr>\n  </tbody>\n</table>\n</div>"
     },
     "execution_count": 91,
     "metadata": {},
     "output_type": "execute_result"
    }
   ],
   "source": [
    "y_pred = regressor.predict(X_test)\n",
    "df = pd.DataFrame({'Actual': y_test, 'Predicted': y_pred})\n",
    "df"
   ],
   "metadata": {
    "collapsed": false,
    "pycharm": {
     "name": "#%%\n"
    }
   }
  },
  {
   "cell_type": "markdown",
   "source": [
    "##### Step 3.2 Evaluate the performance of the linear regression model on test dataset"
   ],
   "metadata": {
    "collapsed": false,
    "pycharm": {
     "name": "#%% md\n"
    }
   }
  },
  {
   "cell_type": "code",
   "execution_count": 92,
   "outputs": [
    {
     "name": "stdout",
     "output_type": "stream",
     "text": [
      "MAE: 2314.3390892188104\n",
      "MSE: 17096859.70781328\n",
      "RMSE: 4134.8349069598025\n",
      "R^2: 0.77915701409327\n"
     ]
    }
   ],
   "source": [
    "print_metrics(y_test, y_pred)"
   ],
   "metadata": {
    "collapsed": false,
    "pycharm": {
     "name": "#%%\n"
    }
   }
  },
  {
   "cell_type": "markdown",
   "source": [
    "## Polynomial Regression\n",
    "Polynomial Regression, is simply a transformation for the explanatory variables to higher polynomial orders with interactive variables.\n",
    "1. Why do we need it?\n",
    "<span style=\"color:green\"> One of the main assumptions of LR is the \"linearity\": that the relationship between X and y is linear. If this assumption doesn't hold, we need to transform the X to be close to the linearity.\n",
    "1. Which order of the polynomial should we choose?\n",
    "<span style=\"color:green\"> Clearly, the higher the order of the polynomial, the higher the complexity of the model. This is true both computationally and conceptually because in both cases we now have a higher number of adaptable parameters. The higher the complexity of a model the more variance it can capture. Choosing the order of the model depends on the variance-bias trade-off of the model. </span>\n",
    "2. should we always pick the most complex model?\n",
    "<span style=\"color:green\"> No: we have to strike a balance between variance and (inductive) bias: our model needs to have sufficient complexity to model the relationship between the predictors and the response, but it must have the ability to generalize to new, unseen cases. </span>\n",
    "\n",
    "___\n",
    "We will create a synthetic dataset by adding some random gaussian noise to a cosinusoidal function."
   ],
   "metadata": {
    "collapsed": false,
    "pycharm": {
     "name": "#%% md\n"
    }
   }
  },
  {
   "cell_type": "code",
   "execution_count": 67,
   "outputs": [],
   "source": [
    "import numpy as np\n",
    "import matplotlib.pyplot as plt\n",
    "from sklearn.pipeline import Pipeline\n",
    "from sklearn.preprocessing import PolynomialFeatures\n",
    "from sklearn.linear_model import LinearRegression\n",
    "from sklearn.model_selection import cross_val_score"
   ],
   "metadata": {
    "collapsed": false,
    "pycharm": {
     "name": "#%%\n"
    }
   }
  },
  {
   "cell_type": "code",
   "execution_count": 68,
   "outputs": [],
   "source": [
    "\n",
    "def true_fun(X):\n",
    "    return np.cos(1.5 * np.pi * X)\n"
   ],
   "metadata": {
    "collapsed": false,
    "pycharm": {
     "name": "#%%\n"
    }
   }
  },
  {
   "cell_type": "code",
   "execution_count": 69,
   "outputs": [],
   "source": [
    "\n",
    "np.random.seed(0)\n",
    "\n",
    "n_samples = 30\n",
    "degrees = [1, 4, 15]\n",
    "\n",
    "X = np.sort(np.random.rand(n_samples))\n",
    "y = true_fun(X) + np.random.randn(n_samples) * 0.1\n"
   ],
   "metadata": {
    "collapsed": false,
    "pycharm": {
     "name": "#%%\n"
    }
   }
  },
  {
   "cell_type": "code",
   "execution_count": 70,
   "outputs": [
    {
     "name": "stdout",
     "output_type": "stream",
     "text": [
      "model 0 metrics: \n",
      "\n",
      "MAE: 0.38406850814221805\n",
      "MSE: 0.192508849000798\n",
      "RMSE: 0.4387583036260374\n",
      "R^2: 0.5796351746300187\n",
      "model 1 metrics: \n",
      "\n",
      "MAE: 0.026222380408670854\n",
      "MSE: 0.0012064612200736657\n",
      "RMSE: 0.034734150631239934\n",
      "R^2: 0.99736555559537\n",
      "model 2 metrics: \n",
      "\n",
      "MAE: 0.6600564137269122\n",
      "MSE: 10.38911494157305\n",
      "RMSE: 3.2232150008296143\n",
      "R^2: -21.685806449057914\n"
     ]
    },
    {
     "data": {
      "text/plain": "<Figure size 1400x500 with 3 Axes>",
      "image/png": "[encoded data removed]"
     },
     "metadata": {},
     "output_type": "display_data"
    }
   ],
   "source": [
    "\n",
    "plt.figure(figsize=(14, 5))\n",
    "for i in range(len(degrees)):\n",
    "    ax = plt.subplot(1, len(degrees), i + 1)\n",
    "    plt.setp(ax, xticks=(), yticks=())\n",
    "\n",
    "    polynomial_features = PolynomialFeatures(degree=degrees[i])\n",
    "    linear_regression = LinearRegression()\n",
    "    pipeline = Pipeline([(\"polynomial_features\", polynomial_features),\n",
    "                         (\"linear_regression\", linear_regression)])\n",
    "    pipeline.fit(X[:, np.newaxis], y)\n",
    "\n",
    "    # Evaluate the models using crossvalidation\n",
    "    scores = cross_val_score(pipeline, X[:, np.newaxis], y,\n",
    "                             scoring=\"neg_mean_squared_error\", cv=10)\n",
    "    print(f\"model {i} metrics: \\n\")\n",
    "    X_test = np.linspace(0, 1, 100)\n",
    "    plt.plot(X_test, pipeline.predict(X_test[:, np.newaxis]), label=\"Model\")\n",
    "    plt.plot(X_test, true_fun(X_test), label=\"True function\")\n",
    "    plt.scatter(X, y, edgecolor='b', s=20, label=\"Samples\")\n",
    "    plt.xlabel(\"x\")\n",
    "    plt.ylabel(\"y\")\n",
    "    plt.xlim((0, 1))\n",
    "    plt.ylim((-2, 2))\n",
    "    plt.legend(loc=\"best\")\n",
    "    plt.title(\"Degree {}\\nMSE = {:.2e}(+/- {:.2e})\".format(\n",
    "        degrees[i], -scores.mean(), scores.std()))\n",
    "\n",
    "    print_metrics(true_fun(X_test), pipeline.predict(X_test[:, np.newaxis]))\n",
    "plt.show()"
   ],
   "metadata": {
    "collapsed": false,
    "pycharm": {
     "name": "#%%\n"
    }
   }
  },
  {
   "cell_type": "markdown",
   "source": [
    "Advantages of using Polynomial Regression:\n",
    "\n",
    "- Polynomial provides the best approximation of the relationship between the dependent and independent variable.\n",
    "A Broad range of function can be fit under it.\n",
    "Polynomial basically fits a wide range of curvature.\n",
    "\n",
    "Disadvantages of using Polynomial Regression\n",
    "\n",
    "- The presence of one or two outliers in the data can seriously affect the results of the nonlinear analysis.\n",
    "These are too sensitive to the outliers.\n",
    "In addition, there are unfortunately fewer model validation tools for the detection of outliers in nonlinear regression than there are for linear regression."
   ],
   "metadata": {
    "collapsed": false,
    "pycharm": {
     "name": "#%% md\n"
    }
   }
  },
  {
   "cell_type": "markdown",
   "source": [
    "## Self practice\n",
    "\n",
    "Load the full CarPrice dataset and handle the remaining features, try standardisation instead of MinMax normalization and observe the result, comment on the result, is it better or worse with the added features and standardisation? and what contributed to the change, the increase of the features or the change in normalization technique"
   ],
   "metadata": {
    "collapsed": false,
    "pycharm": {
     "name": "#%% md\n"
    }
   }
  },
  {
   "cell_type": "markdown",
   "source": [
    "References\n",
    "- https://machinelearningmastery.com/one-hot-encoding-for-categorical-data/\n",
    "- https://towardsdatascience.com/all-about-feature-scaling-bcc0ad75cb35\n",
    "- https://www.kdnuggets.com/2020/04/data-transformation-standardization-normalization.html\n",
    "- https://medium.com/@madanflies/linear-regression-on-carprice-dataset-or-encoding-a-categorical-dataset-in-linear-regression-7378f207e5c1\n",
    "- https://www.investopedia.com/terms/c/coefficient-of-determination.asp\n",
    "- https://ai-ml-analytics.com/encoding/#:~:text=Encoding%20is%20a%20technique%20of,to%20a%20machine%20learning%20model."
   ],
   "metadata": {
    "collapsed": false,
    "pycharm": {
     "name": "#%% md\n"
    }
   }
  }
 ],
 "metadata": {
  "kernelspec": {
   "display_name": "Python 3",
   "language": "python",
   "name": "python3"
  },
  "language_info": {
   "codemirror_mode": {
    "name": "ipython",
    "version": 2
   },
   "file_extension": ".py",
   "mimetype": "text/x-python",
   "name": "python",
   "nbconvert_exporter": "python",
   "pygments_lexer": "ipython2",
   "version": "2.7.6"
  }
 },
 "nbformat": 4,
 "nbformat_minor": 0
}