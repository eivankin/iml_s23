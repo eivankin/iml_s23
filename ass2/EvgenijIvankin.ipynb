{
 "cells": [
  {
   "cell_type": "markdown",
   "metadata": {},
   "source": [
    "# Assignment 2\n",
    "\n",
    "## Instructions\n",
    "- Your submission should be the `.ipynb` file with your name,\n",
    "  like `FirstnameLastname.ipynb`. it should include the answers to the questions in\n",
    "  markdown cells.\n",
    "- You are expected to follow the best practices for code writing and model\n",
    "training. Poor coding style will be penalized.\n",
    "- You are allowed to discuss ideas with your peers, but no sharing of code.\n",
    "Plagiarism in the code will result in failing. If you use code from the\n",
    "internet, cite it by adding the source of the code as a comment in the first line of the code cell.\n",
    "- In real life clients can give unclear goals or requirements. So, if the instructions seem vague, use common sense to make reasonable assumptions."
   ]
  },
  {
   "attachments": {},
   "cell_type": "markdown",
   "metadata": {},
   "source": [
    "# Task 1: [Where's Waldo?](https://www.wikihow.com/Find-Waldo) (35 points)\n",
    "\n",
    "## Fingerprinting\n",
    "Browser fingerprinting is a technique used to identify and track individuals based on unique characteristics of their web browser configuration. These characteristics can include the browser type, version, installed plugins, and screen resolution, among others. By combining these attributes, websites can create a digital fingerprint that can be used to track user behavior across multiple sites, even if they clear their cookies or use different devices. This has raised concerns about privacy and the potential for this technology to be used for targeted advertising, surveillance, and other purposes.\n",
    "\n",
    "[Read more]([Fingerprinting](https://datadome.co/learning-center/browser-fingerprinting-techniques/))\n",
    "\n",
    "##  What you need to do\n",
    "For this task, you are required to build a fully connect feed-forward ANN model\n",
    "for a classification problem.\n",
    "\n",
    "For the given data, you need do proper data preprocessing, data analysis,\n",
    "design the ANN model, then fine-tune your model architecture.\n",
    "\n",
    "For evaluating your model, do $ 80/20 $ train test split.\n",
    "\n",
    "### Learning Objectives\n",
    "\n",
    "- Select and implement suitable data preprocessing techniques. 10%\n",
    "- Identify the appropriate classification approach for a given problem. 20%\n",
    "- Apply ANNs to solve a classification problem (basic training, validation, testing -- without fine tuning). 50%\n",
    "- Fine-tune to determine the optimal model architecture. 20%\n",
    "\n",
    "\n",
    "### Data\n",
    "You will be working with the data in `Task_1.csv` for identifying waldo (the user with `user_id=0`) \n",
    "\n",
    "The columns include:\n",
    " - browser\n",
    " - os\n",
    " - locale\n",
    " - user_id\n",
    " - location\n",
    " - sites\n",
    " - time\n",
    " - date\n",
    "\n",
    "After training, evaluate you model by print [classification_report](https://scikit-learn.org/stable/modules/generated/sklearn.metrics.classification_report.html)\n",
    "on your test set. \n",
    "\n",
    "Then predicting each user in `task_1_verify.csv` whether it's Waldo or not. Your output should look like the following:\n",
    "\n",
    "`row_idx: is_waldo`, notice if the user is waldo your output should be 1\n",
    "\n",
    "``` \n",
    "0: 1\n",
    "1: 0\n",
    "2: 0\n",
    "3: 1\n",
    "4: 1\n",
    "...\n",
    "```\n",
    "\n"
   ]
  },
  {
   "cell_type": "code",
   "execution_count": 100,
   "outputs": [],
   "source": [
    "SEED = 42"
   ],
   "metadata": {
    "collapsed": false
   }
  },
  {
   "cell_type": "code",
   "execution_count": 101,
   "outputs": [],
   "source": [
    "import pandas as pd\n",
    "import numpy as np"
   ],
   "metadata": {
    "collapsed": false
   }
  },
  {
   "cell_type": "code",
   "execution_count": 102,
   "outputs": [
    {
     "data": {
      "text/plain": "   index            browser          os locale  user_id          location  \\\n0   8909            Firefox  Windows 10  zh-CN       46    China/Shanghai   \n1  17679  Internet Explorer   Windows 8  ro-RO       21    Germany/Berlin   \n2  11803  Internet Explorer       MacOS  ur-PK       98  Australia/Sydney   \n3    356  Internet Explorer      Ubuntu  pl-PL       44       Japan/Tokyo   \n4  10948  Internet Explorer   Windows 8  bg-BG       59       Japan/Tokyo   \n\n                                               sites      time        date  \n0  [{'site': '1.static.dpreview.com', 'length': 1...  14:14:00  2016-01-28  \n1  [{'site': 'safebrowsing-cache.google.com', 'le...  05:23:00  2016-08-26  \n2  [{'site': 'www.ncbi.nlm.nih.gov', 'length': 10...  12:03:00  2016-03-13  \n3  [{'site': 'fr.hdscreen.me', 'length': 16}, {'s...  06:08:00  2017-01-19  \n4  [{'site': '193.164.196.50', 'length': 10}, {'s...  03:59:00  2017-05-13  ",
      "text/html": "<div>\n<style scoped>\n    .dataframe tbody tr th:only-of-type {\n        vertical-align: middle;\n    }\n\n    .dataframe tbody tr th {\n        vertical-align: top;\n    }\n\n    .dataframe thead th {\n        text-align: right;\n    }\n</style>\n<table border=\"1\" class=\"dataframe\">\n  <thead>\n    <tr style=\"text-align: right;\">\n      <th></th>\n      <th>index</th>\n      <th>browser</th>\n      <th>os</th>\n      <th>locale</th>\n      <th>user_id</th>\n      <th>location</th>\n      <th>sites</th>\n      <th>time</th>\n      <th>date</th>\n    </tr>\n  </thead>\n  <tbody>\n    <tr>\n      <th>0</th>\n      <td>8909</td>\n      <td>Firefox</td>\n      <td>Windows 10</td>\n      <td>zh-CN</td>\n      <td>46</td>\n      <td>China/Shanghai</td>\n      <td>[{'site': '1.static.dpreview.com', 'length': 1...</td>\n      <td>14:14:00</td>\n      <td>2016-01-28</td>\n    </tr>\n    <tr>\n      <th>1</th>\n      <td>17679</td>\n      <td>Internet Explorer</td>\n      <td>Windows 8</td>\n      <td>ro-RO</td>\n      <td>21</td>\n      <td>Germany/Berlin</td>\n      <td>[{'site': 'safebrowsing-cache.google.com', 'le...</td>\n      <td>05:23:00</td>\n      <td>2016-08-26</td>\n    </tr>\n    <tr>\n      <th>2</th>\n      <td>11803</td>\n      <td>Internet Explorer</td>\n      <td>MacOS</td>\n      <td>ur-PK</td>\n      <td>98</td>\n      <td>Australia/Sydney</td>\n      <td>[{'site': 'www.ncbi.nlm.nih.gov', 'length': 10...</td>\n      <td>12:03:00</td>\n      <td>2016-03-13</td>\n    </tr>\n    <tr>\n      <th>3</th>\n      <td>356</td>\n      <td>Internet Explorer</td>\n      <td>Ubuntu</td>\n      <td>pl-PL</td>\n      <td>44</td>\n      <td>Japan/Tokyo</td>\n      <td>[{'site': 'fr.hdscreen.me', 'length': 16}, {'s...</td>\n      <td>06:08:00</td>\n      <td>2017-01-19</td>\n    </tr>\n    <tr>\n      <th>4</th>\n      <td>10948</td>\n      <td>Internet Explorer</td>\n      <td>Windows 8</td>\n      <td>bg-BG</td>\n      <td>59</td>\n      <td>Japan/Tokyo</td>\n      <td>[{'site': '193.164.196.50', 'length': 10}, {'s...</td>\n      <td>03:59:00</td>\n      <td>2017-05-13</td>\n    </tr>\n  </tbody>\n</table>\n</div>"
     },
     "execution_count": 102,
     "metadata": {},
     "output_type": "execute_result"
    }
   ],
   "source": [
    "train_df = pd.read_csv('task 1.csv')\n",
    "train_df.head()"
   ],
   "metadata": {
    "collapsed": false
   }
  },
  {
   "cell_type": "code",
   "execution_count": 103,
   "outputs": [
    {
     "data": {
      "text/plain": "0      400\n55     131\n82     127\n148    122\n120    121\n      ... \n124     84\n145     83\n170     82\n42      82\n152     77\nName: user_id, Length: 200, dtype: int64"
     },
     "execution_count": 103,
     "metadata": {},
     "output_type": "execute_result"
    }
   ],
   "source": [
    "train_df.user_id.value_counts()"
   ],
   "metadata": {
    "collapsed": false
   }
  },
  {
   "cell_type": "markdown",
   "source": [
    "## Preprocessing\n",
    "I decided to consider this task as a binary classification problem."
   ],
   "metadata": {
    "collapsed": false
   }
  },
  {
   "cell_type": "code",
   "execution_count": 104,
   "metadata": {
    "collapsed": false,
    "jupyter": {
     "outputs_hidden": false
    }
   },
   "outputs": [
    {
     "data": {
      "text/plain": "   index            browser          os locale  user_id          location  \\\n0   8909            Firefox  Windows 10  zh-CN       46    China/Shanghai   \n1  17679  Internet Explorer   Windows 8  ro-RO       21    Germany/Berlin   \n2  11803  Internet Explorer       MacOS  ur-PK       98  Australia/Sydney   \n3    356  Internet Explorer      Ubuntu  pl-PL       44       Japan/Tokyo   \n4  10948  Internet Explorer   Windows 8  bg-BG       59       Japan/Tokyo   \n\n                                               sites      time        date  \\\n0  [{'site': '1.static.dpreview.com', 'length': 1...  14:14:00  2016-01-28   \n1  [{'site': 'safebrowsing-cache.google.com', 'le...  05:23:00  2016-08-26   \n2  [{'site': 'www.ncbi.nlm.nih.gov', 'length': 10...  12:03:00  2016-03-13   \n3  [{'site': 'fr.hdscreen.me', 'length': 16}, {'s...  06:08:00  2017-01-19   \n4  [{'site': '193.164.196.50', 'length': 10}, {'s...  03:59:00  2017-05-13   \n\n   is_waldo  \n0         0  \n1         0  \n2         0  \n3         0  \n4         0  ",
      "text/html": "<div>\n<style scoped>\n    .dataframe tbody tr th:only-of-type {\n        vertical-align: middle;\n    }\n\n    .dataframe tbody tr th {\n        vertical-align: top;\n    }\n\n    .dataframe thead th {\n        text-align: right;\n    }\n</style>\n<table border=\"1\" class=\"dataframe\">\n  <thead>\n    <tr style=\"text-align: right;\">\n      <th></th>\n      <th>index</th>\n      <th>browser</th>\n      <th>os</th>\n      <th>locale</th>\n      <th>user_id</th>\n      <th>location</th>\n      <th>sites</th>\n      <th>time</th>\n      <th>date</th>\n      <th>is_waldo</th>\n    </tr>\n  </thead>\n  <tbody>\n    <tr>\n      <th>0</th>\n      <td>8909</td>\n      <td>Firefox</td>\n      <td>Windows 10</td>\n      <td>zh-CN</td>\n      <td>46</td>\n      <td>China/Shanghai</td>\n      <td>[{'site': '1.static.dpreview.com', 'length': 1...</td>\n      <td>14:14:00</td>\n      <td>2016-01-28</td>\n      <td>0</td>\n    </tr>\n    <tr>\n      <th>1</th>\n      <td>17679</td>\n      <td>Internet Explorer</td>\n      <td>Windows 8</td>\n      <td>ro-RO</td>\n      <td>21</td>\n      <td>Germany/Berlin</td>\n      <td>[{'site': 'safebrowsing-cache.google.com', 'le...</td>\n      <td>05:23:00</td>\n      <td>2016-08-26</td>\n      <td>0</td>\n    </tr>\n    <tr>\n      <th>2</th>\n      <td>11803</td>\n      <td>Internet Explorer</td>\n      <td>MacOS</td>\n      <td>ur-PK</td>\n      <td>98</td>\n      <td>Australia/Sydney</td>\n      <td>[{'site': 'www.ncbi.nlm.nih.gov', 'length': 10...</td>\n      <td>12:03:00</td>\n      <td>2016-03-13</td>\n      <td>0</td>\n    </tr>\n    <tr>\n      <th>3</th>\n      <td>356</td>\n      <td>Internet Explorer</td>\n      <td>Ubuntu</td>\n      <td>pl-PL</td>\n      <td>44</td>\n      <td>Japan/Tokyo</td>\n      <td>[{'site': 'fr.hdscreen.me', 'length': 16}, {'s...</td>\n      <td>06:08:00</td>\n      <td>2017-01-19</td>\n      <td>0</td>\n    </tr>\n    <tr>\n      <th>4</th>\n      <td>10948</td>\n      <td>Internet Explorer</td>\n      <td>Windows 8</td>\n      <td>bg-BG</td>\n      <td>59</td>\n      <td>Japan/Tokyo</td>\n      <td>[{'site': '193.164.196.50', 'length': 10}, {'s...</td>\n      <td>03:59:00</td>\n      <td>2017-05-13</td>\n      <td>0</td>\n    </tr>\n  </tbody>\n</table>\n</div>"
     },
     "execution_count": 104,
     "metadata": {},
     "output_type": "execute_result"
    }
   ],
   "source": [
    "train_df['is_waldo'] = (train_df.user_id == 0).astype(np.int8)\n",
    "train_df.head()"
   ]
  },
  {
   "cell_type": "code",
   "execution_count": 105,
   "outputs": [
    {
     "data": {
      "text/plain": "<AxesSubplot: >"
     },
     "execution_count": 105,
     "metadata": {},
     "output_type": "execute_result"
    },
    {
     "data": {
      "text/plain": "<Figure size 640x480 with 1 Axes>",
      "image/png": "[encoded data removed]"
     },
     "metadata": {},
     "output_type": "display_data"
    }
   ],
   "source": [
    "train_df.is_waldo.hist(bins=2)"
   ],
   "metadata": {
    "collapsed": false
   }
  },
  {
   "cell_type": "markdown",
   "source": [
    "We can see significant class imbalance on the plot above."
   ],
   "metadata": {
    "collapsed": false
   }
  },
  {
   "cell_type": "code",
   "execution_count": 106,
   "outputs": [],
   "source": [
    "raw_x = train_df.drop(columns=['user_id', 'index', 'sites', 'is_waldo'])\n",
    "y = train_df.is_waldo"
   ],
   "metadata": {
    "collapsed": false
   }
  },
  {
   "cell_type": "code",
   "execution_count": 107,
   "outputs": [],
   "source": [
    "from sklearn.preprocessing import StandardScaler\n",
    "\n",
    "time_scaler = StandardScaler()\n",
    "date_scaler = StandardScaler()\n",
    "\n",
    "X = raw_x.copy()\n",
    "X.time = time_scaler.fit_transform(pd.to_datetime(raw_x.time).to_numpy().reshape((-1, 1)))\n",
    "X.date = date_scaler.fit_transform(pd.to_datetime(raw_x.date).apply(lambda x: x.weekday()).to_numpy().reshape((-1, 1)))"
   ],
   "metadata": {
    "collapsed": false
   }
  },
  {
   "cell_type": "code",
   "execution_count": 108,
   "outputs": [
    {
     "data": {
      "text/plain": "       time      date  browser_Chrome  browser_Firefox  \\\n0  0.379652 -0.006065               0                1   \n1 -0.950282  0.496936               0                0   \n2  0.051551  1.502939               0                0   \n3 -0.837575 -0.006065               0                0   \n4 -1.160667  0.999938               0                0   \n\n   browser_Internet Explorer  browser_Safari  os_Debian  os_MacOS  os_Ubuntu  \\\n0                          0               0          0         0          0   \n1                          1               0          0         0          0   \n2                          1               0          0         1          0   \n3                          1               0          0         0          1   \n4                          1               0          0         0          0   \n\n   os_Windows 10  ...  location_Netherlands/Amsterdam  \\\n0              1  ...                               0   \n1              0  ...                               0   \n2              0  ...                               0   \n3              0  ...                               0   \n4              0  ...                               0   \n\n   location_New Zealand/Auckland  location_Russia/Moscow  \\\n0                              0                       0   \n1                              0                       0   \n2                              0                       0   \n3                              0                       0   \n4                              0                       0   \n\n   location_Singapore/Singapore  location_Spain/Madrid  location_UK/London  \\\n0                             0                      0                   0   \n1                             0                      0                   0   \n2                             0                      0                   0   \n3                             0                      0                   0   \n4                             0                      0                   0   \n\n   location_USA/Chicago  location_USA/Miami  location_USA/New York  \\\n0                     0                   0                      0   \n1                     0                   0                      0   \n2                     0                   0                      0   \n3                     0                   0                      0   \n4                     0                   0                      0   \n\n   location_USA/San Francisco  \n0                           0  \n1                           0  \n2                           0  \n3                           0  \n4                           0  \n\n[5 rows x 58 columns]",
      "text/html": "<div>\n<style scoped>\n    .dataframe tbody tr th:only-of-type {\n        vertical-align: middle;\n    }\n\n    .dataframe tbody tr th {\n        vertical-align: top;\n    }\n\n    .dataframe thead th {\n        text-align: right;\n    }\n</style>\n<table border=\"1\" class=\"dataframe\">\n  <thead>\n    <tr style=\"text-align: right;\">\n      <th></th>\n      <th>time</th>\n      <th>date</th>\n      <th>browser_Chrome</th>\n      <th>browser_Firefox</th>\n      <th>browser_Internet Explorer</th>\n      <th>browser_Safari</th>\n      <th>os_Debian</th>\n      <th>os_MacOS</th>\n      <th>os_Ubuntu</th>\n      <th>os_Windows 10</th>\n      <th>...</th>\n      <th>location_Netherlands/Amsterdam</th>\n      <th>location_New Zealand/Auckland</th>\n      <th>location_Russia/Moscow</th>\n      <th>location_Singapore/Singapore</th>\n      <th>location_Spain/Madrid</th>\n      <th>location_UK/London</th>\n      <th>location_USA/Chicago</th>\n      <th>location_USA/Miami</th>\n      <th>location_USA/New York</th>\n      <th>location_USA/San Francisco</th>\n    </tr>\n  </thead>\n  <tbody>\n    <tr>\n      <th>0</th>\n      <td>0.379652</td>\n      <td>-0.006065</td>\n      <td>0</td>\n      <td>1</td>\n      <td>0</td>\n      <td>0</td>\n      <td>0</td>\n      <td>0</td>\n      <td>0</td>\n      <td>1</td>\n      <td>...</td>\n      <td>0</td>\n      <td>0</td>\n      <td>0</td>\n      <td>0</td>\n      <td>0</td>\n      <td>0</td>\n      <td>0</td>\n      <td>0</td>\n      <td>0</td>\n      <td>0</td>\n    </tr>\n    <tr>\n      <th>1</th>\n      <td>-0.950282</td>\n      <td>0.496936</td>\n      <td>0</td>\n      <td>0</td>\n      <td>1</td>\n      <td>0</td>\n      <td>0</td>\n      <td>0</td>\n      <td>0</td>\n      <td>0</td>\n      <td>...</td>\n      <td>0</td>\n      <td>0</td>\n      <td>0</td>\n      <td>0</td>\n      <td>0</td>\n      <td>0</td>\n      <td>0</td>\n      <td>0</td>\n      <td>0</td>\n      <td>0</td>\n    </tr>\n    <tr>\n      <th>2</th>\n      <td>0.051551</td>\n      <td>1.502939</td>\n      <td>0</td>\n      <td>0</td>\n      <td>1</td>\n      <td>0</td>\n      <td>0</td>\n      <td>1</td>\n      <td>0</td>\n      <td>0</td>\n      <td>...</td>\n      <td>0</td>\n      <td>0</td>\n      <td>0</td>\n      <td>0</td>\n      <td>0</td>\n      <td>0</td>\n      <td>0</td>\n      <td>0</td>\n      <td>0</td>\n      <td>0</td>\n    </tr>\n    <tr>\n      <th>3</th>\n      <td>-0.837575</td>\n      <td>-0.006065</td>\n      <td>0</td>\n      <td>0</td>\n      <td>1</td>\n      <td>0</td>\n      <td>0</td>\n      <td>0</td>\n      <td>1</td>\n      <td>0</td>\n      <td>...</td>\n      <td>0</td>\n      <td>0</td>\n      <td>0</td>\n      <td>0</td>\n      <td>0</td>\n      <td>0</td>\n      <td>0</td>\n      <td>0</td>\n      <td>0</td>\n      <td>0</td>\n    </tr>\n    <tr>\n      <th>4</th>\n      <td>-1.160667</td>\n      <td>0.999938</td>\n      <td>0</td>\n      <td>0</td>\n      <td>1</td>\n      <td>0</td>\n      <td>0</td>\n      <td>0</td>\n      <td>0</td>\n      <td>0</td>\n      <td>...</td>\n      <td>0</td>\n      <td>0</td>\n      <td>0</td>\n      <td>0</td>\n      <td>0</td>\n      <td>0</td>\n      <td>0</td>\n      <td>0</td>\n      <td>0</td>\n      <td>0</td>\n    </tr>\n  </tbody>\n</table>\n<p>5 rows × 58 columns</p>\n</div>"
     },
     "execution_count": 108,
     "metadata": {},
     "output_type": "execute_result"
    }
   ],
   "source": [
    "X = pd.get_dummies(X)\n",
    "X.head()"
   ],
   "metadata": {
    "collapsed": false
   }
  },
  {
   "cell_type": "code",
   "execution_count": 109,
   "outputs": [],
   "source": [
    "from sklearn.model_selection import train_test_split\n",
    "\n",
    "X_train, X_test, y_train, y_test = train_test_split(X, y, test_size=0.2, random_state=SEED, stratify=y)"
   ],
   "metadata": {
    "collapsed": false
   }
  },
  {
   "cell_type": "code",
   "execution_count": 11,
   "outputs": [],
   "source": [
    "from sklearn.utils import resample\n",
    "\n",
    "is_waldo_filter = y_train == 1\n",
    "\n",
    "# separate majority and minority classes\n",
    "X_train_majority = X_train[~is_waldo_filter]\n",
    "X_train_minority = X_train[is_waldo_filter]\n",
    "\n",
    "y_train_majority = y_train[~is_waldo_filter]\n",
    "y_train_minority = y_train[is_waldo_filter]\n",
    "\n",
    "# Upsample minority class\n",
    "X_train_minority_upsampled = resample(\n",
    "    X_train_minority,\n",
    "    replace=True,\n",
    "    n_samples=len(X_train_majority),\n",
    "    random_state=SEED\n",
    ")\n",
    "\n",
    "y_train_minority_upsampled = resample(\n",
    "    y_train_minority,\n",
    "    replace=True,\n",
    "    n_samples=len(y_train_majority),\n",
    "    random_state=SEED\n",
    ")\n",
    "\n",
    "# Combine majority class with upsampled minority class\n",
    "X_train_balanced = pd.concat([X_train_majority, X_train_minority_upsampled])\n",
    "y_train_balanced = pd.concat([y_train_majority, y_train_minority_upsampled])"
   ],
   "metadata": {
    "collapsed": false
   }
  },
  {
   "cell_type": "code",
   "execution_count": 12,
   "outputs": [
    {
     "data": {
      "text/plain": "<AxesSubplot: >"
     },
     "execution_count": 12,
     "metadata": {},
     "output_type": "execute_result"
    },
    {
     "data": {
      "text/plain": "<Figure size 640x480 with 1 Axes>",
      "image/png": "[encoded data removed]"
     },
     "metadata": {},
     "output_type": "display_data"
    }
   ],
   "source": [
    "y_train_balanced.hist(bins=2)"
   ],
   "metadata": {
    "collapsed": false
   }
  },
  {
   "cell_type": "markdown",
   "source": [
    "## Model training"
   ],
   "metadata": {
    "collapsed": false
   }
  },
  {
   "cell_type": "code",
   "execution_count": 39,
   "outputs": [
    {
     "name": "stdout",
     "output_type": "stream",
     "text": [
      "Epoch 1/30\ttrain_loss=0.6920721530914307\ttest_loss=0.6396554112434387\n",
      "Epoch 2/30\ttrain_loss=0.6300590634346008\ttest_loss=0.543769121170044\n",
      "Epoch 3/30\ttrain_loss=0.5271479487419128\ttest_loss=0.40155184268951416\n",
      "Epoch 4/30\ttrain_loss=0.3778643310070038\ttest_loss=0.24226641654968262\n",
      "Epoch 5/30\ttrain_loss=0.21901550889015198\ttest_loss=0.1183999553322792\n",
      "Epoch 6/30\ttrain_loss=0.100246362388134\ttest_loss=0.05512082576751709\n",
      "Epoch 7/30\ttrain_loss=0.04107602685689926\ttest_loss=0.029618294909596443\n",
      "Epoch 8/30\ttrain_loss=0.019191600382328033\ttest_loss=0.018771223723888397\n",
      "Epoch 9/30\ttrain_loss=0.011283571831882\ttest_loss=0.013901843689382076\n",
      "Epoch 10/30\ttrain_loss=0.008038036525249481\ttest_loss=0.011495276354253292\n",
      "Epoch 11/30\ttrain_loss=0.006464914418756962\ttest_loss=0.010080378502607346\n",
      "Epoch 12/30\ttrain_loss=0.005632347427308559\ttest_loss=0.009381766431033611\n",
      "Epoch 13/30\ttrain_loss=0.005265089217573404\ttest_loss=0.009400688111782074\n",
      "Epoch 14/30\ttrain_loss=0.004929540678858757\ttest_loss=0.01002378761768341\n",
      "Epoch 15/30\ttrain_loss=0.004519800189882517\ttest_loss=0.010904841125011444\n",
      "Epoch 16/30\ttrain_loss=0.004329513758420944\ttest_loss=0.011718524619936943\n",
      "Epoch 17/30\ttrain_loss=0.004327228758484125\ttest_loss=0.01223946176469326\n",
      "Epoch 18/30\ttrain_loss=0.00435252021998167\ttest_loss=0.01238841749727726\n",
      "Epoch 19/30\ttrain_loss=0.004313645884394646\ttest_loss=0.012148295529186726\n",
      "Epoch 20/30\ttrain_loss=0.004207116551697254\ttest_loss=0.01158539205789566\n",
      "Epoch 21/30\ttrain_loss=0.004086087457835674\ttest_loss=0.010896986350417137\n",
      "Epoch 22/30\ttrain_loss=0.0040969024412333965\ttest_loss=0.010527301579713821\n",
      "Epoch 23/30\ttrain_loss=0.004170352127403021\ttest_loss=0.010854348540306091\n",
      "Epoch 24/30\ttrain_loss=0.003971587400883436\ttest_loss=0.011398944072425365\n",
      "Epoch 25/30\ttrain_loss=0.00388727942481637\ttest_loss=0.011671380139887333\n",
      "Epoch 26/30\ttrain_loss=0.0038967144209891558\ttest_loss=0.011477082967758179\n",
      "Epoch 27/30\ttrain_loss=0.003846343606710434\ttest_loss=0.010860225185751915\n",
      "Epoch 28/30\ttrain_loss=0.0037409530486911535\ttest_loss=0.01010913960635662\n",
      "Epoch 29/30\ttrain_loss=0.0037082433700561523\ttest_loss=0.009776566177606583\n",
      "Epoch 30/30\ttrain_loss=0.003727877978235483\ttest_loss=0.010197840631008148\n"
     ]
    }
   ],
   "source": [
    "import torch\n",
    "from torch import nn\n",
    "\n",
    "torch.manual_seed(SEED)\n",
    "\n",
    "device = torch.device('cuda' if torch.cuda.is_available() else 'cpu')\n",
    "NUM_EPOCH = 30\n",
    "NUM_NEURONS = 128\n",
    "model = nn.Sequential(\n",
    "    nn.Linear(X_train.shape[1], NUM_NEURONS),\n",
    "    nn.ReLU(),\n",
    "    nn.Linear(NUM_NEURONS, NUM_NEURONS),\n",
    "    nn.ReLU(),\n",
    "    nn.Linear(NUM_NEURONS, 1),\n",
    "    nn.Sigmoid()\n",
    ").to(device)\n",
    "criterion = nn.BCELoss()\n",
    "optimizer = torch.optim.Adam(model.parameters(), lr=0.01)\n",
    "for epoch in range(NUM_EPOCH):\n",
    "    model.train()\n",
    "    optimizer.zero_grad()\n",
    "    y_train_pred = model(torch.Tensor(X_train_balanced.values).to(device))\n",
    "    train_loss = criterion(y_train_pred.squeeze(), torch.Tensor(y_train_balanced.values).float().to(device))\n",
    "    train_loss.backward()\n",
    "    optimizer.step()\n",
    "\n",
    "    with torch.no_grad():\n",
    "        model.eval()\n",
    "        y_test_pred = model(torch.Tensor(X_test.values).to(device))\n",
    "        test_loss = criterion(y_test_pred.squeeze(),\n",
    "                              torch.Tensor(y_test.values).float().to(device)).item()\n",
    "\n",
    "    print(f\"Epoch {epoch + 1}/{NUM_EPOCH}\\ttrain_loss={train_loss.item()}\\t{test_loss=}\")"
   ],
   "metadata": {
    "collapsed": false
   }
  },
  {
   "cell_type": "markdown",
   "source": [
    "## Evaluation on the test set"
   ],
   "metadata": {
    "collapsed": false
   }
  },
  {
   "cell_type": "code",
   "execution_count": 40,
   "outputs": [
    {
     "name": "stdout",
     "output_type": "stream",
     "text": [
      "(array([0, 1], dtype=int8), array([3996,   85]))\n",
      "              precision    recall  f1-score   support\n",
      "\n",
      "           0       1.00      1.00      1.00      4001\n",
      "           1       0.94      1.00      0.97        80\n",
      "\n",
      "    accuracy                           1.00      4081\n",
      "   macro avg       0.97      1.00      0.98      4081\n",
      "weighted avg       1.00      1.00      1.00      4081\n",
      "\n"
     ]
    }
   ],
   "source": [
    "from sklearn.metrics import classification_report\n",
    "\n",
    "y_pred = y_test_pred.cpu().detach().numpy().squeeze().round().astype(np.int8)\n",
    "print(np.unique(y_pred, return_counts=True))\n",
    "print(classification_report(y_test, y_pred, zero_division=0))"
   ],
   "metadata": {
    "collapsed": false
   }
  },
  {
   "cell_type": "markdown",
   "source": [
    "## Making predictions"
   ],
   "metadata": {
    "collapsed": false
   }
  },
  {
   "cell_type": "code",
   "execution_count": 41,
   "outputs": [
    {
     "data": {
      "text/plain": "   browser          os locale          location      time        date\n0  Firefox   Windows 7  xh-ZA      USA/New York  11:30:00  2016-10-05\n1   Chrome  Windows 10  pl-PL       Japan/Tokyo  14:35:00  2016-05-06\n2  Firefox      Debian  vi-VN      France/Paris  14:31:00  2016-03-27\n3  Firefox      Debian  en-US  Canada/Vancouver  10:55:00  2016-12-31\n4  Firefox      Debian  en-CA  Australia/Sydney  03:30:00  2017-01-19",
      "text/html": "<div>\n<style scoped>\n    .dataframe tbody tr th:only-of-type {\n        vertical-align: middle;\n    }\n\n    .dataframe tbody tr th {\n        vertical-align: top;\n    }\n\n    .dataframe thead th {\n        text-align: right;\n    }\n</style>\n<table border=\"1\" class=\"dataframe\">\n  <thead>\n    <tr style=\"text-align: right;\">\n      <th></th>\n      <th>browser</th>\n      <th>os</th>\n      <th>locale</th>\n      <th>location</th>\n      <th>time</th>\n      <th>date</th>\n    </tr>\n  </thead>\n  <tbody>\n    <tr>\n      <th>0</th>\n      <td>Firefox</td>\n      <td>Windows 7</td>\n      <td>xh-ZA</td>\n      <td>USA/New York</td>\n      <td>11:30:00</td>\n      <td>2016-10-05</td>\n    </tr>\n    <tr>\n      <th>1</th>\n      <td>Chrome</td>\n      <td>Windows 10</td>\n      <td>pl-PL</td>\n      <td>Japan/Tokyo</td>\n      <td>14:35:00</td>\n      <td>2016-05-06</td>\n    </tr>\n    <tr>\n      <th>2</th>\n      <td>Firefox</td>\n      <td>Debian</td>\n      <td>vi-VN</td>\n      <td>France/Paris</td>\n      <td>14:31:00</td>\n      <td>2016-03-27</td>\n    </tr>\n    <tr>\n      <th>3</th>\n      <td>Firefox</td>\n      <td>Debian</td>\n      <td>en-US</td>\n      <td>Canada/Vancouver</td>\n      <td>10:55:00</td>\n      <td>2016-12-31</td>\n    </tr>\n    <tr>\n      <th>4</th>\n      <td>Firefox</td>\n      <td>Debian</td>\n      <td>en-CA</td>\n      <td>Australia/Sydney</td>\n      <td>03:30:00</td>\n      <td>2017-01-19</td>\n    </tr>\n  </tbody>\n</table>\n</div>"
     },
     "execution_count": 41,
     "metadata": {},
     "output_type": "execute_result"
    }
   ],
   "source": [
    "test_df = pd.read_csv('task_1_verify.csv')\n",
    "raw_x = test_df.drop(columns=['sites'])\n",
    "raw_x.head()"
   ],
   "metadata": {
    "collapsed": false
   }
  },
  {
   "cell_type": "code",
   "execution_count": 42,
   "outputs": [],
   "source": [
    "def get_cat_cols(df):\n",
    "    return df.columns[~df.columns.isin(('date', 'time'))]"
   ],
   "metadata": {
    "collapsed": false
   }
  },
  {
   "cell_type": "code",
   "execution_count": 43,
   "outputs": [
    {
     "data": {
      "text/plain": "       time      date  browser_Chrome  browser_Firefox  \\\n0 -0.031100 -0.509067               0                1   \n1  0.432248  0.496936               1                0   \n2  0.422230  1.502939               0                1   \n3 -0.118760  0.999938               0                1   \n4 -1.233299 -0.006065               0                1   \n\n   browser_Internet Explorer  browser_Safari  os_Debian  os_MacOS  os_Ubuntu  \\\n0                          0               0          0         0          0   \n1                          0               0          0         0          0   \n2                          0               0          1         0          0   \n3                          0               0          1         0          0   \n4                          0               0          1         0          0   \n\n   os_Windows 10  ...  location_Netherlands/Amsterdam  \\\n0              0  ...                               0   \n1              1  ...                               0   \n2              0  ...                               0   \n3              0  ...                               0   \n4              0  ...                               0   \n\n   location_New Zealand/Auckland  location_Russia/Moscow  \\\n0                              0                       0   \n1                              0                       0   \n2                              0                       0   \n3                              0                       0   \n4                              0                       0   \n\n   location_Singapore/Singapore  location_Spain/Madrid  location_UK/London  \\\n0                             0                      0                   0   \n1                             0                      0                   0   \n2                             0                      0                   0   \n3                             0                      0                   0   \n4                             0                      0                   0   \n\n   location_USA/Chicago  location_USA/Miami  location_USA/New York  \\\n0                     0                   0                      1   \n1                     0                   0                      0   \n2                     0                   0                      0   \n3                     0                   0                      0   \n4                     0                   0                      0   \n\n   location_USA/San Francisco  \n0                           0  \n1                           0  \n2                           0  \n3                           0  \n4                           0  \n\n[5 rows x 58 columns]",
      "text/html": "<div>\n<style scoped>\n    .dataframe tbody tr th:only-of-type {\n        vertical-align: middle;\n    }\n\n    .dataframe tbody tr th {\n        vertical-align: top;\n    }\n\n    .dataframe thead th {\n        text-align: right;\n    }\n</style>\n<table border=\"1\" class=\"dataframe\">\n  <thead>\n    <tr style=\"text-align: right;\">\n      <th></th>\n      <th>time</th>\n      <th>date</th>\n      <th>browser_Chrome</th>\n      <th>browser_Firefox</th>\n      <th>browser_Internet Explorer</th>\n      <th>browser_Safari</th>\n      <th>os_Debian</th>\n      <th>os_MacOS</th>\n      <th>os_Ubuntu</th>\n      <th>os_Windows 10</th>\n      <th>...</th>\n      <th>location_Netherlands/Amsterdam</th>\n      <th>location_New Zealand/Auckland</th>\n      <th>location_Russia/Moscow</th>\n      <th>location_Singapore/Singapore</th>\n      <th>location_Spain/Madrid</th>\n      <th>location_UK/London</th>\n      <th>location_USA/Chicago</th>\n      <th>location_USA/Miami</th>\n      <th>location_USA/New York</th>\n      <th>location_USA/San Francisco</th>\n    </tr>\n  </thead>\n  <tbody>\n    <tr>\n      <th>0</th>\n      <td>-0.031100</td>\n      <td>-0.509067</td>\n      <td>0</td>\n      <td>1</td>\n      <td>0</td>\n      <td>0</td>\n      <td>0</td>\n      <td>0</td>\n      <td>0</td>\n      <td>0</td>\n      <td>...</td>\n      <td>0</td>\n      <td>0</td>\n      <td>0</td>\n      <td>0</td>\n      <td>0</td>\n      <td>0</td>\n      <td>0</td>\n      <td>0</td>\n      <td>1</td>\n      <td>0</td>\n    </tr>\n    <tr>\n      <th>1</th>\n      <td>0.432248</td>\n      <td>0.496936</td>\n      <td>1</td>\n      <td>0</td>\n      <td>0</td>\n      <td>0</td>\n      <td>0</td>\n      <td>0</td>\n      <td>0</td>\n      <td>1</td>\n      <td>...</td>\n      <td>0</td>\n      <td>0</td>\n      <td>0</td>\n      <td>0</td>\n      <td>0</td>\n      <td>0</td>\n      <td>0</td>\n      <td>0</td>\n      <td>0</td>\n      <td>0</td>\n    </tr>\n    <tr>\n      <th>2</th>\n      <td>0.422230</td>\n      <td>1.502939</td>\n      <td>0</td>\n      <td>1</td>\n      <td>0</td>\n      <td>0</td>\n      <td>1</td>\n      <td>0</td>\n      <td>0</td>\n      <td>0</td>\n      <td>...</td>\n      <td>0</td>\n      <td>0</td>\n      <td>0</td>\n      <td>0</td>\n      <td>0</td>\n      <td>0</td>\n      <td>0</td>\n      <td>0</td>\n      <td>0</td>\n      <td>0</td>\n    </tr>\n    <tr>\n      <th>3</th>\n      <td>-0.118760</td>\n      <td>0.999938</td>\n      <td>0</td>\n      <td>1</td>\n      <td>0</td>\n      <td>0</td>\n      <td>1</td>\n      <td>0</td>\n      <td>0</td>\n      <td>0</td>\n      <td>...</td>\n      <td>0</td>\n      <td>0</td>\n      <td>0</td>\n      <td>0</td>\n      <td>0</td>\n      <td>0</td>\n      <td>0</td>\n      <td>0</td>\n      <td>0</td>\n      <td>0</td>\n    </tr>\n    <tr>\n      <th>4</th>\n      <td>-1.233299</td>\n      <td>-0.006065</td>\n      <td>0</td>\n      <td>1</td>\n      <td>0</td>\n      <td>0</td>\n      <td>1</td>\n      <td>0</td>\n      <td>0</td>\n      <td>0</td>\n      <td>...</td>\n      <td>0</td>\n      <td>0</td>\n      <td>0</td>\n      <td>0</td>\n      <td>0</td>\n      <td>0</td>\n      <td>0</td>\n      <td>0</td>\n      <td>0</td>\n      <td>0</td>\n    </tr>\n  </tbody>\n</table>\n<p>5 rows × 58 columns</p>\n</div>"
     },
     "execution_count": 43,
     "metadata": {},
     "output_type": "execute_result"
    }
   ],
   "source": [
    "X = pd.DataFrame(np.zeros((raw_x.shape[0], X_train.shape[1])), columns=X_train.columns, index=raw_x.index, dtype=np.int8)\n",
    "X.time = time_scaler.transform(pd.to_datetime(raw_x.time).to_numpy().reshape((-1, 1)))\n",
    "X.date = date_scaler.transform(pd.to_datetime(raw_x.date).apply(lambda x: x.weekday()).to_numpy().reshape((-1, 1)))\n",
    "dummies = pd.get_dummies(raw_x[get_cat_cols(raw_x)])\n",
    "X[dummies.columns] = dummies\n",
    "X.head()"
   ],
   "metadata": {
    "collapsed": false
   }
  },
  {
   "cell_type": "code",
   "execution_count": 44,
   "outputs": [
    {
     "name": "stdout",
     "output_type": "stream",
     "text": [
      "0: 0\n",
      "1: 0\n",
      "2: 0\n",
      "3: 0\n",
      "4: 0\n",
      "5: 0\n",
      "6: 0\n",
      "7: 0\n",
      "8: 0\n",
      "9: 0\n",
      "10: 0\n",
      "11: 0\n",
      "12: 0\n",
      "13: 0\n",
      "14: 0\n",
      "15: 0\n",
      "16: 0\n",
      "17: 0\n",
      "18: 0\n",
      "19: 0\n",
      "20: 0\n",
      "21: 0\n",
      "22: 0\n",
      "23: 0\n",
      "24: 0\n",
      "25: 0\n",
      "26: 0\n",
      "27: 0\n",
      "28: 0\n",
      "29: 0\n",
      "30: 0\n",
      "31: 1\n",
      "32: 1\n",
      "33: 1\n",
      "34: 1\n",
      "35: 1\n"
     ]
    }
   ],
   "source": [
    "pred = model(torch.Tensor(X.values).to(device)).cpu().detach().numpy().squeeze().round().astype(np.int8)\n",
    "for i, is_waldo in enumerate(pred):\n",
    "    print(f'{i}: {is_waldo}')"
   ],
   "metadata": {
    "collapsed": false
   }
  },
  {
   "cell_type": "markdown",
   "metadata": {},
   "source": [
    "### Questions\n",
    "1. Did you find any useful insights from your data analysis?\n",
    "    - I inspected distribution of classes to decide which metric and preprocess techniques should be used.\n",
    "2. What preprocessing techniques did you use? Why?\n",
    "    - For string columns (`locale`, `os`, `browser`, `location`) I used One-Hot encoder because there was many repeating values and One-Hot encoder do not create order in data like `LabelEncoder`. Also, I converted `date` and `time` columns to the `datetime` type, then I took weekday from `date` column and scaled both `time` and `weekday`. I scaled these columns so because the neural network cannot work with raw `datetime` and to improve convergence of ANN. I replaced `date` with `weekday` because `date` is unbounded and model would give incorrect predictions on data range other that the one from the train dataset. Later I encountered the following problem: model was giving biased predictions due to significant class imbalance - it classified all the entries from test sample as 'is not Waldo'. So I decided to make the dataset balanced using `resample` method from `sklearn`.\n",
    "3. Describe the fine-tuning process and how you reached your model architecture.\n",
    "    - I have manually tried different number of layers, neurons and number of epochs until I got the results above. Later I considered TPOT (AutoML framework using evolutionary algorithm, I used it on \"Nature Inspired Computing\" course) for tuning the parameters listed above, but I already had good enough results, so I decided not to use it.\n",
    "4. Which metric did you try to optimize for this task? Why?\n",
    "    - I used BCELoss for model training because this loss function is suitable for binary classification. For model evaluation I used F1 macro score due to class imbalance."
   ]
  },
  {
   "attachments": {},
   "cell_type": "markdown",
   "metadata": {},
   "source": [
    "# Task 2: Fingerprint Recognition (50 points)\n",
    "Fingerprint recognition is a highly accurate and reliable biometric technology that is used for identification and authentication purposes. By analyzing the unique patterns and ridges on an individual's fingerprint, it is possible to verify their identity with a high degree of confidence. This technology is widely used in law enforcement, border control, and access control systems, as well as in mobile devices and payment systems, to ensure secure and reliable identification and authentication.\n",
    "\n",
    "In this task you will be doing a simplified version of Fingerprint ID, which is just identifying which finger is used in the image\n",
    "\n",
    "## What you need to do\n",
    "\n",
    "For this task, you will be doing image classification:\n",
    "- Build a CNN model for image classification.\n",
    "- Estimate the speed of inference of your model\n",
    "\n",
    "For the given data, you need to do proper data preprocessing, augmentation, and data loaders.\n",
    "\n",
    "Then fine-tune your model architecture to achieve the highest accuracy.\n",
    "\n",
    "### Learning Objectives\n",
    "\n",
    "- Select and implement suitable data preprocessing techniques. 10%\n",
    "- Use literature (any paper on the use of CNN for fingerprinting and cite it) to choose an architecture. 10%\n",
    "- Apply CNNs to solve an image classification problem (basic training, validation, testing -- without fine tuning). 40%\n",
    "- Fine-tune your model to improve performance. 20%\n",
    "- Use of data augmentation to improve model’s performance. 20%\n",
    "- Explore beyond data augmentation find techniques to improve model’s performance and use them. 15%(bonus)\n",
    "\n",
    "\n",
    "### Data\n",
    "[Download link](https://drive.google.com/file/d/1iMIdYKSmCjVL5p-yzy-oInLMtTVt-1_j/view?usp=share_link)\n",
    "\n",
    "You will be working with the data in `task_2.zip` for identifying. The name of each image consists of 2 parts like\n",
    "`idx_label.BMB`\n",
    "\n",
    "Where the idx is the index of the image and the label is the target class.\n",
    "\n",
    "Each label corresponds to a finger:\n",
    "```\n",
    "0-> left_thumb\n",
    "1-> left_index\n",
    "2-> left_middle\n",
    "3-> left_ring\n",
    "4-> left_little\n",
    "5-> right_thumb\n",
    "6-> right_index\n",
    "7-> right_middle\n",
    "8-> right_ring\n",
    "9-> right_little\n",
    "```"
   ]
  },
  {
   "cell_type": "code",
   "execution_count": null,
   "metadata": {
    "collapsed": false,
    "jupyter": {
     "outputs_hidden": false
    }
   },
   "outputs": [],
   "source": [
    "# TODO: Implement task 2"
   ]
  },
  {
   "cell_type": "markdown",
   "metadata": {},
   "source": [
    "### Questions\n",
    "1. What preprocessing techniques did you use? Why?\n",
    "    - *Answer*\n",
    "2. What data augmentation techniques did you use?\n",
    "    - *Answer*\n",
    "3. Describe the fine-tuning process and how you reached your final CNN model.\n",
    "    - *Answer*\n",
    "4. What techniques did you use to improve model’s performance other than data augmentation\n",
    "    - *Answer*"
   ]
  },
  {
   "cell_type": "markdown",
   "metadata": {},
   "source": [
    "# Task 3: Credit approval (15 points)\n",
    "\n",
    "Credit approval is necessary to assess an individual's creditworthiness and determine their eligibility for loans, credit cards, and other financial products. It helps lenders to evaluate the borrower's ability to repay the loan, their credit history, and other financial obligations.\n",
    "Credit approval is important for both lenders and borrowers because it enables lenders to manage their risk and make informed lending decisions while ensuring that borrowers can obtain financing on fair and reasonable terms.\n",
    "\n",
    "In many credit approval applications, it is crucial for the model to be interpretable. This means that the model's inner workings and decision-making process can be easily understood and explained by humans. An interpretable model can help to build trust in the model's output, provide transparency in the decision-making process, and enable regulators to monitor and audit the model's performance. \n",
    "\n",
    "## What you need to do\n",
    "\n",
    "For the `loan_data.csv` data, predict if the bank should give a loan or not.\n",
    "\n",
    "- Fine-tune a decision tree on the data\n",
    "- Fine-tune a random forest on the data\n",
    "- Compare their performance\n",
    "- Visualize your DT and one of the trees from the RF\n",
    "\n",
    "For evaluating your models, do $80/20$ train test split.\n",
    "\n",
    "### Learning Objectives\n",
    "\n",
    "- Apply DTs, and RFs to solve a classification problem (basic training, validation, testing. 50%\n",
    "- Fine-tune to determine the optimal model architecture. 20%\n",
    "- Evaluate and compare the performance of different models. 10%\n",
    "- Visualise the models. 20%\n",
    "\n",
    "\n",
    "### Data\n",
    "- `credit.policy`: Whether the customer meets the credit underwriting criteria.\n",
    "- `purpose`: The purpose of the loan.\n",
    "- `int.rate`: The interest rate of the loan.\n",
    "- `installment`: The monthly installments owed by the borrower if the loan is funded.\n",
    "- `log.annual.inc`: The natural logarithm of the self-reported annual income of the borrower.\n",
    "- `dti`: The debt-to-income ratio of the borrower.\n",
    "- `fico`: The FICO credit score of the borrower.\n",
    "- `days.with.cr.line`: The number of days the borrower has had a credit line.\n",
    "- `revol.bal`: The borrower's revolving balance.\n",
    "- `revol.util`: The borrower's revolving line utilization rate."
   ]
  },
  {
   "cell_type": "code",
   "execution_count": 59,
   "outputs": [
    {
     "data": {
      "text/plain": "   credit.policy             purpose  int.rate  installment  log.annual.inc  \\\n0              1  debt_consolidation    0.1189       829.10       11.350407   \n1              1         credit_card    0.1071       228.22       11.082143   \n2              1  debt_consolidation    0.1357       366.86       10.373491   \n3              1  debt_consolidation    0.1008       162.34       11.350407   \n4              1         credit_card    0.1426       102.92       11.299732   \n\n     dti  fico  days.with.cr.line  revol.bal  revol.util  inq.last.6mths  \\\n0  19.48   737        5639.958333      28854        52.1               0   \n1  14.29   707        2760.000000      33623        76.7               0   \n2  11.63   682        4710.000000       3511        25.6               1   \n3   8.10   712        2699.958333      33667        73.2               1   \n4  14.97   667        4066.000000       4740        39.5               0   \n\n   delinq.2yrs  pub.rec  not.fully.paid  \n0            0        0               0  \n1            0        0               0  \n2            0        0               0  \n3            0        0               0  \n4            1        0               0  ",
      "text/html": "<div>\n<style scoped>\n    .dataframe tbody tr th:only-of-type {\n        vertical-align: middle;\n    }\n\n    .dataframe tbody tr th {\n        vertical-align: top;\n    }\n\n    .dataframe thead th {\n        text-align: right;\n    }\n</style>\n<table border=\"1\" class=\"dataframe\">\n  <thead>\n    <tr style=\"text-align: right;\">\n      <th></th>\n      <th>credit.policy</th>\n      <th>purpose</th>\n      <th>int.rate</th>\n      <th>installment</th>\n      <th>log.annual.inc</th>\n      <th>dti</th>\n      <th>fico</th>\n      <th>days.with.cr.line</th>\n      <th>revol.bal</th>\n      <th>revol.util</th>\n      <th>inq.last.6mths</th>\n      <th>delinq.2yrs</th>\n      <th>pub.rec</th>\n      <th>not.fully.paid</th>\n    </tr>\n  </thead>\n  <tbody>\n    <tr>\n      <th>0</th>\n      <td>1</td>\n      <td>debt_consolidation</td>\n      <td>0.1189</td>\n      <td>829.10</td>\n      <td>11.350407</td>\n      <td>19.48</td>\n      <td>737</td>\n      <td>5639.958333</td>\n      <td>28854</td>\n      <td>52.1</td>\n      <td>0</td>\n      <td>0</td>\n      <td>0</td>\n      <td>0</td>\n    </tr>\n    <tr>\n      <th>1</th>\n      <td>1</td>\n      <td>credit_card</td>\n      <td>0.1071</td>\n      <td>228.22</td>\n      <td>11.082143</td>\n      <td>14.29</td>\n      <td>707</td>\n      <td>2760.000000</td>\n      <td>33623</td>\n      <td>76.7</td>\n      <td>0</td>\n      <td>0</td>\n      <td>0</td>\n      <td>0</td>\n    </tr>\n    <tr>\n      <th>2</th>\n      <td>1</td>\n      <td>debt_consolidation</td>\n      <td>0.1357</td>\n      <td>366.86</td>\n      <td>10.373491</td>\n      <td>11.63</td>\n      <td>682</td>\n      <td>4710.000000</td>\n      <td>3511</td>\n      <td>25.6</td>\n      <td>1</td>\n      <td>0</td>\n      <td>0</td>\n      <td>0</td>\n    </tr>\n    <tr>\n      <th>3</th>\n      <td>1</td>\n      <td>debt_consolidation</td>\n      <td>0.1008</td>\n      <td>162.34</td>\n      <td>11.350407</td>\n      <td>8.10</td>\n      <td>712</td>\n      <td>2699.958333</td>\n      <td>33667</td>\n      <td>73.2</td>\n      <td>1</td>\n      <td>0</td>\n      <td>0</td>\n      <td>0</td>\n    </tr>\n    <tr>\n      <th>4</th>\n      <td>1</td>\n      <td>credit_card</td>\n      <td>0.1426</td>\n      <td>102.92</td>\n      <td>11.299732</td>\n      <td>14.97</td>\n      <td>667</td>\n      <td>4066.000000</td>\n      <td>4740</td>\n      <td>39.5</td>\n      <td>0</td>\n      <td>1</td>\n      <td>0</td>\n      <td>0</td>\n    </tr>\n  </tbody>\n</table>\n</div>"
     },
     "execution_count": 59,
     "metadata": {},
     "output_type": "execute_result"
    }
   ],
   "source": [
    "train_df = pd.read_csv('loan_data.csv')\n",
    "train_df.head()"
   ],
   "metadata": {
    "collapsed": false
   }
  },
  {
   "cell_type": "code",
   "execution_count": 60,
   "outputs": [
    {
     "data": {
      "text/plain": "debt_consolidation    3957\nall_other             2331\ncredit_card           1262\nhome_improvement       629\nsmall_business         619\nmajor_purchase         437\neducational            343\nName: purpose, dtype: int64"
     },
     "execution_count": 60,
     "metadata": {},
     "output_type": "execute_result"
    }
   ],
   "source": [
    "train_df['purpose'].value_counts()"
   ],
   "metadata": {
    "collapsed": false
   }
  },
  {
   "cell_type": "code",
   "execution_count": 61,
   "outputs": [
    {
     "data": {
      "text/plain": "<AxesSubplot: >"
     },
     "execution_count": 61,
     "metadata": {},
     "output_type": "execute_result"
    },
    {
     "data": {
      "text/plain": "<Figure size 640x480 with 1 Axes>",
      "image/png": "[encoded data removed]"
     },
     "metadata": {},
     "output_type": "display_data"
    }
   ],
   "source": [
    "train_df['credit.policy'].hist(bins=2)"
   ],
   "metadata": {
    "collapsed": false
   }
  },
  {
   "cell_type": "code",
   "execution_count": 87,
   "outputs": [
    {
     "data": {
      "text/plain": "OrdinalEncoder()",
      "text/html": "<style>#sk-container-id-1 {color: black;background-color: white;}#sk-container-id-1 pre{padding: 0;}#sk-container-id-1 div.sk-toggleable {background-color: white;}#sk-container-id-1 label.sk-toggleable__label {cursor: pointer;display: block;width: 100%;margin-bottom: 0;padding: 0.3em;box-sizing: border-box;text-align: center;}#sk-container-id-1 label.sk-toggleable__label-arrow:before {content: \"▸\";float: left;margin-right: 0.25em;color: #696969;}#sk-container-id-1 label.sk-toggleable__label-arrow:hover:before {color: black;}#sk-container-id-1 div.sk-estimator:hover label.sk-toggleable__label-arrow:before {color: black;}#sk-container-id-1 div.sk-toggleable__content {max-height: 0;max-width: 0;overflow: hidden;text-align: left;background-color: #f0f8ff;}#sk-container-id-1 div.sk-toggleable__content pre {margin: 0.2em;color: black;border-radius: 0.25em;background-color: #f0f8ff;}#sk-container-id-1 input.sk-toggleable__control:checked~div.sk-toggleable__content {max-height: 200px;max-width: 100%;overflow: auto;}#sk-container-id-1 input.sk-toggleable__control:checked~label.sk-toggleable__label-arrow:before {content: \"▾\";}#sk-container-id-1 div.sk-estimator input.sk-toggleable__control:checked~label.sk-toggleable__label {background-color: #d4ebff;}#sk-container-id-1 div.sk-label input.sk-toggleable__control:checked~label.sk-toggleable__label {background-color: #d4ebff;}#sk-container-id-1 input.sk-hidden--visually {border: 0;clip: rect(1px 1px 1px 1px);clip: rect(1px, 1px, 1px, 1px);height: 1px;margin: -1px;overflow: hidden;padding: 0;position: absolute;width: 1px;}#sk-container-id-1 div.sk-estimator {font-family: monospace;background-color: #f0f8ff;border: 1px dotted black;border-radius: 0.25em;box-sizing: border-box;margin-bottom: 0.5em;}#sk-container-id-1 div.sk-estimator:hover {background-color: #d4ebff;}#sk-container-id-1 div.sk-parallel-item::after {content: \"\";width: 100%;border-bottom: 1px solid gray;flex-grow: 1;}#sk-container-id-1 div.sk-label:hover label.sk-toggleable__label {background-color: #d4ebff;}#sk-container-id-1 div.sk-serial::before {content: \"\";position: absolute;border-left: 1px solid gray;box-sizing: border-box;top: 0;bottom: 0;left: 50%;z-index: 0;}#sk-container-id-1 div.sk-serial {display: flex;flex-direction: column;align-items: center;background-color: white;padding-right: 0.2em;padding-left: 0.2em;position: relative;}#sk-container-id-1 div.sk-item {position: relative;z-index: 1;}#sk-container-id-1 div.sk-parallel {display: flex;align-items: stretch;justify-content: center;background-color: white;position: relative;}#sk-container-id-1 div.sk-item::before, #sk-container-id-1 div.sk-parallel-item::before {content: \"\";position: absolute;border-left: 1px solid gray;box-sizing: border-box;top: 0;bottom: 0;left: 50%;z-index: -1;}#sk-container-id-1 div.sk-parallel-item {display: flex;flex-direction: column;z-index: 1;position: relative;background-color: white;}#sk-container-id-1 div.sk-parallel-item:first-child::after {align-self: flex-end;width: 50%;}#sk-container-id-1 div.sk-parallel-item:last-child::after {align-self: flex-start;width: 50%;}#sk-container-id-1 div.sk-parallel-item:only-child::after {width: 0;}#sk-container-id-1 div.sk-dashed-wrapped {border: 1px dashed gray;margin: 0 0.4em 0.5em 0.4em;box-sizing: border-box;padding-bottom: 0.4em;background-color: white;}#sk-container-id-1 div.sk-label label {font-family: monospace;font-weight: bold;display: inline-block;line-height: 1.2em;}#sk-container-id-1 div.sk-label-container {text-align: center;}#sk-container-id-1 div.sk-container {/* jupyter's `normalize.less` sets `[hidden] { display: none; }` but bootstrap.min.css set `[hidden] { display: none !important; }` so we also need the `!important` here to be able to override the default hidden behavior on the sphinx rendered scikit-learn.org. See: https://github.com/scikit-learn/scikit-learn/issues/21755 */display: inline-block !important;position: relative;}#sk-container-id-1 div.sk-text-repr-fallback {display: none;}</style><div id=\"sk-container-id-1\" class=\"sk-top-container\"><div class=\"sk-text-repr-fallback\"><pre>OrdinalEncoder()</pre><b>In a Jupyter environment, please rerun this cell to show the HTML representation or trust the notebook. <br />On GitHub, the HTML representation is unable to render, please try loading this page with nbviewer.org.</b></div><div class=\"sk-container\" hidden><div class=\"sk-item\"><div class=\"sk-estimator sk-toggleable\"><input class=\"sk-toggleable__control sk-hidden--visually\" id=\"sk-estimator-id-1\" type=\"checkbox\" checked><label for=\"sk-estimator-id-1\" class=\"sk-toggleable__label sk-toggleable__label-arrow\">OrdinalEncoder</label><div class=\"sk-toggleable__content\"><pre>OrdinalEncoder()</pre></div></div></div></div></div>"
     },
     "execution_count": 87,
     "metadata": {},
     "output_type": "execute_result"
    }
   ],
   "source": [
    "from sklearn.preprocessing import OrdinalEncoder\n",
    "\n",
    "purpose_encoder = OrdinalEncoder()\n",
    "purpose_encoder.fit(train_df.purpose.to_numpy().reshape(-1, 1))"
   ],
   "metadata": {
    "collapsed": false
   }
  },
  {
   "cell_type": "code",
   "execution_count": 92,
   "metadata": {
    "collapsed": false,
    "jupyter": {
     "outputs_hidden": false
    }
   },
   "outputs": [
    {
     "data": {
      "text/plain": "   purpose  int.rate  installment  log.annual.inc    dti  fico  \\\n0      2.0    0.1189       829.10       11.350407  19.48   737   \n1      1.0    0.1071       228.22       11.082143  14.29   707   \n2      2.0    0.1357       366.86       10.373491  11.63   682   \n3      2.0    0.1008       162.34       11.350407   8.10   712   \n4      1.0    0.1426       102.92       11.299732  14.97   667   \n\n   days.with.cr.line  revol.bal  revol.util  inq.last.6mths  delinq.2yrs  \\\n0        5639.958333      28854        52.1               0            0   \n1        2760.000000      33623        76.7               0            0   \n2        4710.000000       3511        25.6               1            0   \n3        2699.958333      33667        73.2               1            0   \n4        4066.000000       4740        39.5               0            1   \n\n   pub.rec  not.fully.paid  \n0        0               0  \n1        0               0  \n2        0               0  \n3        0               0  \n4        0               0  ",
      "text/html": "<div>\n<style scoped>\n    .dataframe tbody tr th:only-of-type {\n        vertical-align: middle;\n    }\n\n    .dataframe tbody tr th {\n        vertical-align: top;\n    }\n\n    .dataframe thead th {\n        text-align: right;\n    }\n</style>\n<table border=\"1\" class=\"dataframe\">\n  <thead>\n    <tr style=\"text-align: right;\">\n      <th></th>\n      <th>purpose</th>\n      <th>int.rate</th>\n      <th>installment</th>\n      <th>log.annual.inc</th>\n      <th>dti</th>\n      <th>fico</th>\n      <th>days.with.cr.line</th>\n      <th>revol.bal</th>\n      <th>revol.util</th>\n      <th>inq.last.6mths</th>\n      <th>delinq.2yrs</th>\n      <th>pub.rec</th>\n      <th>not.fully.paid</th>\n    </tr>\n  </thead>\n  <tbody>\n    <tr>\n      <th>0</th>\n      <td>2.0</td>\n      <td>0.1189</td>\n      <td>829.10</td>\n      <td>11.350407</td>\n      <td>19.48</td>\n      <td>737</td>\n      <td>5639.958333</td>\n      <td>28854</td>\n      <td>52.1</td>\n      <td>0</td>\n      <td>0</td>\n      <td>0</td>\n      <td>0</td>\n    </tr>\n    <tr>\n      <th>1</th>\n      <td>1.0</td>\n      <td>0.1071</td>\n      <td>228.22</td>\n      <td>11.082143</td>\n      <td>14.29</td>\n      <td>707</td>\n      <td>2760.000000</td>\n      <td>33623</td>\n      <td>76.7</td>\n      <td>0</td>\n      <td>0</td>\n      <td>0</td>\n      <td>0</td>\n    </tr>\n    <tr>\n      <th>2</th>\n      <td>2.0</td>\n      <td>0.1357</td>\n      <td>366.86</td>\n      <td>10.373491</td>\n      <td>11.63</td>\n      <td>682</td>\n      <td>4710.000000</td>\n      <td>3511</td>\n      <td>25.6</td>\n      <td>1</td>\n      <td>0</td>\n      <td>0</td>\n      <td>0</td>\n    </tr>\n    <tr>\n      <th>3</th>\n      <td>2.0</td>\n      <td>0.1008</td>\n      <td>162.34</td>\n      <td>11.350407</td>\n      <td>8.10</td>\n      <td>712</td>\n      <td>2699.958333</td>\n      <td>33667</td>\n      <td>73.2</td>\n      <td>1</td>\n      <td>0</td>\n      <td>0</td>\n      <td>0</td>\n    </tr>\n    <tr>\n      <th>4</th>\n      <td>1.0</td>\n      <td>0.1426</td>\n      <td>102.92</td>\n      <td>11.299732</td>\n      <td>14.97</td>\n      <td>667</td>\n      <td>4066.000000</td>\n      <td>4740</td>\n      <td>39.5</td>\n      <td>0</td>\n      <td>1</td>\n      <td>0</td>\n      <td>0</td>\n    </tr>\n  </tbody>\n</table>\n</div>"
     },
     "execution_count": 92,
     "metadata": {},
     "output_type": "execute_result"
    }
   ],
   "source": [
    "X = train_df.drop(columns=['credit.policy'])\n",
    "X.purpose = purpose_encoder.transform(X.purpose.to_numpy().reshape(-1, 1))\n",
    "y = train_df['credit.policy']\n",
    "X.head()"
   ]
  },
  {
   "cell_type": "code",
   "execution_count": 93,
   "outputs": [],
   "source": [
    "from sklearn.model_selection import train_test_split\n",
    "\n",
    "X_train, X_test, y_train, y_test = train_test_split(X, y, test_size=0.2, random_state=SEED, stratify=y)"
   ],
   "metadata": {
    "collapsed": false
   }
  },
  {
   "cell_type": "code",
   "execution_count": 94,
   "outputs": [
    {
     "name": "stdout",
     "output_type": "stream",
     "text": [
      "              precision    recall  f1-score   support\n",
      "\n",
      "           0     0.9759    0.9733    0.9746       374\n",
      "           1     0.9935    0.9942    0.9938      1542\n",
      "\n",
      "    accuracy                         0.9901      1916\n",
      "   macro avg     0.9847    0.9837    0.9842      1916\n",
      "weighted avg     0.9901    0.9901    0.9901      1916\n",
      "\n"
     ]
    }
   ],
   "source": [
    "from sklearn.tree import DecisionTreeClassifier\n",
    "from sklearn.metrics import classification_report\n",
    "\n",
    "dt_clf = DecisionTreeClassifier()\n",
    "\n",
    "dt_clf.fit(X_train, y_train)\n",
    "\n",
    "print(classification_report(y_test, dt_clf.predict(X_test), digits=4))"
   ],
   "metadata": {
    "collapsed": false
   }
  },
  {
   "cell_type": "code",
   "execution_count": 95,
   "outputs": [
    {
     "name": "stdout",
     "output_type": "stream",
     "text": [
      "              precision    recall  f1-score   support\n",
      "\n",
      "           0     0.9888    0.9465    0.9672       374\n",
      "           1     0.9872    0.9974    0.9923      1542\n",
      "\n",
      "    accuracy                         0.9875      1916\n",
      "   macro avg     0.9880    0.9720    0.9797      1916\n",
      "weighted avg     0.9875    0.9875    0.9874      1916\n",
      "\n"
     ]
    }
   ],
   "source": [
    "from sklearn.ensemble import RandomForestClassifier\n",
    "\n",
    "rf_clf = RandomForestClassifier()\n",
    "\n",
    "rf_clf.fit(X_train, y_train)\n",
    "\n",
    "print(classification_report(y_test, rf_clf.predict(X_test), digits=4))"
   ],
   "metadata": {
    "collapsed": false
   }
  },
  {
   "cell_type": "markdown",
   "source": [
    "## Trying again but with balanced dataset"
   ],
   "metadata": {
    "collapsed": false
   }
  },
  {
   "cell_type": "code",
   "execution_count": 96,
   "outputs": [],
   "source": [
    "from sklearn.utils import resample\n",
    "\n",
    "credit_policy_filter = y_train == 1\n",
    "\n",
    "# separate majority and minority classes\n",
    "X_train_majority = X_train[credit_policy_filter]\n",
    "X_train_minority = X_train[~credit_policy_filter]\n",
    "\n",
    "y_train_majority = y_train[credit_policy_filter]\n",
    "y_train_minority = y_train[~credit_policy_filter]\n",
    "\n",
    "# Upsample minority class\n",
    "X_train_minority_upsampled = resample(\n",
    "    X_train_minority,\n",
    "    replace=True,\n",
    "    n_samples=len(X_train_majority),\n",
    "    random_state=SEED\n",
    ")\n",
    "\n",
    "y_train_minority_upsampled = resample(\n",
    "    y_train_minority,\n",
    "    replace=True,\n",
    "    n_samples=len(y_train_majority),\n",
    "    random_state=SEED\n",
    ")\n",
    "\n",
    "# Combine majority class with upsampled minority class\n",
    "X_train_balanced = pd.concat([X_train_majority, X_train_minority_upsampled])\n",
    "y_train_balanced = pd.concat([y_train_majority, y_train_minority_upsampled])"
   ],
   "metadata": {
    "collapsed": false
   }
  },
  {
   "cell_type": "code",
   "execution_count": 97,
   "outputs": [
    {
     "data": {
      "text/plain": "<AxesSubplot: >"
     },
     "execution_count": 97,
     "metadata": {},
     "output_type": "execute_result"
    },
    {
     "data": {
      "text/plain": "<Figure size 640x480 with 1 Axes>",
      "image/png": "[encoded data removed]"
     },
     "metadata": {},
     "output_type": "display_data"
    }
   ],
   "source": [
    "y_train_balanced.hist(bins=2)"
   ],
   "metadata": {
    "collapsed": false
   }
  },
  {
   "cell_type": "code",
   "execution_count": 98,
   "outputs": [
    {
     "name": "stdout",
     "output_type": "stream",
     "text": [
      "              precision    recall  f1-score   support\n",
      "\n",
      "           0     0.9809    0.9626    0.9717       374\n",
      "           1     0.9910    0.9955    0.9932      1542\n",
      "\n",
      "    accuracy                         0.9890      1916\n",
      "   macro avg     0.9859    0.9790    0.9824      1916\n",
      "weighted avg     0.9890    0.9890    0.9890      1916\n",
      "\n"
     ]
    }
   ],
   "source": [
    "dt_clf = DecisionTreeClassifier()\n",
    "dt_clf.fit(X_train_balanced, y_train_balanced)\n",
    "\n",
    "print(classification_report(y_test, dt_clf.predict(X_test), digits=4))"
   ],
   "metadata": {
    "collapsed": false
   }
  },
  {
   "cell_type": "code",
   "execution_count": 99,
   "outputs": [
    {
     "name": "stdout",
     "output_type": "stream",
     "text": [
      "              precision    recall  f1-score   support\n",
      "\n",
      "           0     0.9836    0.9599    0.9716       374\n",
      "           1     0.9903    0.9961    0.9932      1542\n",
      "\n",
      "    accuracy                         0.9890      1916\n",
      "   macro avg     0.9869    0.9780    0.9824      1916\n",
      "weighted avg     0.9890    0.9890    0.9890      1916\n",
      "\n"
     ]
    }
   ],
   "source": [
    "rf_clf = RandomForestClassifier()\n",
    "rf_clf.fit(X_train_balanced, y_train_balanced)\n",
    "\n",
    "print(classification_report(y_test, rf_clf.predict(X_test), digits=4))"
   ],
   "metadata": {
    "collapsed": false
   }
  },
  {
   "cell_type": "markdown",
   "source": [
    "As we can see, resampling did not make too much of a difference with default classifier parameters. Let us use grid search to fine tune DT and RF and compare their performance."
   ],
   "metadata": {
    "collapsed": false
   }
  },
  {
   "cell_type": "markdown",
   "metadata": {},
   "source": [
    "### Questions\n",
    "1. How did the DT compare to the RF in performance? Why?\n",
    "    - *Answer*\n",
    "2. After fine-tuning, how does the max depth in DT compare to RF? Why?\n",
    "    - *Answer*\n",
    "3. What is ensemble learning? What are its pros and cons?\n",
    "    - *Answer*\n",
    "4. Briefly explain 2 types of boosting methods and 2 types of bagging methods.\n",
    "Which of these categories does RF fall under?\n",
    "    - *Answer*"
   ]
  },
  {
   "cell_type": "code",
   "execution_count": null,
   "outputs": [],
   "source": [],
   "metadata": {
    "collapsed": false
   }
  }
 ],
 "metadata": {
  "kernelspec": {
   "display_name": "Python 3 (ipykernel)",
   "language": "python",
   "name": "python3"
  },
  "language_info": {
   "codemirror_mode": {
    "name": "ipython",
    "version": 3
   },
   "file_extension": ".py",
   "mimetype": "text/x-python",
   "name": "python",
   "nbconvert_exporter": "python",
   "pygments_lexer": "ipython3",
   "version": "3.9.13"
  }
 },
 "nbformat": 4,
 "nbformat_minor": 4
}
