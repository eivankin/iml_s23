{
 "cells": [
  {
   "cell_type": "markdown",
   "metadata": {},
   "source": [
    "# Assignment 2\n",
    "\n",
    "## Instructions\n",
    "- Your submission should be the `.ipynb` file with your name,\n",
    "  like `FirstnameLastname.ipynb`. it should include the answers to the questions in\n",
    "  markdown cells.\n",
    "- You are expected to follow the best practices for code writing and model\n",
    "training. Poor coding style will be penalized.\n",
    "- You are allowed to discuss ideas with your peers, but no sharing of code.\n",
    "Plagiarism in the code will result in failing. If you use code from the\n",
    "internet, cite it by adding the source of the code as a comment in the first line of the code cell.\n",
    "- In real life clients can give unclear goals or requirements. So, if the instructions seem vague, use common sense to make reasonable assumptions."
   ]
  },
  {
   "attachments": {},
   "cell_type": "markdown",
   "metadata": {},
   "source": [
    "# Task 1: [Where's Waldo?](https://www.wikihow.com/Find-Waldo) (35 points)\n",
    "\n",
    "## Fingerprinting\n",
    "Browser fingerprinting is a technique used to identify and track individuals based on unique characteristics of their web browser configuration. These characteristics can include the browser type, version, installed plugins, and screen resolution, among others. By combining these attributes, websites can create a digital fingerprint that can be used to track user behavior across multiple sites, even if they clear their cookies or use different devices. This has raised concerns about privacy and the potential for this technology to be used for targeted advertising, surveillance, and other purposes.\n",
    "\n",
    "[Read more]([Fingerprinting](https://datadome.co/learning-center/browser-fingerprinting-techniques/))\n",
    "\n",
    "##  What you need to do\n",
    "For this task, you are required to build a fully connect feed-forward ANN model\n",
    "for a classification problem.\n",
    "\n",
    "For the given data, you need do proper data preprocessing, data analysis,\n",
    "design the ANN model, then fine-tune your model architecture.\n",
    "\n",
    "For evaluating your model, do $ 80/20 $ train test split.\n",
    "\n",
    "### Learning Objectives\n",
    "\n",
    "- Select and implement suitable data preprocessing techniques. 10%\n",
    "- Identify the appropriate classification approach for a given problem. 20%\n",
    "- Apply ANNs to solve a classification problem (basic training, validation, testing -- without fine tuning). 50%\n",
    "- Fine-tune to determine the optimal model architecture. 20%\n",
    "\n",
    "\n",
    "### Data\n",
    "You will be working with the data in `Task_1.csv` for identifying waldo (the user with `user_id=0`) \n",
    "\n",
    "The columns include:\n",
    " - browser\n",
    " - os\n",
    " - locale\n",
    " - user_id\n",
    " - location\n",
    " - sites\n",
    " - time\n",
    " - date\n",
    "\n",
    "After training, evaluate you model by print [classification_report](https://scikit-learn.org/stable/modules/generated/sklearn.metrics.classification_report.html)\n",
    "on your test set. \n",
    "\n",
    "Then predicting each user in `task_1_verify.csv` whether it's Waldo or not. Your output should look like the following:\n",
    "\n",
    "`row_idx: is_waldo`, notice if the user is waldo your output should be 1\n",
    "\n",
    "``` \n",
    "0: 1\n",
    "1: 0\n",
    "2: 0\n",
    "3: 1\n",
    "4: 1\n",
    "...\n",
    "```\n",
    "\n"
   ]
  },
  {
   "cell_type": "code",
   "execution_count": 1,
   "outputs": [],
   "source": [
    "SEED = 42"
   ],
   "metadata": {
    "collapsed": false
   }
  },
  {
   "cell_type": "code",
   "execution_count": 2,
   "outputs": [],
   "source": [
    "import pandas as pd\n",
    "import numpy as np"
   ],
   "metadata": {
    "collapsed": false
   }
  },
  {
   "cell_type": "code",
   "execution_count": 3,
   "outputs": [
    {
     "data": {
      "text/plain": "   index            browser          os locale  user_id          location  \\\n0   8909            Firefox  Windows 10  zh-CN       46    China/Shanghai   \n1  17679  Internet Explorer   Windows 8  ro-RO       21    Germany/Berlin   \n2  11803  Internet Explorer       MacOS  ur-PK       98  Australia/Sydney   \n3    356  Internet Explorer      Ubuntu  pl-PL       44       Japan/Tokyo   \n4  10948  Internet Explorer   Windows 8  bg-BG       59       Japan/Tokyo   \n\n                                               sites      time        date  \n0  [{'site': '1.static.dpreview.com', 'length': 1...  14:14:00  2016-01-28  \n1  [{'site': 'safebrowsing-cache.google.com', 'le...  05:23:00  2016-08-26  \n2  [{'site': 'www.ncbi.nlm.nih.gov', 'length': 10...  12:03:00  2016-03-13  \n3  [{'site': 'fr.hdscreen.me', 'length': 16}, {'s...  06:08:00  2017-01-19  \n4  [{'site': '193.164.196.50', 'length': 10}, {'s...  03:59:00  2017-05-13  ",
      "text/html": "<div>\n<style scoped>\n    .dataframe tbody tr th:only-of-type {\n        vertical-align: middle;\n    }\n\n    .dataframe tbody tr th {\n        vertical-align: top;\n    }\n\n    .dataframe thead th {\n        text-align: right;\n    }\n</style>\n<table border=\"1\" class=\"dataframe\">\n  <thead>\n    <tr style=\"text-align: right;\">\n      <th></th>\n      <th>index</th>\n      <th>browser</th>\n      <th>os</th>\n      <th>locale</th>\n      <th>user_id</th>\n      <th>location</th>\n      <th>sites</th>\n      <th>time</th>\n      <th>date</th>\n    </tr>\n  </thead>\n  <tbody>\n    <tr>\n      <th>0</th>\n      <td>8909</td>\n      <td>Firefox</td>\n      <td>Windows 10</td>\n      <td>zh-CN</td>\n      <td>46</td>\n      <td>China/Shanghai</td>\n      <td>[{'site': '1.static.dpreview.com', 'length': 1...</td>\n      <td>14:14:00</td>\n      <td>2016-01-28</td>\n    </tr>\n    <tr>\n      <th>1</th>\n      <td>17679</td>\n      <td>Internet Explorer</td>\n      <td>Windows 8</td>\n      <td>ro-RO</td>\n      <td>21</td>\n      <td>Germany/Berlin</td>\n      <td>[{'site': 'safebrowsing-cache.google.com', 'le...</td>\n      <td>05:23:00</td>\n      <td>2016-08-26</td>\n    </tr>\n    <tr>\n      <th>2</th>\n      <td>11803</td>\n      <td>Internet Explorer</td>\n      <td>MacOS</td>\n      <td>ur-PK</td>\n      <td>98</td>\n      <td>Australia/Sydney</td>\n      <td>[{'site': 'www.ncbi.nlm.nih.gov', 'length': 10...</td>\n      <td>12:03:00</td>\n      <td>2016-03-13</td>\n    </tr>\n    <tr>\n      <th>3</th>\n      <td>356</td>\n      <td>Internet Explorer</td>\n      <td>Ubuntu</td>\n      <td>pl-PL</td>\n      <td>44</td>\n      <td>Japan/Tokyo</td>\n      <td>[{'site': 'fr.hdscreen.me', 'length': 16}, {'s...</td>\n      <td>06:08:00</td>\n      <td>2017-01-19</td>\n    </tr>\n    <tr>\n      <th>4</th>\n      <td>10948</td>\n      <td>Internet Explorer</td>\n      <td>Windows 8</td>\n      <td>bg-BG</td>\n      <td>59</td>\n      <td>Japan/Tokyo</td>\n      <td>[{'site': '193.164.196.50', 'length': 10}, {'s...</td>\n      <td>03:59:00</td>\n      <td>2017-05-13</td>\n    </tr>\n  </tbody>\n</table>\n</div>"
     },
     "execution_count": 3,
     "metadata": {},
     "output_type": "execute_result"
    }
   ],
   "source": [
    "train_df = pd.read_csv('task 1.csv')\n",
    "train_df.head()"
   ],
   "metadata": {
    "collapsed": false
   }
  },
  {
   "cell_type": "code",
   "execution_count": 4,
   "outputs": [
    {
     "data": {
      "text/plain": "0      400\n55     131\n82     127\n148    122\n120    121\n      ... \n124     84\n145     83\n170     82\n42      82\n152     77\nName: user_id, Length: 200, dtype: int64"
     },
     "execution_count": 4,
     "metadata": {},
     "output_type": "execute_result"
    }
   ],
   "source": [
    "train_df.user_id.value_counts()"
   ],
   "metadata": {
    "collapsed": false
   }
  },
  {
   "cell_type": "code",
   "execution_count": 5,
   "metadata": {
    "collapsed": false,
    "jupyter": {
     "outputs_hidden": false
    }
   },
   "outputs": [
    {
     "data": {
      "text/plain": "   index            browser          os locale  user_id          location  \\\n0   8909            Firefox  Windows 10  zh-CN       46    China/Shanghai   \n1  17679  Internet Explorer   Windows 8  ro-RO       21    Germany/Berlin   \n2  11803  Internet Explorer       MacOS  ur-PK       98  Australia/Sydney   \n3    356  Internet Explorer      Ubuntu  pl-PL       44       Japan/Tokyo   \n4  10948  Internet Explorer   Windows 8  bg-BG       59       Japan/Tokyo   \n\n                                               sites      time        date  \\\n0  [{'site': '1.static.dpreview.com', 'length': 1...  14:14:00  2016-01-28   \n1  [{'site': 'safebrowsing-cache.google.com', 'le...  05:23:00  2016-08-26   \n2  [{'site': 'www.ncbi.nlm.nih.gov', 'length': 10...  12:03:00  2016-03-13   \n3  [{'site': 'fr.hdscreen.me', 'length': 16}, {'s...  06:08:00  2017-01-19   \n4  [{'site': '193.164.196.50', 'length': 10}, {'s...  03:59:00  2017-05-13   \n\n   is_waldo  \n0         0  \n1         0  \n2         0  \n3         0  \n4         0  ",
      "text/html": "<div>\n<style scoped>\n    .dataframe tbody tr th:only-of-type {\n        vertical-align: middle;\n    }\n\n    .dataframe tbody tr th {\n        vertical-align: top;\n    }\n\n    .dataframe thead th {\n        text-align: right;\n    }\n</style>\n<table border=\"1\" class=\"dataframe\">\n  <thead>\n    <tr style=\"text-align: right;\">\n      <th></th>\n      <th>index</th>\n      <th>browser</th>\n      <th>os</th>\n      <th>locale</th>\n      <th>user_id</th>\n      <th>location</th>\n      <th>sites</th>\n      <th>time</th>\n      <th>date</th>\n      <th>is_waldo</th>\n    </tr>\n  </thead>\n  <tbody>\n    <tr>\n      <th>0</th>\n      <td>8909</td>\n      <td>Firefox</td>\n      <td>Windows 10</td>\n      <td>zh-CN</td>\n      <td>46</td>\n      <td>China/Shanghai</td>\n      <td>[{'site': '1.static.dpreview.com', 'length': 1...</td>\n      <td>14:14:00</td>\n      <td>2016-01-28</td>\n      <td>0</td>\n    </tr>\n    <tr>\n      <th>1</th>\n      <td>17679</td>\n      <td>Internet Explorer</td>\n      <td>Windows 8</td>\n      <td>ro-RO</td>\n      <td>21</td>\n      <td>Germany/Berlin</td>\n      <td>[{'site': 'safebrowsing-cache.google.com', 'le...</td>\n      <td>05:23:00</td>\n      <td>2016-08-26</td>\n      <td>0</td>\n    </tr>\n    <tr>\n      <th>2</th>\n      <td>11803</td>\n      <td>Internet Explorer</td>\n      <td>MacOS</td>\n      <td>ur-PK</td>\n      <td>98</td>\n      <td>Australia/Sydney</td>\n      <td>[{'site': 'www.ncbi.nlm.nih.gov', 'length': 10...</td>\n      <td>12:03:00</td>\n      <td>2016-03-13</td>\n      <td>0</td>\n    </tr>\n    <tr>\n      <th>3</th>\n      <td>356</td>\n      <td>Internet Explorer</td>\n      <td>Ubuntu</td>\n      <td>pl-PL</td>\n      <td>44</td>\n      <td>Japan/Tokyo</td>\n      <td>[{'site': 'fr.hdscreen.me', 'length': 16}, {'s...</td>\n      <td>06:08:00</td>\n      <td>2017-01-19</td>\n      <td>0</td>\n    </tr>\n    <tr>\n      <th>4</th>\n      <td>10948</td>\n      <td>Internet Explorer</td>\n      <td>Windows 8</td>\n      <td>bg-BG</td>\n      <td>59</td>\n      <td>Japan/Tokyo</td>\n      <td>[{'site': '193.164.196.50', 'length': 10}, {'s...</td>\n      <td>03:59:00</td>\n      <td>2017-05-13</td>\n      <td>0</td>\n    </tr>\n  </tbody>\n</table>\n</div>"
     },
     "execution_count": 5,
     "metadata": {},
     "output_type": "execute_result"
    }
   ],
   "source": [
    "train_df['is_waldo'] = (train_df.user_id == 0).astype(np.int8)\n",
    "train_df.head()"
   ]
  },
  {
   "cell_type": "code",
   "execution_count": 6,
   "outputs": [
    {
     "data": {
      "text/plain": "<AxesSubplot: >"
     },
     "execution_count": 6,
     "metadata": {},
     "output_type": "execute_result"
    },
    {
     "data": {
      "text/plain": "<Figure size 640x480 with 1 Axes>",
      "image/png": "[encoded data removed]"
     },
     "metadata": {},
     "output_type": "display_data"
    }
   ],
   "source": [
    "train_df.is_waldo.hist(bins=2)"
   ],
   "metadata": {
    "collapsed": false
   }
  },
  {
   "cell_type": "code",
   "execution_count": 7,
   "outputs": [],
   "source": [
    "from sklearn.utils import resample\n",
    "\n",
    "# separate majority and minority classes\n",
    "majority_class = train_df[train_df.is_waldo == 0]\n",
    "minority_class = train_df[train_df.is_waldo == 1]\n",
    "\n",
    "# Upsample minority class\n",
    "minority_upsampled = resample(\n",
    "    minority_class,\n",
    "    replace=True,\n",
    "    n_samples=len(majority_class),\n",
    "    random_state=SEED\n",
    ")\n",
    "\n",
    "# Combine majority class with upsampled minority class\n",
    "balanced_df = pd.concat([majority_class, minority_upsampled])"
   ],
   "metadata": {
    "collapsed": false
   }
  },
  {
   "cell_type": "code",
   "execution_count": 8,
   "outputs": [
    {
     "data": {
      "text/plain": "<AxesSubplot: >"
     },
     "execution_count": 8,
     "metadata": {},
     "output_type": "execute_result"
    },
    {
     "data": {
      "text/plain": "<Figure size 640x480 with 1 Axes>",
      "image/png": "[encoded data removed]"
     },
     "metadata": {},
     "output_type": "display_data"
    }
   ],
   "source": [
    "balanced_df.is_waldo.hist(bins=2)"
   ],
   "metadata": {
    "collapsed": false
   }
  },
  {
   "cell_type": "code",
   "execution_count": 9,
   "outputs": [],
   "source": [
    "raw_x = balanced_df.drop(columns=['user_id', 'index', 'sites', 'is_waldo'])\n",
    "y = balanced_df.is_waldo"
   ],
   "metadata": {
    "collapsed": false
   }
  },
  {
   "cell_type": "code",
   "execution_count": 19,
   "outputs": [],
   "source": [
    "from sklearn.preprocessing import StandardScaler\n",
    "\n",
    "time_scaler = StandardScaler()\n",
    "date_scaler = StandardScaler()\n",
    "\n",
    "X = raw_x.copy()\n",
    "X.time = time_scaler.fit_transform(pd.to_datetime(raw_x.time).to_numpy().reshape((-1, 1)))\n",
    "X.date = date_scaler.fit_transform(pd.to_datetime(raw_x.date).apply(lambda x: x.weekday()).to_numpy().reshape((-1, 1)))"
   ],
   "metadata": {
    "collapsed": false
   }
  },
  {
   "cell_type": "code",
   "execution_count": 20,
   "outputs": [
    {
     "data": {
      "text/plain": "       time      date  browser_Chrome  browser_Firefox  \\\n0  0.378908 -0.024287               0                1   \n1 -0.902326  0.479092               0                0   \n2  0.062822  1.485851               0                0   \n3 -0.793747 -0.024287               0                0   \n4 -1.105007  0.982472               0                0   \n\n   browser_Internet Explorer  browser_Safari  os_Debian  os_MacOS  os_Ubuntu  \\\n0                          0               0          0         0          0   \n1                          1               0          0         0          0   \n2                          1               0          0         1          0   \n3                          1               0          0         0          1   \n4                          1               0          0         0          0   \n\n   os_Windows 10  ...  location_Netherlands/Amsterdam  \\\n0              1  ...                               0   \n1              0  ...                               0   \n2              0  ...                               0   \n3              0  ...                               0   \n4              0  ...                               0   \n\n   location_New Zealand/Auckland  location_Russia/Moscow  \\\n0                              0                       0   \n1                              0                       0   \n2                              0                       0   \n3                              0                       0   \n4                              0                       0   \n\n   location_Singapore/Singapore  location_Spain/Madrid  location_UK/London  \\\n0                             0                      0                   0   \n1                             0                      0                   0   \n2                             0                      0                   0   \n3                             0                      0                   0   \n4                             0                      0                   0   \n\n   location_USA/Chicago  location_USA/Miami  location_USA/New York  \\\n0                     0                   0                      0   \n1                     0                   0                      0   \n2                     0                   0                      0   \n3                     0                   0                      0   \n4                     0                   0                      0   \n\n   location_USA/San Francisco  \n0                           0  \n1                           0  \n2                           0  \n3                           0  \n4                           0  \n\n[5 rows x 58 columns]",
      "text/html": "<div>\n<style scoped>\n    .dataframe tbody tr th:only-of-type {\n        vertical-align: middle;\n    }\n\n    .dataframe tbody tr th {\n        vertical-align: top;\n    }\n\n    .dataframe thead th {\n        text-align: right;\n    }\n</style>\n<table border=\"1\" class=\"dataframe\">\n  <thead>\n    <tr style=\"text-align: right;\">\n      <th></th>\n      <th>time</th>\n      <th>date</th>\n      <th>browser_Chrome</th>\n      <th>browser_Firefox</th>\n      <th>browser_Internet Explorer</th>\n      <th>browser_Safari</th>\n      <th>os_Debian</th>\n      <th>os_MacOS</th>\n      <th>os_Ubuntu</th>\n      <th>os_Windows 10</th>\n      <th>...</th>\n      <th>location_Netherlands/Amsterdam</th>\n      <th>location_New Zealand/Auckland</th>\n      <th>location_Russia/Moscow</th>\n      <th>location_Singapore/Singapore</th>\n      <th>location_Spain/Madrid</th>\n      <th>location_UK/London</th>\n      <th>location_USA/Chicago</th>\n      <th>location_USA/Miami</th>\n      <th>location_USA/New York</th>\n      <th>location_USA/San Francisco</th>\n    </tr>\n  </thead>\n  <tbody>\n    <tr>\n      <th>0</th>\n      <td>0.378908</td>\n      <td>-0.024287</td>\n      <td>0</td>\n      <td>1</td>\n      <td>0</td>\n      <td>0</td>\n      <td>0</td>\n      <td>0</td>\n      <td>0</td>\n      <td>1</td>\n      <td>...</td>\n      <td>0</td>\n      <td>0</td>\n      <td>0</td>\n      <td>0</td>\n      <td>0</td>\n      <td>0</td>\n      <td>0</td>\n      <td>0</td>\n      <td>0</td>\n      <td>0</td>\n    </tr>\n    <tr>\n      <th>1</th>\n      <td>-0.902326</td>\n      <td>0.479092</td>\n      <td>0</td>\n      <td>0</td>\n      <td>1</td>\n      <td>0</td>\n      <td>0</td>\n      <td>0</td>\n      <td>0</td>\n      <td>0</td>\n      <td>...</td>\n      <td>0</td>\n      <td>0</td>\n      <td>0</td>\n      <td>0</td>\n      <td>0</td>\n      <td>0</td>\n      <td>0</td>\n      <td>0</td>\n      <td>0</td>\n      <td>0</td>\n    </tr>\n    <tr>\n      <th>2</th>\n      <td>0.062822</td>\n      <td>1.485851</td>\n      <td>0</td>\n      <td>0</td>\n      <td>1</td>\n      <td>0</td>\n      <td>0</td>\n      <td>1</td>\n      <td>0</td>\n      <td>0</td>\n      <td>...</td>\n      <td>0</td>\n      <td>0</td>\n      <td>0</td>\n      <td>0</td>\n      <td>0</td>\n      <td>0</td>\n      <td>0</td>\n      <td>0</td>\n      <td>0</td>\n      <td>0</td>\n    </tr>\n    <tr>\n      <th>3</th>\n      <td>-0.793747</td>\n      <td>-0.024287</td>\n      <td>0</td>\n      <td>0</td>\n      <td>1</td>\n      <td>0</td>\n      <td>0</td>\n      <td>0</td>\n      <td>1</td>\n      <td>0</td>\n      <td>...</td>\n      <td>0</td>\n      <td>0</td>\n      <td>0</td>\n      <td>0</td>\n      <td>0</td>\n      <td>0</td>\n      <td>0</td>\n      <td>0</td>\n      <td>0</td>\n      <td>0</td>\n    </tr>\n    <tr>\n      <th>4</th>\n      <td>-1.105007</td>\n      <td>0.982472</td>\n      <td>0</td>\n      <td>0</td>\n      <td>1</td>\n      <td>0</td>\n      <td>0</td>\n      <td>0</td>\n      <td>0</td>\n      <td>0</td>\n      <td>...</td>\n      <td>0</td>\n      <td>0</td>\n      <td>0</td>\n      <td>0</td>\n      <td>0</td>\n      <td>0</td>\n      <td>0</td>\n      <td>0</td>\n      <td>0</td>\n      <td>0</td>\n    </tr>\n  </tbody>\n</table>\n<p>5 rows × 58 columns</p>\n</div>"
     },
     "execution_count": 20,
     "metadata": {},
     "output_type": "execute_result"
    }
   ],
   "source": [
    "X = pd.get_dummies(X)\n",
    "X.head()"
   ],
   "metadata": {
    "collapsed": false
   }
  },
  {
   "cell_type": "code",
   "execution_count": 21,
   "outputs": [],
   "source": [
    "from sklearn.model_selection import train_test_split\n",
    "\n",
    "X_train, X_test, y_train, y_test = train_test_split(X, y, test_size=0.2, random_state=SEED, stratify=y)"
   ],
   "metadata": {
    "collapsed": false
   }
  },
  {
   "cell_type": "code",
   "execution_count": 26,
   "outputs": [
    {
     "name": "stdout",
     "output_type": "stream",
     "text": [
      "Epoch 1/20\ttrain_loss=0.6876276731491089\ttest_loss=0.6595177054405212\n",
      "Epoch 2/20\ttrain_loss=0.6598530411720276\ttest_loss=0.6318469047546387\n",
      "Epoch 3/20\ttrain_loss=0.6322126388549805\ttest_loss=0.6025518178939819\n",
      "Epoch 4/20\ttrain_loss=0.60291987657547\ttest_loss=0.5702773928642273\n",
      "Epoch 5/20\ttrain_loss=0.5705813765525818\ttest_loss=0.53460693359375\n",
      "Epoch 6/20\ttrain_loss=0.534771740436554\ttest_loss=0.49584734439849854\n",
      "Epoch 7/20\ttrain_loss=0.49585163593292236\ttest_loss=0.4546821713447571\n",
      "Epoch 8/20\ttrain_loss=0.4545183777809143\ttest_loss=0.4118371307849884\n",
      "Epoch 9/20\ttrain_loss=0.4114987254142761\ttest_loss=0.3684648871421814\n",
      "Epoch 10/20\ttrain_loss=0.36794763803482056\ttest_loss=0.3256349265575409\n",
      "Epoch 11/20\ttrain_loss=0.32493874430656433\ttest_loss=0.28451094031333923\n",
      "Epoch 12/20\ttrain_loss=0.28363731503486633\ttest_loss=0.24600110948085785\n",
      "Epoch 13/20\ttrain_loss=0.24497316777706146\ttest_loss=0.210787832736969\n",
      "Epoch 14/20\ttrain_loss=0.20963332056999207\ttest_loss=0.17936959862709045\n",
      "Epoch 15/20\ttrain_loss=0.1781023144721985\ttest_loss=0.15199756622314453\n",
      "Epoch 16/20\ttrain_loss=0.15061967074871063\ttest_loss=0.12859618663787842\n",
      "Epoch 17/20\ttrain_loss=0.12712743878364563\ttest_loss=0.10888316482305527\n",
      "Epoch 18/20\ttrain_loss=0.10735182464122772\ttest_loss=0.09246771782636642\n",
      "Epoch 19/20\ttrain_loss=0.09089688956737518\ttest_loss=0.0788954421877861\n",
      "Epoch 20/20\ttrain_loss=0.07731358706951141\ttest_loss=0.06773747503757477\n"
     ]
    }
   ],
   "source": [
    "import torch\n",
    "from torch import nn\n",
    "\n",
    "torch.manual_seed(SEED)\n",
    "\n",
    "device = torch.device('cuda' if torch.cuda.is_available() else 'cpu')\n",
    "NUM_EPOCH = 20\n",
    "NUM_NEURONS = 32\n",
    "model = nn.Sequential(\n",
    "    nn.Linear(X_train.shape[1], NUM_NEURONS),\n",
    "    nn.ReLU(),\n",
    "    nn.Linear(NUM_NEURONS, 1),\n",
    "    nn.Sigmoid()\n",
    ").to(device)\n",
    "criterion = nn.BCELoss()\n",
    "optimizer = torch.optim.Adam(model.parameters(), lr=0.01)\n",
    "for epoch in range(NUM_EPOCH):\n",
    "    model.train()\n",
    "    optimizer.zero_grad()\n",
    "    y_train_pred = model(torch.Tensor(X_train.values).to(device))\n",
    "    train_loss = criterion(y_train_pred.squeeze(), torch.Tensor(y_train.values).float().to(device))\n",
    "    train_loss.backward()\n",
    "    optimizer.step()\n",
    "\n",
    "    with torch.no_grad():\n",
    "        model.eval()\n",
    "        y_test_pred = model(torch.Tensor(X_test.values).to(device))\n",
    "        test_loss = criterion(y_test_pred.squeeze(),\n",
    "                              torch.Tensor(y_test.values).float().to(device)).item()\n",
    "\n",
    "    print(f\"Epoch {epoch + 1}/{NUM_EPOCH}\\ttrain_loss={train_loss.item()}\\t{test_loss=}\")"
   ],
   "metadata": {
    "collapsed": false
   }
  },
  {
   "cell_type": "code",
   "execution_count": 27,
   "outputs": [
    {
     "name": "stdout",
     "output_type": "stream",
     "text": [
      "(array([0, 1], dtype=int8), array([3909, 4092]))\n",
      "              precision    recall  f1-score   support\n",
      "\n",
      "           0       1.00      0.98      0.99      4001\n",
      "           1       0.98      1.00      0.99      4000\n",
      "\n",
      "    accuracy                           0.99      8001\n",
      "   macro avg       0.99      0.99      0.99      8001\n",
      "weighted avg       0.99      0.99      0.99      8001\n",
      "\n"
     ]
    }
   ],
   "source": [
    "from sklearn.metrics import classification_report\n",
    "\n",
    "y_pred = y_test_pred.cpu().detach().numpy().squeeze().round().astype(np.int8)\n",
    "print(np.unique(y_pred, return_counts=True))\n",
    "print(classification_report(y_test, y_pred, zero_division=0))"
   ],
   "metadata": {
    "collapsed": false
   }
  },
  {
   "cell_type": "code",
   "execution_count": 28,
   "outputs": [
    {
     "data": {
      "text/plain": "   browser          os locale          location      time        date\n0  Firefox   Windows 7  xh-ZA      USA/New York  11:30:00  2016-10-05\n1   Chrome  Windows 10  pl-PL       Japan/Tokyo  14:35:00  2016-05-06\n2  Firefox      Debian  vi-VN      France/Paris  14:31:00  2016-03-27\n3  Firefox      Debian  en-US  Canada/Vancouver  10:55:00  2016-12-31\n4  Firefox      Debian  en-CA  Australia/Sydney  03:30:00  2017-01-19",
      "text/html": "<div>\n<style scoped>\n    .dataframe tbody tr th:only-of-type {\n        vertical-align: middle;\n    }\n\n    .dataframe tbody tr th {\n        vertical-align: top;\n    }\n\n    .dataframe thead th {\n        text-align: right;\n    }\n</style>\n<table border=\"1\" class=\"dataframe\">\n  <thead>\n    <tr style=\"text-align: right;\">\n      <th></th>\n      <th>browser</th>\n      <th>os</th>\n      <th>locale</th>\n      <th>location</th>\n      <th>time</th>\n      <th>date</th>\n    </tr>\n  </thead>\n  <tbody>\n    <tr>\n      <th>0</th>\n      <td>Firefox</td>\n      <td>Windows 7</td>\n      <td>xh-ZA</td>\n      <td>USA/New York</td>\n      <td>11:30:00</td>\n      <td>2016-10-05</td>\n    </tr>\n    <tr>\n      <th>1</th>\n      <td>Chrome</td>\n      <td>Windows 10</td>\n      <td>pl-PL</td>\n      <td>Japan/Tokyo</td>\n      <td>14:35:00</td>\n      <td>2016-05-06</td>\n    </tr>\n    <tr>\n      <th>2</th>\n      <td>Firefox</td>\n      <td>Debian</td>\n      <td>vi-VN</td>\n      <td>France/Paris</td>\n      <td>14:31:00</td>\n      <td>2016-03-27</td>\n    </tr>\n    <tr>\n      <th>3</th>\n      <td>Firefox</td>\n      <td>Debian</td>\n      <td>en-US</td>\n      <td>Canada/Vancouver</td>\n      <td>10:55:00</td>\n      <td>2016-12-31</td>\n    </tr>\n    <tr>\n      <th>4</th>\n      <td>Firefox</td>\n      <td>Debian</td>\n      <td>en-CA</td>\n      <td>Australia/Sydney</td>\n      <td>03:30:00</td>\n      <td>2017-01-19</td>\n    </tr>\n  </tbody>\n</table>\n</div>"
     },
     "execution_count": 28,
     "metadata": {},
     "output_type": "execute_result"
    }
   ],
   "source": [
    "test_df = pd.read_csv('task_1_verify.csv')\n",
    "raw_x = test_df.drop(columns=['sites'])\n",
    "raw_x.head()"
   ],
   "metadata": {
    "collapsed": false
   }
  },
  {
   "cell_type": "code",
   "execution_count": 42,
   "outputs": [],
   "source": [
    "def get_cat_cols(df):\n",
    "    return df.columns[~df.columns.isin(('date', 'time'))]"
   ],
   "metadata": {
    "collapsed": false
   }
  },
  {
   "cell_type": "code",
   "execution_count": 62,
   "outputs": [
    {
     "data": {
      "text/plain": "       time      date  browser_Chrome  browser_Firefox  \\\n0 -0.016803 -0.527666               0                1   \n1  0.429578  0.479092               1                0   \n2  0.419926  1.485851               0                1   \n3 -0.101253  0.982472               0                1   \n4 -1.174980 -0.024287               0                1   \n\n   browser_Internet Explorer  browser_Safari  os_Debian  os_MacOS  os_Ubuntu  \\\n0                          0               0          0         0          0   \n1                          0               0          0         0          0   \n2                          0               0          1         0          0   \n3                          0               0          1         0          0   \n4                          0               0          1         0          0   \n\n   os_Windows 10  ...  location_Netherlands/Amsterdam  \\\n0              0  ...                               0   \n1              1  ...                               0   \n2              0  ...                               0   \n3              0  ...                               0   \n4              0  ...                               0   \n\n   location_New Zealand/Auckland  location_Russia/Moscow  \\\n0                              0                       0   \n1                              0                       0   \n2                              0                       0   \n3                              0                       0   \n4                              0                       0   \n\n   location_Singapore/Singapore  location_Spain/Madrid  location_UK/London  \\\n0                             0                      0                   0   \n1                             0                      0                   0   \n2                             0                      0                   0   \n3                             0                      0                   0   \n4                             0                      0                   0   \n\n   location_USA/Chicago  location_USA/Miami  location_USA/New York  \\\n0                     0                   0                      1   \n1                     0                   0                      0   \n2                     0                   0                      0   \n3                     0                   0                      0   \n4                     0                   0                      0   \n\n   location_USA/San Francisco  \n0                           0  \n1                           0  \n2                           0  \n3                           0  \n4                           0  \n\n[5 rows x 58 columns]",
      "text/html": "<div>\n<style scoped>\n    .dataframe tbody tr th:only-of-type {\n        vertical-align: middle;\n    }\n\n    .dataframe tbody tr th {\n        vertical-align: top;\n    }\n\n    .dataframe thead th {\n        text-align: right;\n    }\n</style>\n<table border=\"1\" class=\"dataframe\">\n  <thead>\n    <tr style=\"text-align: right;\">\n      <th></th>\n      <th>time</th>\n      <th>date</th>\n      <th>browser_Chrome</th>\n      <th>browser_Firefox</th>\n      <th>browser_Internet Explorer</th>\n      <th>browser_Safari</th>\n      <th>os_Debian</th>\n      <th>os_MacOS</th>\n      <th>os_Ubuntu</th>\n      <th>os_Windows 10</th>\n      <th>...</th>\n      <th>location_Netherlands/Amsterdam</th>\n      <th>location_New Zealand/Auckland</th>\n      <th>location_Russia/Moscow</th>\n      <th>location_Singapore/Singapore</th>\n      <th>location_Spain/Madrid</th>\n      <th>location_UK/London</th>\n      <th>location_USA/Chicago</th>\n      <th>location_USA/Miami</th>\n      <th>location_USA/New York</th>\n      <th>location_USA/San Francisco</th>\n    </tr>\n  </thead>\n  <tbody>\n    <tr>\n      <th>0</th>\n      <td>-0.016803</td>\n      <td>-0.527666</td>\n      <td>0</td>\n      <td>1</td>\n      <td>0</td>\n      <td>0</td>\n      <td>0</td>\n      <td>0</td>\n      <td>0</td>\n      <td>0</td>\n      <td>...</td>\n      <td>0</td>\n      <td>0</td>\n      <td>0</td>\n      <td>0</td>\n      <td>0</td>\n      <td>0</td>\n      <td>0</td>\n      <td>0</td>\n      <td>1</td>\n      <td>0</td>\n    </tr>\n    <tr>\n      <th>1</th>\n      <td>0.429578</td>\n      <td>0.479092</td>\n      <td>1</td>\n      <td>0</td>\n      <td>0</td>\n      <td>0</td>\n      <td>0</td>\n      <td>0</td>\n      <td>0</td>\n      <td>1</td>\n      <td>...</td>\n      <td>0</td>\n      <td>0</td>\n      <td>0</td>\n      <td>0</td>\n      <td>0</td>\n      <td>0</td>\n      <td>0</td>\n      <td>0</td>\n      <td>0</td>\n      <td>0</td>\n    </tr>\n    <tr>\n      <th>2</th>\n      <td>0.419926</td>\n      <td>1.485851</td>\n      <td>0</td>\n      <td>1</td>\n      <td>0</td>\n      <td>0</td>\n      <td>1</td>\n      <td>0</td>\n      <td>0</td>\n      <td>0</td>\n      <td>...</td>\n      <td>0</td>\n      <td>0</td>\n      <td>0</td>\n      <td>0</td>\n      <td>0</td>\n      <td>0</td>\n      <td>0</td>\n      <td>0</td>\n      <td>0</td>\n      <td>0</td>\n    </tr>\n    <tr>\n      <th>3</th>\n      <td>-0.101253</td>\n      <td>0.982472</td>\n      <td>0</td>\n      <td>1</td>\n      <td>0</td>\n      <td>0</td>\n      <td>1</td>\n      <td>0</td>\n      <td>0</td>\n      <td>0</td>\n      <td>...</td>\n      <td>0</td>\n      <td>0</td>\n      <td>0</td>\n      <td>0</td>\n      <td>0</td>\n      <td>0</td>\n      <td>0</td>\n      <td>0</td>\n      <td>0</td>\n      <td>0</td>\n    </tr>\n    <tr>\n      <th>4</th>\n      <td>-1.174980</td>\n      <td>-0.024287</td>\n      <td>0</td>\n      <td>1</td>\n      <td>0</td>\n      <td>0</td>\n      <td>1</td>\n      <td>0</td>\n      <td>0</td>\n      <td>0</td>\n      <td>...</td>\n      <td>0</td>\n      <td>0</td>\n      <td>0</td>\n      <td>0</td>\n      <td>0</td>\n      <td>0</td>\n      <td>0</td>\n      <td>0</td>\n      <td>0</td>\n      <td>0</td>\n    </tr>\n  </tbody>\n</table>\n<p>5 rows × 58 columns</p>\n</div>"
     },
     "execution_count": 62,
     "metadata": {},
     "output_type": "execute_result"
    }
   ],
   "source": [
    "X = pd.DataFrame(np.zeros((raw_x.shape[0], X_train.shape[1])), columns=X_train.columns, index=raw_x.index, dtype=np.int8)\n",
    "X.time = time_scaler.transform(pd.to_datetime(raw_x.time).to_numpy().reshape((-1, 1)))\n",
    "X.date = date_scaler.transform(pd.to_datetime(raw_x.date).apply(lambda x: x.weekday()).to_numpy().reshape((-1, 1)))\n",
    "dummies = pd.get_dummies(raw_x[get_cat_cols(raw_x)])\n",
    "X[dummies.columns] = dummies\n",
    "X.head()"
   ],
   "metadata": {
    "collapsed": false
   }
  },
  {
   "cell_type": "code",
   "execution_count": 63,
   "outputs": [
    {
     "name": "stdout",
     "output_type": "stream",
     "text": [
      "0: 0\n",
      "1: 0\n",
      "2: 0\n",
      "3: 0\n",
      "4: 0\n",
      "5: 0\n",
      "6: 0\n",
      "7: 0\n",
      "8: 0\n",
      "9: 0\n",
      "10: 0\n",
      "11: 0\n",
      "12: 0\n",
      "13: 0\n",
      "14: 0\n",
      "15: 0\n",
      "16: 0\n",
      "17: 0\n",
      "18: 0\n",
      "19: 0\n",
      "20: 0\n",
      "21: 0\n",
      "22: 0\n",
      "23: 0\n",
      "24: 0\n",
      "25: 0\n",
      "26: 0\n",
      "27: 0\n",
      "28: 0\n",
      "29: 0\n",
      "30: 0\n",
      "31: 1\n",
      "32: 1\n",
      "33: 1\n",
      "34: 1\n",
      "35: 1\n"
     ]
    }
   ],
   "source": [
    "pred = model(torch.Tensor(X.values).to(device)).cpu().detach().numpy().squeeze().round().astype(np.int8)\n",
    "for i, is_waldo in enumerate(pred):\n",
    "    print(f'{i}: {is_waldo}')"
   ],
   "metadata": {
    "collapsed": false
   }
  },
  {
   "cell_type": "markdown",
   "metadata": {},
   "source": [
    "### Questions\n",
    "1. Did you find any usefull insights from your data analysis?\n",
    "    - *Answer*\n",
    "2. What preprocessing techniques did you use? Why?\n",
    "    - *Answer*\n",
    "3. Describe the fine-tuning process and how you reached your model architecture.\n",
    "    - *Answer*\n",
    "4. Which metric did you try to optemize for this task? Why?\n",
    "    - *Answer*"
   ]
  },
  {
   "attachments": {},
   "cell_type": "markdown",
   "metadata": {},
   "source": [
    "# Task 2: Fingerprint Recognition (50 points)\n",
    "Fingerprint recognition is a highly accurate and reliable biometric technology that is used for identification and authentication purposes. By analyzing the unique patterns and ridges on an individual's fingerprint, it is possible to verify their identity with a high degree of confidence. This technology is widely used in law enforcement, border control, and access control systems, as well as in mobile devices and payment systems, to ensure secure and reliable identification and authentication.\n",
    "\n",
    "In this task you will be doing a simplified version of Fingerprint ID, which is just identifying which finger is used in the image\n",
    "\n",
    "## What you need to do\n",
    "\n",
    "For this task, you will be doing image classification:\n",
    "- Build a CNN model for image classification.\n",
    "- Estimate the speed of inference of your model\n",
    "\n",
    "For the given data, you need to do proper data preprocessing, augmentation, and data loaders.\n",
    "\n",
    "Then fine-tune your model architecture to achieve the highest accuracy.\n",
    "\n",
    "### Learning Objectives\n",
    "\n",
    "- Select and implement suitable data preprocessing techniques. 10%\n",
    "- Use literature (any paper on the use of CNN for fingerprinting and cite it) to choose an architecture. 10%\n",
    "- Apply CNNs to solve an image classification problem (basic training, validation, testing -- without fine tuning). 40%\n",
    "- Fine-tune your model to improve performance. 20%\n",
    "- Use of data augmentation to improve model’s performance. 20%\n",
    "- Explore beyond data augmentation find techniques to improve model’s performance and use them. 15%(bonus)\n",
    "\n",
    "\n",
    "### Data\n",
    "[Download link](https://drive.google.com/file/d/1iMIdYKSmCjVL5p-yzy-oInLMtTVt-1_j/view?usp=share_link)\n",
    "\n",
    "You will be working with the data in `task_2.zip` for identifying. The name of each image consists of 2 parts like\n",
    "`idx_label.BMB`\n",
    "\n",
    "Where the idx is the index of the image and the label is the target class.\n",
    "\n",
    "Each label corresponds to a finger:\n",
    "```\n",
    "0-> left_thumb\n",
    "1-> left_index\n",
    "2-> left_middle\n",
    "3-> left_ring\n",
    "4-> left_little\n",
    "5-> right_thumb\n",
    "6-> right_index\n",
    "7-> right_middle\n",
    "8-> right_ring\n",
    "9-> right_little\n",
    "```"
   ]
  },
  {
   "cell_type": "code",
   "execution_count": null,
   "metadata": {
    "collapsed": false,
    "jupyter": {
     "outputs_hidden": false
    }
   },
   "outputs": [],
   "source": [
    "# TODO: Implement task 2"
   ]
  },
  {
   "cell_type": "markdown",
   "metadata": {},
   "source": [
    "### Questions\n",
    "1. What preprocessing techniques did you use? Why?\n",
    "    - *Answer*\n",
    "2. What data augmentation techniques did you use?\n",
    "    - *Answer*\n",
    "3. Describe the fine-tuning process and how you reached your final CNN model.\n",
    "    - *Answer*\n",
    "4. What techniques did you use to improve model’s performance other than data augmentation\n",
    "    - *Answer*"
   ]
  },
  {
   "cell_type": "markdown",
   "metadata": {},
   "source": [
    "# Task 3: Credit approval (15 points)\n",
    "\n",
    "Credit approval is necessary to assess an individual's creditworthiness and determine their eligibility for loans, credit cards, and other financial products. It helps lenders to evaluate the borrower's ability to repay the loan, their credit history, and other financial obligations.\n",
    "Credit approval is important for both lenders and borrowers because it enables lenders to manage their risk and make informed lending decisions while ensuring that borrowers can obtain financing on fair and reasonable terms.\n",
    "\n",
    "In many credit approval applications, it is crucial for the model to be interpretable. This means that the model's inner workings and decision-making process can be easily understood and explained by humans. An interpretable model can help to build trust in the model's output, provide transparency in the decision-making process, and enable regulators to monitor and audit the model's performance. \n",
    "\n",
    "## What you need to do\n",
    "\n",
    "For the `loan_data.csv` data, predict if the bank should give a loan or not.\n",
    "\n",
    "- Fine-tune a decision tree on the data\n",
    "- Fine-tune a random forest on the data\n",
    "- Compare their performance\n",
    "- Visualize your DT and one of the trees from the RF\n",
    "\n",
    "For evaluating your models, do $80/20$ train test split.\n",
    "\n",
    "### Learning Objectives\n",
    "\n",
    "- Apply DTs, and RFs to solve a classification problem (basic training, validation, testing. 50%\n",
    "- Fine-tune to determine the optimal model architecture. 20%\n",
    "- Evaluate and compare the performance of different models. 10%\n",
    "- Visualise the models. 20%\n",
    "\n",
    "\n",
    "### Data\n",
    "- `credit.policy`: Whether the customer meets the credit underwriting criteria.\n",
    "- `purpose`: The purpose of the loan.\n",
    "- `int.rate`: The interest rate of the loan.\n",
    "- `installment`: The monthly installments owed by the borrower if the loan is funded.\n",
    "- `log.annual.inc`: The natural logarithm of the self-reported annual income of the borrower.\n",
    "- `dti`: The debt-to-income ratio of the borrower.\n",
    "- `fico`: The FICO credit score of the borrower.\n",
    "- `days.with.cr.line`: The number of days the borrower has had a credit line.\n",
    "- `revol.bal`: The borrower's revolving balance.\n",
    "- `revol.util`: The borrower's revolving line utilization rate."
   ]
  },
  {
   "cell_type": "code",
   "execution_count": null,
   "metadata": {
    "collapsed": false,
    "jupyter": {
     "outputs_hidden": false
    }
   },
   "outputs": [],
   "source": [
    "# TODO: Implement task 3"
   ]
  },
  {
   "cell_type": "markdown",
   "metadata": {},
   "source": [
    "### Questions\n",
    "1. How did the DT compare to the RF in performance? Why?\n",
    "    - *Answer*\n",
    "2. After fine-tuning, how does the max depth in DT compare to RF? Why?\n",
    "    - *Answer*\n",
    "3. What is ensemble learning? What are its pros and cons?\n",
    "    - *Answer*\n",
    "4. Briefly explain 2 types of boosting methods and 2 types of bagging methods.\n",
    "Which of these categories does RF fall under?\n",
    "    - *Answer*"
   ]
  }
 ],
 "metadata": {
  "kernelspec": {
   "display_name": "Python 3 (ipykernel)",
   "language": "python",
   "name": "python3"
  },
  "language_info": {
   "codemirror_mode": {
    "name": "ipython",
    "version": 3
   },
   "file_extension": ".py",
   "mimetype": "text/x-python",
   "name": "python",
   "nbconvert_exporter": "python",
   "pygments_lexer": "ipython3",
   "version": "3.9.13"
  }
 },
 "nbformat": 4,
 "nbformat_minor": 4
}
